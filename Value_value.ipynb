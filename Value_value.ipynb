{
 "cells": [
  {
   "cell_type": "code",
   "execution_count": 1,
   "metadata": {},
   "outputs": [
    {
     "data": {
      "text/html": [
       "        <script type=\"text/javascript\">\n",
       "        window.PlotlyConfig = {MathJaxConfig: 'local'};\n",
       "        if (window.MathJax) {MathJax.Hub.Config({SVG: {font: \"STIX-Web\"}});}\n",
       "        if (typeof require !== 'undefined') {\n",
       "        require.undef(\"plotly\");\n",
       "        requirejs.config({\n",
       "            paths: {\n",
       "                'plotly': ['https://cdn.plot.ly/plotly-latest.min']\n",
       "            }\n",
       "        });\n",
       "        require(['plotly'], function(Plotly) {\n",
       "            window._Plotly = Plotly;\n",
       "        });\n",
       "        }\n",
       "        </script>\n",
       "        "
      ]
     },
     "metadata": {},
     "output_type": "display_data"
    },
    {
     "data": {
      "text/html": [
       "        <script type=\"text/javascript\">\n",
       "        window.PlotlyConfig = {MathJaxConfig: 'local'};\n",
       "        if (window.MathJax) {MathJax.Hub.Config({SVG: {font: \"STIX-Web\"}});}\n",
       "        if (typeof require !== 'undefined') {\n",
       "        require.undef(\"plotly\");\n",
       "        requirejs.config({\n",
       "            paths: {\n",
       "                'plotly': ['https://cdn.plot.ly/plotly-latest.min']\n",
       "            }\n",
       "        });\n",
       "        require(['plotly'], function(Plotly) {\n",
       "            window._Plotly = Plotly;\n",
       "        });\n",
       "        }\n",
       "        </script>\n",
       "        "
      ]
     },
     "metadata": {},
     "output_type": "display_data"
    }
   ],
   "source": [
    "import numpy as np\n",
    "import pandas as pd\n",
    "import eikon as ek\n",
    "ek.set_app_key('b4229eae2c644ec8a0aab0bb0fb83b13a38eb2c7')\n",
    "import cufflinks as cf\n",
    "import configparser as cp\n",
    "cf.set_config_file(offline = True)\n",
    "from datetime import datetime\n",
    "from datetime import timedelta\n",
    "import scipy as sp\n",
    "import scipy.stats as si\n",
    "import sympy as sy\n",
    "import sympy.stats as systats\n",
    "from IPython.display import display_html\n",
    "import matplotlib.pyplot as plt\n",
    "import matplotlib.ticker as ticker\n",
    "from pandas.plotting import table \n",
    "import matplotlib\n",
    "import seaborn as sns\n",
    "from IPython.display import HTML\n",
    "from arch import arch_model\n",
    "from numpy.linalg import inv\n",
    "from scipy.optimize import fmin_slsqp\n",
    "\n",
    "import plotly.express as px\n",
    "import plotly.graph_objects as go\n",
    "import chart_studio\n",
    "from chart_studio.plotly import plot, iplot\n",
    "import chart_studio.plotly as py\n",
    "from PIL import Image as im\n",
    "#import Lido_funcs3 as lf\n",
    "\n",
    "import time\n",
    "\n",
    "\n",
    "import IPython.display\n",
    "from IPython.display import Image\n",
    "chart_studio.tools.set_credentials_file(username='JGarden79', api_key='eWGoAmjzRp3GIVRTFfSR')\n",
    "\n",
    "import chart_studio.tools as tls\n",
    "\n",
    "import plotly.io as pio\n",
    "\n",
    "import plotly.figure_factory as ff\n",
    "import DatastreamDSWS as DSWS\n",
    "ds = DSWS.Datastream(username = 'JGarden1@lidoadvisors.com', password= 'Welcome2')\n",
    "import warnings\n",
    "warnings.simplefilter(action='ignore', category=FutureWarning)\n",
    "from sklearn.svm import SVC\n",
    "from sklearn.metrics import classification_report, confusion_matrix\n",
    "from plotly.subplots import make_subplots\n",
    "import os\n",
    "\n",
    "if not os.path.exists(\"images\"):\n",
    "    os.mkdir(\"images\")\n",
    "    \n"
   ]
  },
  {
   "cell_type": "code",
   "execution_count": 2,
   "metadata": {},
   "outputs": [],
   "source": [
    "\n",
    "###Import SPY data and create constituant list\n",
    "hold = ek.get_data('SPY', fields = [ek.TR_Field('TR.ETPConstituentRIC',params={'SDate':'2020-10-06'})])[0]\n",
    "hold = hold[hold['Constituent RIC'] != 'GOOG.OQ']\n",
    "rics = [x for x in hold['Constituent RIC']]\n",
    "if 'GOOG.OQ' in rics == True:\n",
    "    rics.remove('GOOG.OQ')\n"
   ]
  },
  {
   "cell_type": "code",
   "execution_count": 3,
   "metadata": {},
   "outputs": [],
   "source": [
    "\n",
    "###Import Sector and valuation data\n",
    "fields = [ek.TR_Field('TR.GICSSectorCode'),ek.TR_Field('TR.FwdPE', params={'Period':'NTM'}), ek.TR_Field('TR.PriceToBVPerShare'), ek.TR_Field('TR.EVToOperatingCashFlow')]\n",
    "data = ek.get_data(rics, fields = fields)[0]"
   ]
  },
  {
   "cell_type": "code",
   "execution_count": 4,
   "metadata": {},
   "outputs": [],
   "source": [
    "#Remove RE and Financials as standard valuation metrics don't apply to these in the same way as the other sectors:\n",
    "data = data[data['GICS Sector Code']!='40'] \n",
    "data = data[data['GICS Sector Code']!='60']"
   ]
  },
  {
   "cell_type": "code",
   "execution_count": 29,
   "metadata": {},
   "outputs": [],
   "source": [
    "###Create training set\n",
    "#### The training set consists of names included in the S&P 500 PURE VALUE and PURE GROWTH indices and serve as a proxie for what \"TRUE\" VALUE/GROWTH stocks look like\n",
    "\n",
    "pure_val = ek.get_data('RPV', fields = [ek.TR_Field('TR.ETPConstituentRIC',params={'SDate':'2020-10-07'})])[0] ####Import HOLDINGS of Pure Value\n",
    "test_rics_val = [x for x in pure_val['Constituent RIC']] #### Move holdings to list for later use\n",
    "time.sleep(15)\n",
    "\n",
    "pure_gr = ek.get_data('RPG', fields = [ek.TR_Field('TR.ETPConstituentRIC',params={'SDate':'2020-10-07'})])[0] ####Import HOLDINGS of Pure Growth\n",
    "test_rics_gro = [x for x in pure_gr['Constituent RIC']]#### Move to list for later use\n",
    "\n",
    "train = pd.DataFrame() ####Establish empty DF\n",
    "\n",
    "###Create the Actual classifications of \"PURE VALUE/GROWTH\" using a Binary Classifier\n",
    "for i in range(0, len(test_rics_val)):####Iterate over a range equal to the number of rics in Value\n",
    "    x = data[data['Instrument'] == test_rics_val[i]] ###look for each \"PURE VALUE\" RIC in the complete dataset\n",
    "    x['Class'] = 1 #### Add a classification value in a new column 1 for value 0 for growth\n",
    "    train = pd.concat([train, x]) ###add the observation (row) to the training data frame\n",
    "    \n",
    "for i in range(0, len(test_rics_gro)): ###***SEE ABOVE***\n",
    "    x = data[data['Instrument'] == test_rics_gro [i]]\n",
    "    x['Class'] = 0\n",
    "    train = pd.concat([train, x])\n",
    "    \n",
    "train = train.dropna()####Remove missing data\n",
    "\n",
    "\n",
    "train = train.sample(frac=1, replace=True, random_state = 42)#### here we create our training data set by randomly selecting data from the training data frame, every item selected is replaced \n",
    "\n"
   ]
  },
  {
   "cell_type": "code",
   "execution_count": 30,
   "metadata": {},
   "outputs": [
    {
     "data": {
      "text/html": [
       "<div>\n",
       "<style scoped>\n",
       "    .dataframe tbody tr th:only-of-type {\n",
       "        vertical-align: middle;\n",
       "    }\n",
       "\n",
       "    .dataframe tbody tr th {\n",
       "        vertical-align: top;\n",
       "    }\n",
       "\n",
       "    .dataframe thead th {\n",
       "        text-align: right;\n",
       "    }\n",
       "</style>\n",
       "<table border=\"1\" class=\"dataframe\">\n",
       "  <thead>\n",
       "    <tr style=\"text-align: right;\">\n",
       "      <th></th>\n",
       "      <th>Instrument</th>\n",
       "      <th>GICS Sector Code</th>\n",
       "      <th>Forward P/E (Daily Time Series Ratio)</th>\n",
       "      <th>Price To Book Value Per Share (Daily Time Series Ratio)</th>\n",
       "      <th>Enterprise Value To Operating Cash Flow (Daily Time Series Ratio)</th>\n",
       "      <th>Class</th>\n",
       "    </tr>\n",
       "  </thead>\n",
       "  <tbody>\n",
       "    <tr>\n",
       "      <th>112</th>\n",
       "      <td>PHM.N</td>\n",
       "      <td>25</td>\n",
       "      <td>7.532821</td>\n",
       "      <td>1.746597</td>\n",
       "      <td>6.723453</td>\n",
       "      <td>0</td>\n",
       "    </tr>\n",
       "    <tr>\n",
       "      <th>103</th>\n",
       "      <td>LMT.N</td>\n",
       "      <td>20</td>\n",
       "      <td>14.057925</td>\n",
       "      <td>20.558711</td>\n",
       "      <td>14.105046</td>\n",
       "      <td>0</td>\n",
       "    </tr>\n",
       "    <tr>\n",
       "      <th>233</th>\n",
       "      <td>AZO.N</td>\n",
       "      <td>25</td>\n",
       "      <td>14.970219</td>\n",
       "      <td>-31.076542</td>\n",
       "      <td>11.275291</td>\n",
       "      <td>0</td>\n",
       "    </tr>\n",
       "    <tr>\n",
       "      <th>39</th>\n",
       "      <td>ALL.N</td>\n",
       "      <td>40</td>\n",
       "      <td>7.698123</td>\n",
       "      <td>1.046934</td>\n",
       "      <td>6.804282</td>\n",
       "      <td>1</td>\n",
       "    </tr>\n",
       "    <tr>\n",
       "      <th>395</th>\n",
       "      <td>CHTR.OQ</td>\n",
       "      <td>50</td>\n",
       "      <td>43.896837</td>\n",
       "      <td>4.555245</td>\n",
       "      <td>15.085936</td>\n",
       "      <td>0</td>\n",
       "    </tr>\n",
       "    <tr>\n",
       "      <th>...</th>\n",
       "      <td>...</td>\n",
       "      <td>...</td>\n",
       "      <td>...</td>\n",
       "      <td>...</td>\n",
       "      <td>...</td>\n",
       "      <td>...</td>\n",
       "    </tr>\n",
       "    <tr>\n",
       "      <th>272</th>\n",
       "      <td>CBOE.Z</td>\n",
       "      <td>40</td>\n",
       "      <td>17.328754</td>\n",
       "      <td>2.823979</td>\n",
       "      <td>7.094706</td>\n",
       "      <td>0</td>\n",
       "    </tr>\n",
       "    <tr>\n",
       "      <th>338</th>\n",
       "      <td>NUE.N</td>\n",
       "      <td>15</td>\n",
       "      <td>16.673740</td>\n",
       "      <td>1.487437</td>\n",
       "      <td>6.213340</td>\n",
       "      <td>1</td>\n",
       "    </tr>\n",
       "    <tr>\n",
       "      <th>198</th>\n",
       "      <td>KSU.N</td>\n",
       "      <td>20</td>\n",
       "      <td>22.430818</td>\n",
       "      <td>3.865616</td>\n",
       "      <td>19.441713</td>\n",
       "      <td>0</td>\n",
       "    </tr>\n",
       "    <tr>\n",
       "      <th>31</th>\n",
       "      <td>BEN.N</td>\n",
       "      <td>40</td>\n",
       "      <td>7.597959</td>\n",
       "      <td>1.000124</td>\n",
       "      <td>9.018696</td>\n",
       "      <td>1</td>\n",
       "    </tr>\n",
       "    <tr>\n",
       "      <th>415</th>\n",
       "      <td>WST.N</td>\n",
       "      <td>35</td>\n",
       "      <td>57.071582</td>\n",
       "      <td>12.319103</td>\n",
       "      <td>48.627142</td>\n",
       "      <td>0</td>\n",
       "    </tr>\n",
       "  </tbody>\n",
       "</table>\n",
       "<p>192 rows × 6 columns</p>\n",
       "</div>"
      ],
      "text/plain": [
       "    Instrument  GICS Sector Code  Forward P/E (Daily Time Series Ratio)  \\\n",
       "112      PHM.N                25                               7.532821   \n",
       "103      LMT.N                20                              14.057925   \n",
       "233      AZO.N                25                              14.970219   \n",
       "39       ALL.N                40                               7.698123   \n",
       "395    CHTR.OQ                50                              43.896837   \n",
       "..         ...               ...                                    ...   \n",
       "272     CBOE.Z                40                              17.328754   \n",
       "338      NUE.N                15                              16.673740   \n",
       "198      KSU.N                20                              22.430818   \n",
       "31       BEN.N                40                               7.597959   \n",
       "415      WST.N                35                              57.071582   \n",
       "\n",
       "     Price To Book Value Per Share (Daily Time Series Ratio)  \\\n",
       "112                                           1.746597         \n",
       "103                                          20.558711         \n",
       "233                                         -31.076542         \n",
       "39                                            1.046934         \n",
       "395                                           4.555245         \n",
       "..                                                 ...         \n",
       "272                                           2.823979         \n",
       "338                                           1.487437         \n",
       "198                                           3.865616         \n",
       "31                                            1.000124         \n",
       "415                                          12.319103         \n",
       "\n",
       "     Enterprise Value To Operating Cash Flow (Daily Time Series Ratio)  Class  \n",
       "112                                           6.723453                      0  \n",
       "103                                          14.105046                      0  \n",
       "233                                          11.275291                      0  \n",
       "39                                            6.804282                      1  \n",
       "395                                          15.085936                      0  \n",
       "..                                                 ...                    ...  \n",
       "272                                           7.094706                      0  \n",
       "338                                           6.213340                      1  \n",
       "198                                          19.441713                      0  \n",
       "31                                            9.018696                      1  \n",
       "415                                          48.627142                      0  \n",
       "\n",
       "[192 rows x 6 columns]"
      ]
     },
     "execution_count": 30,
     "metadata": {},
     "output_type": "execute_result"
    }
   ],
   "source": [
    "train"
   ]
  },
  {
   "cell_type": "code",
   "execution_count": 84,
   "metadata": {},
   "outputs": [],
   "source": [
    "###Set up data for GBDecision Tree Train and Test\n",
    "from sklearn.model_selection import train_test_split\n",
    "from sklearn.ensemble import GradientBoostingClassifier\n",
    "from sklearn import metrics\n",
    "\n",
    "\n",
    "X = train.drop(['Instrument','Class', 'GICS Sector Code'], axis = 1)###This is a DF of features to be fed into the model\n",
    "lims = X.quantile(0.1)\n",
    "lims_2 = X.quantile(0.9)\n",
    "X = X.clip(lims, lims_2, axis = 1)\n",
    "sect = train['GICS Sector Code'].to_list()\n",
    "X['GICS Sector Code'] = sect\n",
    "y = train['Class'] ### These are classifications used to train and test the model befor we apply to our out of sample \n",
    "\n",
    "\n",
    "X_train, X_test, y_train,y_test = train_test_split(X, y) #### randomly split test data into training and testing data\n",
    "\n"
   ]
  },
  {
   "cell_type": "code",
   "execution_count": null,
   "metadata": {},
   "outputs": [],
   "source": []
  },
  {
   "cell_type": "code",
   "execution_count": 124,
   "metadata": {},
   "outputs": [
    {
     "data": {
      "text/plain": [
       "(0.9305555555555556, 0.9166666666666666)"
      ]
     },
     "execution_count": 124,
     "metadata": {},
     "output_type": "execute_result"
    }
   ],
   "source": [
    "###Fit Classification Algo and apply to test data, check accuracy \n",
    "clf = GradientBoostingClassifier(learning_rate=0.01, n_estimators=150, random_state=42, max_depth=2).fit(X_train, y_train)\n",
    "accuracy_train = clf.score(X_train, y_train)\n",
    "accuracy_test = clf.score(X_test, y_test)\n",
    "accuracy_train, accuracy_test\n"
   ]
  },
  {
   "cell_type": "code",
   "execution_count": 125,
   "metadata": {},
   "outputs": [],
   "source": [
    "###Apply model to evaluation set (out of sample data)\n",
    "X_eval = data.drop(['Instrument'], axis = 1).dropna()\n",
    "sect = X_eval['GICS Sector Code'].to_list()\n",
    "X_eval = X_eval.drop(['GICS Sector Code'], axis=1)\n",
    "lims = X_eval.quantile(0.1)\n",
    "lims_2 = X_eval.quantile(0.9)\n",
    "X_eval = X_eval.clip(lims, lims_2, axis = 1)\n",
    "X_eval['GICS Sector Code'] = sect\n",
    "\n",
    "\n",
    "OS_res = clf.predict(X_eval)\n",
    "OS_probs = clf.predict_proba(X_eval)\n",
    "\n",
    "clf_results = data.dropna()\n",
    "clf_results['Predictions'] = OS_res\n",
    "clf_results['Probs'] = [p[0] for p in OS_probs ]"
   ]
  },
  {
   "cell_type": "code",
   "execution_count": 126,
   "metadata": {},
   "outputs": [],
   "source": [
    "###This will look all stocks included in the \"VALUE\" Index of the S&P 500 \n",
    "SPYV = ek.get_data('SPYV.K', fields = [ek.TR_Field('TR.ETPConstituentRIC',params={'SDate':'2020-10-07'})])[0]\n",
    "actuals = [x for x in SPYV['Constituent RIC']]\n",
    "j = clf_results['Instrument'].tolist()\n",
    "y_real = []\n",
    "\n",
    "for i in j:\n",
    "    if i in actuals:\n",
    "        y_real.append(1)\n",
    "    else:\n",
    "        y_real.append(0)\n",
    "\n",
    "clf_results['Actuals'] = y_real\n",
    "\n",
    "###The loop basicly adds the classification based on membership in the VALUE ETF, this also has implications for overlapping securities (they will be considerd value) \n",
    "\n"
   ]
  },
  {
   "cell_type": "code",
   "execution_count": 127,
   "metadata": {},
   "outputs": [],
   "source": [
    "accu = metrics.accuracy_score(clf_results['Actuals'], clf_results['Predictions'])\n",
    "y_eval = clf_results['Predictions'].to_numpy()"
   ]
  },
  {
   "cell_type": "code",
   "execution_count": 128,
   "metadata": {},
   "outputs": [],
   "source": [
    "clf_results['hits'] = abs(clf_results['Predictions'] - clf_results['Actuals'])\n",
    "clf_results['hits'] = clf_results['hits'].replace(0, 'green')\n",
    "clf_results['hits'] = clf_results['hits'].replace(0, 'red')"
   ]
  },
  {
   "cell_type": "code",
   "execution_count": 129,
   "metadata": {},
   "outputs": [
    {
     "data": {
      "text/plain": [
       "0.5203426124197003"
      ]
     },
     "execution_count": 129,
     "metadata": {},
     "output_type": "execute_result"
    }
   ],
   "source": [
    "accu"
   ]
  },
  {
   "cell_type": "code",
   "execution_count": 130,
   "metadata": {},
   "outputs": [],
   "source": [
    "import adspy_shared_utilities as asu"
   ]
  },
  {
   "cell_type": "code",
   "execution_count": 133,
   "metadata": {},
   "outputs": [
    {
     "name": "stdout",
     "output_type": "stream",
     "text": [
      "['GICS Sector Code' 'Forward P/E (Daily Time Series Ratio)'\n",
      " 'Price To Book Value Per Share (Daily Time Series Ratio)'\n",
      " 'Enterprise Value To Operating Cash Flow (Daily Time Series Ratio)'] [0.13375703 0.42215536 0.41900082 0.02508679]\n"
     ]
    }
   ],
   "source": [
    "feat_names = data.drop(['Instrument'], axis = 1).columns.to_numpy()\n",
    "\n",
    "print(feat_names, clf.feature_importances_)"
   ]
  },
  {
   "cell_type": "code",
   "execution_count": 136,
   "metadata": {},
   "outputs": [
    {
     "data": {
      "application/vnd.plotly.v1+json": {
       "config": {
        "plotlyServerURL": "https://plot.ly"
       },
       "data": [
        {
         "marker": {
          "color": [
           "green",
           1,
           1,
           "green",
           "green",
           1,
           1,
           1,
           1,
           "green",
           1,
           "green",
           "green",
           "green",
           1,
           "green",
           1,
           1,
           "green",
           "green",
           "green",
           "green",
           "green",
           "green",
           1,
           "green",
           1,
           "green",
           "green",
           "green",
           "green",
           "green",
           "green",
           1,
           "green",
           "green",
           "green",
           1,
           "green",
           "green",
           1,
           1,
           "green",
           1,
           "green",
           1,
           "green",
           "green",
           "green",
           1,
           1,
           1,
           "green",
           1,
           "green",
           "green",
           "green",
           "green",
           1,
           1,
           "green",
           "green",
           1,
           "green",
           1,
           "green",
           "green",
           "green",
           "green",
           "green",
           "green",
           1,
           "green",
           "green",
           "green",
           "green",
           1,
           1,
           1,
           "green",
           1,
           "green",
           "green",
           1,
           "green",
           1,
           1,
           1,
           1,
           1,
           "green",
           1,
           "green",
           "green",
           "green",
           "green",
           1,
           "green",
           "green",
           1,
           1,
           1,
           1,
           1,
           "green",
           "green",
           "green",
           "green",
           1,
           1,
           "green",
           "green",
           "green",
           "green",
           1,
           1,
           "green",
           "green",
           1,
           "green",
           1,
           "green",
           "green",
           "green",
           "green",
           "green",
           1,
           "green",
           1,
           1,
           1,
           1,
           "green",
           1,
           "green",
           "green",
           1,
           1,
           1,
           1,
           1,
           1,
           1,
           "green",
           1,
           "green",
           "green",
           1,
           1,
           "green",
           1,
           1,
           "green",
           1,
           1,
           "green",
           1,
           "green",
           "green",
           1,
           1,
           "green",
           1,
           1,
           1,
           1,
           1,
           1,
           1,
           1,
           1,
           "green",
           1,
           1,
           1,
           1,
           "green",
           1,
           "green",
           "green",
           "green",
           1,
           "green",
           "green",
           1,
           "green",
           1,
           "green",
           "green",
           "green",
           1,
           1,
           "green",
           1,
           1,
           "green",
           "green",
           1,
           1,
           1,
           1,
           "green",
           1,
           1,
           "green",
           1,
           1,
           "green",
           "green",
           1,
           1,
           "green",
           1,
           "green",
           "green",
           "green",
           "green",
           1,
           1,
           "green",
           "green",
           1,
           "green",
           1,
           "green",
           "green",
           "green",
           "green",
           "green",
           1,
           1,
           1,
           "green",
           "green",
           "green",
           "green",
           1,
           "green",
           1,
           "green",
           "green",
           1,
           "green",
           1,
           1,
           1,
           1,
           1,
           1,
           "green",
           "green",
           1,
           1,
           1,
           1,
           1,
           "green",
           "green",
           1,
           1,
           "green",
           "green",
           "green",
           1,
           1,
           "green",
           1,
           "green",
           "green",
           1,
           "green",
           "green",
           1,
           "green",
           "green",
           "green",
           1,
           1,
           1,
           "green",
           1,
           "green",
           1,
           1,
           1,
           "green",
           "green",
           "green",
           "green",
           1,
           "green",
           1,
           "green",
           "green",
           "green",
           "green",
           1,
           "green",
           "green",
           1,
           "green",
           "green",
           1,
           "green",
           "green",
           1,
           1,
           "green",
           "green",
           "green",
           1,
           1,
           "green",
           "green",
           "green",
           1,
           1,
           1,
           1,
           1,
           1,
           1,
           1,
           "green",
           1,
           1,
           1,
           "green",
           "green",
           "green",
           1,
           "green",
           1,
           "green",
           "green",
           "green",
           1,
           "green",
           1,
           1,
           "green",
           "green",
           "green",
           1,
           "green",
           "green",
           "green",
           "green",
           1,
           "green",
           "green",
           1,
           "green",
           1,
           1,
           1,
           "green",
           1,
           1,
           1,
           1,
           "green",
           "green",
           "green",
           "green",
           1,
           "green",
           "green",
           1,
           "green",
           1,
           "green",
           "green",
           1,
           1,
           1,
           "green",
           1,
           1,
           "green",
           "green",
           1,
           1,
           1,
           "green",
           "green",
           "green",
           "green",
           "green",
           "green",
           1,
           "green",
           "green",
           "green",
           1,
           1,
           1,
           "green",
           1,
           1,
           1,
           "green",
           "green",
           "green",
           "green",
           1,
           "green",
           "green",
           1,
           1,
           "green",
           1,
           1,
           1,
           1,
           "green",
           "green",
           1,
           "green",
           1,
           "green",
           1,
           1,
           1,
           1,
           1,
           1,
           "green",
           1,
           1,
           1,
           1,
           "green",
           1,
           "green",
           "green",
           1,
           "green",
           1,
           1,
           1,
           "green",
           "green",
           "green",
           "green",
           "green",
           1,
           "green",
           1,
           "green",
           "green",
           "green",
           "green",
           "green",
           "green",
           1,
           "green",
           1,
           1,
           "green",
           "green",
           "green",
           "green",
           1,
           "green",
           1,
           "green"
          ]
         },
         "mode": "markers",
         "text": [
          "SHW.N",
          "DTE.N",
          "LOW.N",
          "WBA.OQ",
          "MAR.OQ",
          "EMR.N",
          "WEC.N",
          "LEG.N",
          "REG.OQ",
          "MS.N",
          "BLK.N",
          "HOLX.OQ",
          "DVN.N",
          "ALLE.N",
          "PEAK.N",
          "DLTR.OQ",
          "AIV.N",
          "PAYX.OQ",
          "TER.OQ",
          "WDC.OQ",
          "PWR.N",
          "XOM.N",
          "CMA.N",
          "DISCK.OQ",
          "NDAQ.OQ",
          "DPZ.N",
          "BXP.N",
          "BEN.N",
          "AMAT.OQ",
          "FLT.N",
          "ZION.OQ",
          "RF.N",
          "DISH.OQ",
          "PEG.N",
          "ALL.N",
          "SLB.N",
          "PGR.N",
          "SWKS.OQ",
          "EL.N",
          "NOC.N",
          "PKG.N",
          "CSX.OQ",
          "MSCI.N",
          "CERN.OQ",
          "ANSS.OQ",
          "UNH.N",
          "ALGN.OQ",
          "NLSN.N",
          "TTWO.OQ",
          "BIO.N",
          "CAG.N",
          "XLNX.OQ",
          "ADBE.OQ",
          "NTRS.OQ",
          "SPGI.N",
          "CVX.N",
          "AIZ.N",
          "PRGO.N",
          "CNC.N",
          "AKAM.OQ",
          "COG.N",
          "BIIB.OQ",
          "K.N",
          "EQIX.OQ",
          "DD.N",
          "WFC.N",
          "SJM.N",
          "ZBRA.OQ",
          "CPRT.OQ",
          "BFb.N",
          "NOW.N",
          "IBM.N",
          "PAYC.N",
          "DXC.N",
          "NFLX.OQ",
          "GL.N",
          "HON.N",
          "APTV.N",
          "GIS.N",
          "NRG.N",
          "SEE.N",
          "ROST.OQ",
          "BMY.N",
          "ALB.N",
          "APD.N",
          "DOW.N",
          "REGN.OQ",
          "XRX.N",
          "VTR.N",
          "PNW.N",
          "AFL.N",
          "AON.N",
          "LMT.N",
          "ZTS.N",
          "ABC.N",
          "CDNS.OQ",
          "EA.OQ",
          "ORLY.OQ",
          "FITB.OQ",
          "CHRW.OQ",
          "ECL.N",
          "PHM.N",
          "EXR.N",
          "VRSN.OQ",
          "TXT.N",
          "EBAY.OQ",
          "BAC.N",
          "PYPL.OQ",
          "CMCSA.OQ",
          "EQR.N",
          "SBUX.OQ",
          "EW.N",
          "TMO.N",
          "HPE.N",
          "HAS.OQ",
          "IR.N",
          "KHC.OQ",
          "HAL.N",
          "BR.N",
          "QCOM.OQ",
          "ATVI.OQ",
          "DGX.N",
          "TDG.N",
          "LNC.N",
          "IPG.N",
          "JNPR.N",
          "TMUS.OQ",
          "CTLT.N",
          "ESS.N",
          "WLTW.OQ",
          "JBHT.OQ",
          "AMGN.OQ",
          "TAP.N",
          "EFX.N",
          "DISCA.OQ",
          "GRMN.OQ",
          "NI.N",
          "ILMN.OQ",
          "CSCO.OQ",
          "FRC.N",
          "MDLZ.OQ",
          "FLIR.OQ",
          "VNO.N",
          "LHX.N",
          "NKE.N",
          "ANTM.N",
          "PPL.N",
          "CCI.N",
          "FAST.OQ",
          "RJF.N",
          "FCX.N",
          "LNT.OQ",
          "NWSA.OQ",
          "FFIV.OQ",
          "MCD.N",
          "ADSK.OQ",
          "XEL.OQ",
          "IDXX.OQ",
          "LB.N",
          "PCAR.OQ",
          "PSA.N",
          "PVH.N",
          "KO.N",
          "HRL.N",
          "TEL.N",
          "JPM.N",
          "GE.N",
          "FLS.N",
          "BDX.N",
          "MMC.N",
          "WELL.N",
          "MSFT.OQ",
          "VFC.N",
          "GPN.N",
          "MRK.N",
          "PG.N",
          "FANG.OQ",
          "UNP.N",
          "FB.OQ",
          "PXD.N",
          "RE.N",
          "CTXS.OQ",
          "TSN.N",
          "KSU.N",
          "WMT.N",
          "NVR.N",
          "IFF.N",
          "KLAC.OQ",
          "MTB.N",
          "HBAN.OQ",
          "DLR.N",
          "MTD.N",
          "CB.N",
          "PEP.OQ",
          "ABMD.OQ",
          "MCK.N",
          "EVRG.N",
          "MMM.N",
          "MAA.N",
          "WM.N",
          "AJG.N",
          "WHR.N",
          "RTX.N",
          "HSY.N",
          "CMG.N",
          "ORCL.N",
          "COST.OQ",
          "VIAC.OQ",
          "TDY.N",
          "ED.N",
          "STX.OQ",
          "APH.N",
          "WAB.N",
          "PNC.N",
          "FE.N",
          "HLT.N",
          "MCHP.OQ",
          "AZO.N",
          "WAT.N",
          "WRK.N",
          "CINF.OQ",
          "FTV.N",
          "TJX.N",
          "NSC.N",
          "LRCX.OQ",
          "KMX.N",
          "MHK.N",
          "KEY.N",
          "FOXA.OQ",
          "J.N",
          "AVY.N",
          "LLY.N",
          "SIVB.OQ",
          "CTVA.N",
          "CXO.N",
          "GILD.OQ",
          "ES.N",
          "V.N",
          "ITW.N",
          "GPS.N",
          "PBCT.OQ",
          "ABT.N",
          "CPRI.N",
          "AXP.N",
          "SPG.N",
          "JNJ.N",
          "ULTA.OQ",
          "ZBH.N",
          "LW.N",
          "UNM.N",
          "GS.N",
          "ADP.OQ",
          "CMS.N",
          "WY.N",
          "CBOE.Z",
          "O.N",
          "ROP.N",
          "FDX.N",
          "AMCR.N",
          "XRAY.OQ",
          "MLM.N",
          "KMI.N",
          "HBI.N",
          "AEP.OQ",
          "AVB.N",
          "INTC.OQ",
          "DRI.N",
          "LKQ.OQ",
          "ABBV.N",
          "ATO.N",
          "PRU.N",
          "KEYS.N",
          "SRE.N",
          "C.N",
          "TIF.N",
          "TGT.N",
          "LDOS.N",
          "ICE.N",
          "INFO.N",
          "MSI.N",
          "STZ.N",
          "AIG.N",
          "SCHW.N",
          "IQV.N",
          "DE.N",
          "DFS.N",
          "BBY.N",
          "DG.N",
          "EXC.OQ",
          "MNST.OQ",
          "AMD.OQ",
          "KMB.N",
          "WRB.N",
          "TFX.N",
          "F.N",
          "HWM.N",
          "D.N",
          "ANET.N",
          "MCO.N",
          "AES.N",
          "ODFL.OQ",
          "MOS.N",
          "ETR.N",
          "COF.N",
          "QRVO.OQ",
          "A.N",
          "JKHY.OQ",
          "AVGO.OQ",
          "MET.N",
          "CAH.N",
          "DRE.N",
          "ARE.N",
          "BK.N",
          "NUE.N",
          "DUK.N",
          "UPS.N",
          "SO.N",
          "SYK.N",
          "BSX.N",
          "UA.N",
          "CME.OQ",
          "SWK.N",
          "PH.N",
          "RL.N",
          "PNR.N",
          "ROK.N",
          "VRSK.OQ",
          "STT.N",
          "FOX.OQ",
          "IT.N",
          "SYY.N",
          "USB.N",
          "AWK.N",
          "MAS.N",
          "VRTX.OQ",
          "SNA.N",
          "PKI.N",
          "OKE.N",
          "CMI.N",
          "GPC.N",
          "ADI.OQ",
          "FMC.N",
          "PM.N",
          "CLX.N",
          "ISRG.OQ",
          "NVDA.OQ",
          "BWA.N",
          "HCA.N",
          "AEE.N",
          "TYL.N",
          "BKNG.OQ",
          "AAP.N",
          "LEN.N",
          "MXIM.OQ",
          "MO.N",
          "OTIS.N",
          "IVZ.N",
          "MDT.N",
          "PFE.N",
          "SYF.N",
          "XYL.N",
          "GOOGL.OQ",
          "KR.N",
          "INTU.OQ",
          "PSX.N",
          "MKC.N",
          "CHTR.OQ",
          "CE.N",
          "HSIC.OQ",
          "AME.N",
          "ETN.N",
          "MKTX.OQ",
          "NWS.OQ",
          "STE.N",
          "IPGP.OQ",
          "DHR.N",
          "HPQ.N",
          "UAA.N",
          "PLD.N",
          "HII.N",
          "LUMN.N",
          "NTAP.OQ",
          "CAT.N",
          "CPB.N",
          "NEM.N",
          "PFG.OQ",
          "WST.N",
          "YUM.N",
          "HFC.N",
          "AMP.N",
          "UDR.N",
          "AMT.N",
          "HD.N",
          "IP.N",
          "TROW.OQ",
          "GD.N",
          "TSCO.OQ",
          "FBHS.N",
          "COO.N",
          "DOV.N",
          "GLW.N",
          "CNP.N",
          "BKR.N",
          "EOG.N",
          "MYL.OQ",
          "URI.N",
          "DXCM.OQ",
          "GM.N",
          "VZ.N",
          "MU.OQ",
          "RMD.N",
          "NEE.N",
          "FRT.N",
          "LIN.N",
          "AOS.N",
          "SBAC.OQ",
          "FTI.N",
          "RHI.N",
          "T.N",
          "KIM.N",
          "HIG.N",
          "VAR.N",
          "IEX.N",
          "CBRE.N",
          "IRM.N",
          "TWTR.N",
          "DIS.N",
          "MA.N",
          "EXPD.OQ",
          "BAX.N",
          "ROL.N",
          "CTSH.OQ",
          "FISV.OQ",
          "PPG.N",
          "TPR.N",
          "EMN.N",
          "BLL.N",
          "VMC.N",
          "ACN.N",
          "OMC.N",
          "EIX.N",
          "NWL.OQ",
          "LH.N",
          "UHS.N",
          "WU.N",
          "DVA.N",
          "RSG.N",
          "HUM.N",
          "WMB.N",
          "LYB.N",
          "AMZN.OQ",
          "CRM.N",
          "TRV.N",
          "AAPL.OQ",
          "CVS.N",
          "CL.N",
          "ETSY.OQ",
          "JCI.N",
          "CHD.N",
          "SNPS.OQ",
          "CF.N",
          "ALXN.OQ",
          "CI.N",
          "FIS.N",
          "FTNT.OQ",
          "TXN.OQ",
          "CTAS.OQ"
         ],
         "type": "scatter",
         "x": [
          0.011621880905050641,
          0.0015773014295884663,
          0.020761928394011232,
          0.0013008812071162146,
          0.1306059861246057,
          0.004207621922259273,
          0.002436083072687213,
          0.003323110306959166,
          0.0010038263733126796,
          0.0007788733357366811,
          0.0023375454928134557,
          0.0051013018905240876,
          0.0011190703993910825,
          0.00976030571083245,
          0.0017861504634606338,
          0.00260297923169877,
          0.0019362109580500426,
          0.009137344405490489,
          0.006592589034906549,
          0.0010265853577712905,
          0.0017073196194150515,
          0.0006861633896193699,
          0.0007425630011254435,
          0.0008479527441331822,
          0.002758619530335861,
          -0.003600731419484613,
          0.0017571713829957261,
          0.0007796877847122048,
          0.00530347620296845,
          0.005944499638830056,
          0.0006599761447394674,
          0.0006363757309788441,
          0.0009060983706712847,
          0.0015314790593750755,
          0.0008161803802653088,
          0.0016585846442654644,
          0.0022814816773105754,
          0.004522930997774491,
          0.015585338920255784,
          0.0037410279722486523,
          0.002923330907556236,
          0.004136386314023938,
          -0.06538744496076358,
          0.004003920773344693,
          0.006124533411236255,
          0.003969603154922828,
          0.009665681676391145,
          0.002142134190868832,
          0.004940781129265495,
          0.0015282823444815845,
          0.0016122132108460276,
          0.010152660771681662,
          0.015051852138037489,
          0.0012723139809663012,
          0.14700450561877354,
          0.0008771567224322155,
          0.0010225292048383647,
          0.0008415794604459517,
          0.0012090630108963333,
          0.003067247100898693,
          0.002442139529088065,
          0.002634777626590871,
          0.006788425227960406,
          0.0048907197201858935,
          0.00093920618018267,
          0.0004306874044652175,
          0.0012072364066851803,
          0.007589567565115892,
          0.008940676618017918,
          0.013354773399524938,
          0.028554724655126627,
          0.0037841424368782704,
          0.028763684378599035,
          0.000879842246089785,
          0.015682211289888625,
          0.0009108403606756526,
          0.005962223479285167,
          0.0030502845582607778,
          0.0032934984831923587,
          0.003141415801284038,
          0.21165449294712987,
          0.010436759602053447,
          0.0022509072644811214,
          0.002348616765005397,
          0.0046181206511397436,
          0.0024396204614355686,
          0.004659179165755454,
          0.000609694144068854,
          0.001307345116774321,
          0.0013214079017792543,
          0.000700676318398939,
          0.00982664326499032,
          0.016027388130316532,
          0.0169921638887875,
          -0.020140839658914295,
          0.010762242646438101,
          0.003261303656663697,
          0.036649892806148415,
          0.000642648048091028,
          0.005311576015969599,
          0.008024817547965463,
          0.001361631858962478,
          0.00450367592844558,
          -0.013073949429982338,
          0.001320088641360903,
          0.008888534609015742,
          0.0006972211190361921,
          0.009131369982299449,
          0.001952811170490123,
          0.0016356317652791172,
          -0.01123635614480268,
          0.00968838629226106,
          0.004708770503572122,
          0.0006038286540839597,
          0.003289071214843466,
          0.0015876963294547393,
          0.0005931636830816946,
          0.0019036325304113053,
          0.009370762203300206,
          0.0206914163752931,
          0.0031589827131327398,
          0.0019786022082390092,
          -0.005738945608353648,
          0.0002980476554449918,
          0.002353368938588301,
          0.001205693836739145,
          0.0018412154416397105,
          0.0035548324163570772,
          0.002126501002660451,
          0.0018724530219756614,
          0.004117291811054404,
          0.009754492236260088,
          0.0005233734563676081,
          0.004916305348530026,
          0.0008479527441331822,
          0.0033667851805139946,
          0.001327396031650641,
          0.007402920771873986,
          0.0033275176666203174,
          0.0016239061647147625,
          0.0023135375638420924,
          0.0020827943651042058,
          0.0008917960998139896,
          0.0014276208916443748,
          0.01705623871809251,
          0.0018483343691263938,
          0.0012590409770976546,
          0.005534937632838944,
          0.007132532135652122,
          0.0013127162762166839,
          0.002427137363924764,
          0.0018660508610074994,
          0.000944154857891455,
          0.0033067569375849733,
          -0.013070514576560064,
          0.6670531903786859,
          0.0021833304343947726,
          0.06587635557538503,
          -0.003693888942530832,
          0.0024016632505031127,
          0.003582297534595999,
          0.0008565585791921846,
          0.009464416516184848,
          0.0033204401992466153,
          0.0029082746840486495,
          0.0010246485618945291,
          0.001789952142128139,
          0.001947359418796011,
          0.0022841219513852445,
          0.0050876898912306494,
          0.001346317798175162,
          0.010436722508530753,
          0.008025185070621084,
          0.0016285437172553518,
          0.005439606919557691,
          0.008951326219686783,
          0.0004174089353420034,
          0.006058345413422359,
          0.005260983429040648,
          0.0009718664939000923,
          0.000777469882266119,
          0.15977865569227176,
          0.001155783942798663,
          0.0030135995624545496,
          0.004211017166813921,
          0.003947444715585495,
          0.0015645739788847839,
          0.010192766290882697,
          0.0007697179198688265,
          0.0007337137992401543,
          0.0017070251189576968,
          0.04938585146351514,
          0.0009168210274163326,
          0.011071219910336001,
          0.008330921313609938,
          0.003803995573629714,
          0.0011650345078848506,
          0.0061861997261456565,
          0.0018924913827514582,
          0.005569490311769039,
          0.002856644004585371,
          0.0025908002276903114,
          0.0011319207399872785,
          0.011759134095857897,
          0.01544030624384189,
          0.014071882999147665,
          0.006867175761706673,
          0.0009584107441022596,
          0.003458882120497957,
          0.0011162105594856352,
          0.005947101227530891,
          0.005623259795607755,
          0.001016154491487692,
          0.0007940415416048235,
          0.001746587331154574,
          -0.017019953835961357,
          0.00471516117461054,
          -0.024226995264844935,
          -0.2679720998960481,
          0.0007680871513809377,
          0.0011028181279781422,
          0.002408543149568522,
          0.012214805244301215,
          0.0030536272895402908,
          0.008658959510646927,
          0.003083992654072439,
          0.0008313682848403967,
          0.0006527376471790324,
          0.0011375925409910475,
          0.0017413071732973284,
          0.00742662371898468,
          0.021987502783390928,
          0.0017202244288165999,
          0.0008373868792883475,
          0.0009537658733173377,
          0.0033064873905571304,
          0.0017682414471747285,
          0.009047986392245121,
          0.01957542404847571,
          0.0029842595004029794,
          0.0005398773129492067,
          0.004815715818490981,
          0.001441755814679477,
          0.0033681461809015752,
          0.009295253322580644,
          0.004649360193372145,
          0.0061296167395644,
          0.0021228550864695332,
          0.026068571098524448,
          0.00030206779671116,
          0.0006222519859151761,
          0.009788173894562035,
          0.0027748580923404767,
          0.00192028269775933,
          0.0022015492776122276,
          0.0016079992381040165,
          0.0031397432158322466,
          0.0027756670493822456,
          0.0031312955935518124,
          0.0018391995944180826,
          0.002204852224851848,
          0.000687823791607438,
          0.003025750714094995,
          0.0017088381314420932,
          0.001682598359047404,
          0.001954036712788717,
          0.005152064086002665,
          0.0015605170515731051,
          0.008572685203201936,
          0.001455370419387899,
          0.0003419486766262615,
          0.005036311904843864,
          0.0012592676532891857,
          0.00039882914561691714,
          0.0038842517851351644,
          0.0048031294263879195,
          0.0028266929853612986,
          0.0022583763499314977,
          0.00329460320601907,
          -0.029742064507291777,
          0.002581031634213661,
          0.0003930491239063697,
          0.0014655829351747755,
          0.004439458189868496,
          0.004717565299459901,
          0.0017757489595314057,
          0.005909457353529764,
          0.005615304450714922,
          0.001002352545853419,
          0.0072319103877195355,
          0.020142005110353235,
          0.10508763274757645,
          0.0016041745067931056,
          0.004082407924943412,
          0.0007904688949998953,
          0.002211054736191366,
          0.0020295039181722502,
          0.005003177833947665,
          0.026944600126137686,
          0.005425938569407701,
          0.005749015071976679,
          0.0005887983258917056,
          0.001545238269679721,
          0.0005306871449280094,
          0.003017297015697154,
          0.005440782084924963,
          0.006120262979035247,
          0.005020933354479526,
          0.00042009608363099385,
          0.008931054834934088,
          0.0022312571193693473,
          0.001496089948372485,
          0.0006022809130105352,
          0.0011595928331838287,
          0.0011898126599427738,
          0.019651047984503383,
          0.001795541802029282,
          0.00528691603119816,
          0.0027404623040982123,
          0.0037052406069231743,
          0.0016802246772898877,
          0.0020467805983518574,
          0.003887757428710266,
          0.001830984652644227,
          0.0033413982651943064,
          0.029898497377022437,
          0.010286924662053224,
          0.0007543688884666598,
          0.0011375925409910475,
          0.010470356630233052,
          0.021700493907968077,
          0.000986590733033339,
          0.003522702805599076,
          0.07740217219412707,
          0.005557345206680382,
          0.001964890079624973,
          0.00345502994837234,
          0.0017671392974338178,
          0.0034332844709834133,
          0.0036756945457798876,
          0.0033189237444388744,
          0.0037735244545254393,
          -0.007191770872056204,
          0.017176087822562424,
          0.007652955495601341,
          0.018848629620705153,
          0.001522351847799067,
          -0.039899009842352236,
          0.0018851510097028375,
          0.006961280509378483,
          0.013765578313778422,
          0.002265486995377917,
          0.0009995285115167326,
          0.009873545252155799,
          0.017617382863321884,
          -0.005329311098013307,
          0.0003813479462563476,
          0.0023574126492977407,
          0.0026022733907609943,
          0.0011227956677768173,
          0.004580404428622007,
          0.004370853022497827,
          0.0019079142540585428,
          0.014392211068781873,
          0.000984695849589187,
          0.00471554548763828,
          0.0035512286783648756,
          0.004600538964413247,
          0.0023934290860828144,
          0.003586695168950562,
          0.0024364160576626276,
          0.017636786377177718,
          0.000944154857891455,
          0.003463228905857904,
          0.0034336811026897123,
          0.003410188583897877,
          -0.01063756791272006,
          0.0037052406069231743,
          0.0017878326771240838,
          0.002619419871144647,
          0.0005780126257450541,
          0.0302566442462127,
          0.004839492282261857,
          0.004236571175616038,
          0.0018258015960615586,
          0.0006513908543756491,
          0.009603862974964348,
          -0.0030319251762815067,
          0.0005339939453344812,
          0.002646284329934914,
          0.002643874223190868,
          0.022083575300498464,
          -0.5470087941326146,
          0.0020462168157672237,
          0.0033924451827826653,
          0.0022620127080196875,
          0.006274582053301466,
          0.003296812879006504,
          0.0035806277898236876,
          0.0041428829880790176,
          0.0016720246218705367,
          0.0012015978712597438,
          0.0008320912169911031,
          0.0009098435101088303,
          0.00048562140036053166,
          0.002781545759594302,
          0.01716350424921056,
          0.0009811037327658691,
          0.0029667757106257233,
          0.0012451442865313558,
          0.009302412779301106,
          0.003094353816507386,
          0.0023206558886318318,
          0.0022831311089978176,
          0.004069733309952776,
          -0.005760564469346975,
          0.0006063413950226233,
          0.004630242286093404,
          0.0008954321424842981,
          0.0008357066668488585,
          0.0007039153334604561,
          0.005923122669359373,
          0.004622399241231606,
          0.0023205101522084564,
          0.006386990983669835,
          0.0034241113429130947,
          0.0023056778532591264,
          0.04625235975031872,
          0.004603821126444264,
          0.003763604027646117,
          0.015598265067899322,
          0.002786745655874744,
          0.001798917283565359,
          0.0049198395505933145,
          0.0021308747357005374,
          0.0015699079352351768,
          0.008212585078051811,
          0.002363272506055097,
          0.0069916093744135915,
          0.00352419562714837,
          0.0011457204137901372,
          0.0016965151408678638,
          0.0018298519194822993,
          0.0014085054736330733,
          0.10237901680523372,
          0.005764043717738093,
          0.0029786716280479626,
          0.002767682382869682,
          0.0015166358433646137,
          0.002828741776986114,
          0.014863395029804369,
          0.004774615012491645,
          0.0009521465297089536,
          0.023561539716329294,
          0.0010015454101568629,
          0.08368876647458866,
          0.016772672373250776,
          0.00144138802422657,
          0.005116613403414752,
          0.006018267178227103,
          0.001708927460777915,
          0.0019251477367757596,
          0.0012888551143654715,
          0.001396776792464497,
          0.02077629188202895,
          0.013424318356523466,
          0.008217840977041601
         ],
         "y": [
          0.013227491888328426,
          0.009119617370957867,
          0.009005827227539303,
          0.0040983393318546075,
          0.02253239133145467,
          0.010891668936347845,
          0.013153962124828299,
          0.008255354536739255,
          0.021175146379332196,
          0.005417558908929221,
          0.00977715321911814,
          0.005565697997360131,
          0.014153933316071664,
          0.011931142043545648,
          0.0176652228918622,
          0.008502112084227962,
          0.011464160693684718,
          0.01558104359338961,
          0.010652333100090948,
          0.005249984647272336,
          0.008000599385480913,
          0.01648340630611155,
          0.007294346658651983,
          0.0033810901352710394,
          0.010718611828710532,
          0.014734530820480717,
          0.015394909470205912,
          0.0038166916048912,
          0.007802807061373806,
          0.010887421602455136,
          0.006488987888768123,
          0.005828569619157825,
          0.005863477614782129,
          0.008866794943697935,
          0.003867007076188972,
          0.011375322387842692,
          0.007815952544028622,
          0.009491035668313877,
          0.022169558008607253,
          0.006291934277388729,
          0.00957762216568692,
          0.010638968220341367,
          0.023502791759867542,
          0.011721193213542137,
          0.023829262367548478,
          0.009713499072303575,
          0.030823212394553563,
          0.004620756107056741,
          0.014460867251886153,
          0.027448551058203832,
          0.00678888674583997,
          0.02143733443603801,
          0.02150963375405426,
          0.007613281427437773,
          0.014729612005385355,
          0.07393904849135602,
          0.0063832491622371245,
          0.005418530407274289,
          0.006373900215568457,
          0.009168156003138972,
          0.00486563947973063,
          0.004461491467371892,
          0.007900823263841254,
          0.04712791431167406,
          0.010092887272285956,
          0.007111289327204851,
          0.006616150235568361,
          0.012605244519484393,
          0.020388408914353732,
          0.020237839504645735,
          0.04660614545291539,
          0.005225457496788827,
          0.04980076963668867,
          0.0014608148019824726,
          0.0276797898279617,
          0.006145720321804819,
          0.012750712699222856,
          0.01470036370540178,
          0.00801624159660377,
          0.004009113696733091,
          0.0067734462756256575,
          0.015353902264807685,
          0.004401055512828208,
          0.014444803981791595,
          0.015979054608362128,
          0.010537677939930023,
          0.008070709416231735,
          0.005229206059667099,
          0.08808231660965787,
          0.008780801260908593,
          0.004296585487862504,
          0.009203550184257078,
          0.007061733766125635,
          0.019993326333551872,
          0.006279203502694977,
          0.02096770940796898,
          0.01010977504870888,
          0.009931666055658537,
          0.006255347229031234,
          0.011458143635859426,
          0.02118433512851943,
          0.0037839706594210757,
          0.016814621673432898,
          0.01693498836606099,
          0.008254218125491479,
          0.006604878923816045,
          0.006881479625460818,
          0.020965006307550296,
          0.008406762640933147,
          0.022493145930472584,
          0.01693272422066908,
          0.019414963300423044,
          0.0122636936970775,
          0.0032202229688986506,
          0.00997212222243112,
          0.012847471489845592,
          0.006011865364972087,
          0.009168350809585425,
          0.012987274544838947,
          0.010119213170827118,
          0.010761656577425832,
          0.006022773467936941,
          0.023719127216243998,
          0.0023551719150883216,
          0.00586831717092487,
          0.006581786095236943,
          0.021014477316853138,
          0.01909308689296965,
          0.02694902578652373,
          0.008565904313897983,
          0.010839056672347951,
          0.007001095402703749,
          0.004296040306022348,
          0.011899098967011707,
          0.0033810901352710394,
          0.011618339006037657,
          0.009048191299086442,
          0.024798967643480874,
          0.006086700260052137,
          0.01371669063215871,
          0.010130388482176721,
          0.007924607422137632,
          0.12435606765078522,
          0.007256641958350931,
          0.020220150149349237,
          0.006525487945806407,
          0.005877019918471699,
          0.03542653156117076,
          0.015151166841999339,
          0.006761344812106406,
          0.03611132367199724,
          0.011101704186044949,
          0.02198419242967852,
          0.007827043666315685,
          0.013402001730905147,
          0.026550051777226472,
          0.012541209431642953,
          0.033588866703402186,
          0.00864149313716051,
          0.008949216660758737,
          0.014916532426168564,
          0.009391857405692679,
          0.012726459555911614,
          0.013688671115403749,
          0.010017198395653721,
          0.009469738772520657,
          0.0136107194674286,
          0.009990627070449594,
          0.009584481253710968,
          0.01056885147555237,
          0.032906822535418906,
          0.015650478287212118,
          0.0172870415627267,
          0.012483367971525078,
          0.006422916709375517,
          0.01218520360163912,
          0.004671240961352446,
          0.010855388168067474,
          0.013689061438461294,
          0.008912698006049172,
          0.005071153880008936,
          0.009125382857217883,
          0.005181601467993191,
          0.01126769849763943,
          0.013010253640841575,
          0.006704600574914895,
          0.009232076250131975,
          0.009354932308503292,
          0.006238783663644634,
          0.0061309785377043746,
          0.06290232024252031,
          0.02195841145010294,
          0.006943515710823895,
          0.011674857474654474,
          0.02892568445017246,
          0.005221242613447873,
          0.00910079542770027,
          0.0088370512829636,
          0.028029690439192477,
          0.013484363122134323,
          0.011820687004860768,
          0.004832802276655686,
          0.00952231835639527,
          0.01163533486231036,
          0.03267734451360455,
          0.0065493302358595054,
          0.02012328666875344,
          0.0032545251505125628,
          0.016601364771539114,
          0.008952224501159485,
          0.00553296918351708,
          0.014900737797377196,
          0.008035323788461918,
          0.007121324204329453,
          0.005695006655692291,
          0.027187306522373944,
          0.009429382558167809,
          0.007520007188364315,
          0.012764935084431883,
          0.006318087332822041,
          0.011807581196918791,
          0.014235526439244776,
          0.018543103177857973,
          0.010619510432325872,
          0.008984168388123218,
          0.009295033171692625,
          0.006460258435699082,
          0.0057905409882741884,
          0.005897067045832138,
          0.008627427144919212,
          0.010810373907273761,
          0.009108434202144588,
          0.00968549591358848,
          0.010602900212897386,
          0.006206014076176166,
          0.00444347153638114,
          0.012188732207650715,
          0.019055164613526434,
          0.014526650309992175,
          0.02362594699307673,
          0.005897361740639203,
          0.012850254486739869,
          0.005846311060126364,
          0.009471695052423833,
          0.008814848160607113,
          0.008291136640873881,
          0.013600928207388372,
          0.00946538530176099,
          0.014135588412204157,
          0.0020087430784890064,
          0.004636516641864197,
          0.014517116016201466,
          0.011779783975142443,
          0.01370702801074311,
          0.008704772846462856,
          0.021288104387047754,
          0.013668199535077533,
          0.008052784476986824,
          0.00835659006690377,
          0.012038637640765432,
          0.012582219520163328,
          0.006799600058506454,
          0.004101117901424103,
          0.009841750162143047,
          0.020931326757529303,
          0.004965221771018341,
          0.012182381359634443,
          0.006601348038740839,
          0.003985874620759814,
          0.009780424206879648,
          0.0032326979516292998,
          0.010845334122804438,
          0.00821039186423761,
          0.00443298079768131,
          0.01808654731161818,
          0.01026488841416091,
          0.0075312932291763035,
          0.010484495410456703,
          0.01457711758676183,
          0.010139195464058502,
          0.011888984398956467,
          0.004603504086911984,
          0.0093553811690444,
          0.011485975233868061,
          0.011903314236084008,
          0.005960270020182144,
          0.007813587971407852,
          0.010688869648550843,
          0.007256575026055397,
          0.01606833637841532,
          0.02382290047491418,
          0.008556610027617591,
          0.011082376287061557,
          0.014759007809743763,
          0.0076323578520958515,
          0.005126635937479184,
          0.011040313204062246,
          0.013612166018154574,
          0.01346609246155323,
          0.006922240875325371,
          0.015323824701068186,
          0.008135166840914934,
          0.009282840281505715,
          0.005619241491196752,
          0.01301486953888191,
          0.015443815143376378,
          0.019954142543417635,
          0.007462159527251475,
          0.0036792936982544266,
          0.0047143664678457224,
          0.03421278560404033,
          0.028497655721846038,
          0.005085528491255781,
          0.008375739210173164,
          0.009233819303209913,
          0.00985351794447823,
          0.009485609806806666,
          0.012047020723414877,
          0.012213192850107427,
          0.4437748161078465,
          0.012128185028498955,
          0.009550894526161334,
          0.010012823319773718,
          0.00951583015907968,
          0.010100100178276852,
          0.016023219795765067,
          0.01844112957917721,
          0.005474948260699975,
          0.005897067045832138,
          0.02103481066782952,
          0.015455579468242922,
          0.007136498041856885,
          0.01952851235360271,
          0.008417020536623335,
          0.009928706618531874,
          0.007417917713774057,
          0.0077470617180185495,
          0.005509567313213386,
          0.008707218420377413,
          0.008734402253779274,
          0.012303303571236855,
          0.015972564305320274,
          0.00645595415703324,
          0.01220417992892735,
          0.030461172742224634,
          0.025754934531004362,
          0.005334157795768444,
          0.006300405641610009,
          0.011206174516119728,
          0.036153365657351645,
          0.02118538905519031,
          0.008698903720833371,
          0.00440410308107928,
          0.014075344982466773,
          0.00420283420117532,
          0.01225342517834171,
          0.003795948240984212,
          0.011707749990919449,
          0.0075678823682582925,
          0.005111844888045285,
          0.01863158109273926,
          0.014813668580888333,
          0.0054907979506624155,
          0.020765596770473318,
          0.009638670194080115,
          0.015465528450670464,
          0.02205074856550202,
          0.007175575778511989,
          0.009357830976111581,
          0.013693477103193243,
          0.011750872117479234,
          0.03289493967967421,
          0.02198419242967852,
          0.014850706613049477,
          0.022787122576475322,
          0.016848023343969336,
          0.0042191772785583745,
          0.4437748161078465,
          0.03664636752238754,
          0.006860335140219985,
          0.003247574912222717,
          0.006704708049337344,
          0.01210830986471069,
          0.00783546062290977,
          0.007681601665870494,
          0.004082615876165294,
          0.028668833161580434,
          0.013114192447286838,
          0.028190604512548886,
          0.005228273313691786,
          0.6884321559098888,
          0.02251900819403654,
          0.011438127035082058,
          0.006897371541419991,
          0.007071517470758733,
          0.006433271754658319,
          0.009998371796803397,
          0.00885925058819842,
          0.013976358139228467,
          0.009933577582153423,
          0.010102084954205571,
          0.008837126610016508,
          0.016873469808833735,
          0.010766712592975326,
          0.0016420298306367882,
          0.006240518375501042,
          0.05198719031210503,
          0.004043567545574147,
          0.006045033922683857,
          0.008073034424209766,
          0.02114632238262017,
          0.015384441687104981,
          0.022982453415479193,
          0.015523416359126777,
          0.011568446486090152,
          0.0625295172509331,
          0.005689334621227263,
          0.01045460180800149,
          0.004425296777716172,
          0.010158536669540544,
          0.004169895273702933,
          0.016157412204045235,
          0.016906258001592747,
          0.009401637796304277,
          0.010292743184302153,
          0.03468428840415735,
          0.02732274605529118,
          0.021633387820205102,
          0.01102021828839292,
          0.011733730146286637,
          0.03487701376288959,
          0.009472443848140576,
          0.010447074641990009,
          0.010829415115186515,
          0.004501674841190708,
          0.006598883078711649,
          0.014289569443374528,
          0.013848474008957608,
          0.014734300176098052,
          0.005131840947494366,
          0.006702501443167052,
          0.0058871006718116585,
          0.005192360142788182,
          0.00594909982252023,
          0.005406626345727753,
          0.006394052515137351,
          0.01392615484353461,
          0.00992747664073457,
          0.008800459781447608,
          0.005891845411896126,
          0.03606769560671718,
          0.034630249242774636,
          0.006667128094802037,
          0.014649876341817077,
          0.004531087402705241,
          0.012885899669902395,
          0.028353486850414257,
          0.010845140840591483,
          0.014150732201170005,
          0.019058530527991883,
          0.009595383427956645,
          0.004914338694063144,
          0.005242802697849777,
          0.011021570292124201,
          0.016490646920269754,
          0.013662585841340991,
          0.019907811466077785
         ]
        }
       ],
       "layout": {
        "autosize": true,
        "template": {
         "data": {
          "bar": [
           {
            "error_x": {
             "color": "#2a3f5f"
            },
            "error_y": {
             "color": "#2a3f5f"
            },
            "marker": {
             "line": {
              "color": "#E5ECF6",
              "width": 0.5
             }
            },
            "type": "bar"
           }
          ],
          "barpolar": [
           {
            "marker": {
             "line": {
              "color": "#E5ECF6",
              "width": 0.5
             }
            },
            "type": "barpolar"
           }
          ],
          "carpet": [
           {
            "aaxis": {
             "endlinecolor": "#2a3f5f",
             "gridcolor": "white",
             "linecolor": "white",
             "minorgridcolor": "white",
             "startlinecolor": "#2a3f5f"
            },
            "baxis": {
             "endlinecolor": "#2a3f5f",
             "gridcolor": "white",
             "linecolor": "white",
             "minorgridcolor": "white",
             "startlinecolor": "#2a3f5f"
            },
            "type": "carpet"
           }
          ],
          "choropleth": [
           {
            "colorbar": {
             "outlinewidth": 0,
             "ticks": ""
            },
            "type": "choropleth"
           }
          ],
          "contour": [
           {
            "colorbar": {
             "outlinewidth": 0,
             "ticks": ""
            },
            "colorscale": [
             [
              0,
              "#0d0887"
             ],
             [
              0.1111111111111111,
              "#46039f"
             ],
             [
              0.2222222222222222,
              "#7201a8"
             ],
             [
              0.3333333333333333,
              "#9c179e"
             ],
             [
              0.4444444444444444,
              "#bd3786"
             ],
             [
              0.5555555555555556,
              "#d8576b"
             ],
             [
              0.6666666666666666,
              "#ed7953"
             ],
             [
              0.7777777777777778,
              "#fb9f3a"
             ],
             [
              0.8888888888888888,
              "#fdca26"
             ],
             [
              1,
              "#f0f921"
             ]
            ],
            "type": "contour"
           }
          ],
          "contourcarpet": [
           {
            "colorbar": {
             "outlinewidth": 0,
             "ticks": ""
            },
            "type": "contourcarpet"
           }
          ],
          "heatmap": [
           {
            "colorbar": {
             "outlinewidth": 0,
             "ticks": ""
            },
            "colorscale": [
             [
              0,
              "#0d0887"
             ],
             [
              0.1111111111111111,
              "#46039f"
             ],
             [
              0.2222222222222222,
              "#7201a8"
             ],
             [
              0.3333333333333333,
              "#9c179e"
             ],
             [
              0.4444444444444444,
              "#bd3786"
             ],
             [
              0.5555555555555556,
              "#d8576b"
             ],
             [
              0.6666666666666666,
              "#ed7953"
             ],
             [
              0.7777777777777778,
              "#fb9f3a"
             ],
             [
              0.8888888888888888,
              "#fdca26"
             ],
             [
              1,
              "#f0f921"
             ]
            ],
            "type": "heatmap"
           }
          ],
          "heatmapgl": [
           {
            "colorbar": {
             "outlinewidth": 0,
             "ticks": ""
            },
            "colorscale": [
             [
              0,
              "#0d0887"
             ],
             [
              0.1111111111111111,
              "#46039f"
             ],
             [
              0.2222222222222222,
              "#7201a8"
             ],
             [
              0.3333333333333333,
              "#9c179e"
             ],
             [
              0.4444444444444444,
              "#bd3786"
             ],
             [
              0.5555555555555556,
              "#d8576b"
             ],
             [
              0.6666666666666666,
              "#ed7953"
             ],
             [
              0.7777777777777778,
              "#fb9f3a"
             ],
             [
              0.8888888888888888,
              "#fdca26"
             ],
             [
              1,
              "#f0f921"
             ]
            ],
            "type": "heatmapgl"
           }
          ],
          "histogram": [
           {
            "marker": {
             "colorbar": {
              "outlinewidth": 0,
              "ticks": ""
             }
            },
            "type": "histogram"
           }
          ],
          "histogram2d": [
           {
            "colorbar": {
             "outlinewidth": 0,
             "ticks": ""
            },
            "colorscale": [
             [
              0,
              "#0d0887"
             ],
             [
              0.1111111111111111,
              "#46039f"
             ],
             [
              0.2222222222222222,
              "#7201a8"
             ],
             [
              0.3333333333333333,
              "#9c179e"
             ],
             [
              0.4444444444444444,
              "#bd3786"
             ],
             [
              0.5555555555555556,
              "#d8576b"
             ],
             [
              0.6666666666666666,
              "#ed7953"
             ],
             [
              0.7777777777777778,
              "#fb9f3a"
             ],
             [
              0.8888888888888888,
              "#fdca26"
             ],
             [
              1,
              "#f0f921"
             ]
            ],
            "type": "histogram2d"
           }
          ],
          "histogram2dcontour": [
           {
            "colorbar": {
             "outlinewidth": 0,
             "ticks": ""
            },
            "colorscale": [
             [
              0,
              "#0d0887"
             ],
             [
              0.1111111111111111,
              "#46039f"
             ],
             [
              0.2222222222222222,
              "#7201a8"
             ],
             [
              0.3333333333333333,
              "#9c179e"
             ],
             [
              0.4444444444444444,
              "#bd3786"
             ],
             [
              0.5555555555555556,
              "#d8576b"
             ],
             [
              0.6666666666666666,
              "#ed7953"
             ],
             [
              0.7777777777777778,
              "#fb9f3a"
             ],
             [
              0.8888888888888888,
              "#fdca26"
             ],
             [
              1,
              "#f0f921"
             ]
            ],
            "type": "histogram2dcontour"
           }
          ],
          "mesh3d": [
           {
            "colorbar": {
             "outlinewidth": 0,
             "ticks": ""
            },
            "type": "mesh3d"
           }
          ],
          "parcoords": [
           {
            "line": {
             "colorbar": {
              "outlinewidth": 0,
              "ticks": ""
             }
            },
            "type": "parcoords"
           }
          ],
          "pie": [
           {
            "automargin": true,
            "type": "pie"
           }
          ],
          "scatter": [
           {
            "marker": {
             "colorbar": {
              "outlinewidth": 0,
              "ticks": ""
             }
            },
            "type": "scatter"
           }
          ],
          "scatter3d": [
           {
            "line": {
             "colorbar": {
              "outlinewidth": 0,
              "ticks": ""
             }
            },
            "marker": {
             "colorbar": {
              "outlinewidth": 0,
              "ticks": ""
             }
            },
            "type": "scatter3d"
           }
          ],
          "scattercarpet": [
           {
            "marker": {
             "colorbar": {
              "outlinewidth": 0,
              "ticks": ""
             }
            },
            "type": "scattercarpet"
           }
          ],
          "scattergeo": [
           {
            "marker": {
             "colorbar": {
              "outlinewidth": 0,
              "ticks": ""
             }
            },
            "type": "scattergeo"
           }
          ],
          "scattergl": [
           {
            "marker": {
             "colorbar": {
              "outlinewidth": 0,
              "ticks": ""
             }
            },
            "type": "scattergl"
           }
          ],
          "scattermapbox": [
           {
            "marker": {
             "colorbar": {
              "outlinewidth": 0,
              "ticks": ""
             }
            },
            "type": "scattermapbox"
           }
          ],
          "scatterpolar": [
           {
            "marker": {
             "colorbar": {
              "outlinewidth": 0,
              "ticks": ""
             }
            },
            "type": "scatterpolar"
           }
          ],
          "scatterpolargl": [
           {
            "marker": {
             "colorbar": {
              "outlinewidth": 0,
              "ticks": ""
             }
            },
            "type": "scatterpolargl"
           }
          ],
          "scatterternary": [
           {
            "marker": {
             "colorbar": {
              "outlinewidth": 0,
              "ticks": ""
             }
            },
            "type": "scatterternary"
           }
          ],
          "surface": [
           {
            "colorbar": {
             "outlinewidth": 0,
             "ticks": ""
            },
            "colorscale": [
             [
              0,
              "#0d0887"
             ],
             [
              0.1111111111111111,
              "#46039f"
             ],
             [
              0.2222222222222222,
              "#7201a8"
             ],
             [
              0.3333333333333333,
              "#9c179e"
             ],
             [
              0.4444444444444444,
              "#bd3786"
             ],
             [
              0.5555555555555556,
              "#d8576b"
             ],
             [
              0.6666666666666666,
              "#ed7953"
             ],
             [
              0.7777777777777778,
              "#fb9f3a"
             ],
             [
              0.8888888888888888,
              "#fdca26"
             ],
             [
              1,
              "#f0f921"
             ]
            ],
            "type": "surface"
           }
          ],
          "table": [
           {
            "cells": {
             "fill": {
              "color": "#EBF0F8"
             },
             "line": {
              "color": "white"
             }
            },
            "header": {
             "fill": {
              "color": "#C8D4E3"
             },
             "line": {
              "color": "white"
             }
            },
            "type": "table"
           }
          ]
         },
         "layout": {
          "annotationdefaults": {
           "arrowcolor": "#2a3f5f",
           "arrowhead": 0,
           "arrowwidth": 1
          },
          "coloraxis": {
           "colorbar": {
            "outlinewidth": 0,
            "ticks": ""
           }
          },
          "colorscale": {
           "diverging": [
            [
             0,
             "#8e0152"
            ],
            [
             0.1,
             "#c51b7d"
            ],
            [
             0.2,
             "#de77ae"
            ],
            [
             0.3,
             "#f1b6da"
            ],
            [
             0.4,
             "#fde0ef"
            ],
            [
             0.5,
             "#f7f7f7"
            ],
            [
             0.6,
             "#e6f5d0"
            ],
            [
             0.7,
             "#b8e186"
            ],
            [
             0.8,
             "#7fbc41"
            ],
            [
             0.9,
             "#4d9221"
            ],
            [
             1,
             "#276419"
            ]
           ],
           "sequential": [
            [
             0,
             "#0d0887"
            ],
            [
             0.1111111111111111,
             "#46039f"
            ],
            [
             0.2222222222222222,
             "#7201a8"
            ],
            [
             0.3333333333333333,
             "#9c179e"
            ],
            [
             0.4444444444444444,
             "#bd3786"
            ],
            [
             0.5555555555555556,
             "#d8576b"
            ],
            [
             0.6666666666666666,
             "#ed7953"
            ],
            [
             0.7777777777777778,
             "#fb9f3a"
            ],
            [
             0.8888888888888888,
             "#fdca26"
            ],
            [
             1,
             "#f0f921"
            ]
           ],
           "sequentialminus": [
            [
             0,
             "#0d0887"
            ],
            [
             0.1111111111111111,
             "#46039f"
            ],
            [
             0.2222222222222222,
             "#7201a8"
            ],
            [
             0.3333333333333333,
             "#9c179e"
            ],
            [
             0.4444444444444444,
             "#bd3786"
            ],
            [
             0.5555555555555556,
             "#d8576b"
            ],
            [
             0.6666666666666666,
             "#ed7953"
            ],
            [
             0.7777777777777778,
             "#fb9f3a"
            ],
            [
             0.8888888888888888,
             "#fdca26"
            ],
            [
             1,
             "#f0f921"
            ]
           ]
          },
          "colorway": [
           "#636efa",
           "#EF553B",
           "#00cc96",
           "#ab63fa",
           "#FFA15A",
           "#19d3f3",
           "#FF6692",
           "#B6E880",
           "#FF97FF",
           "#FECB52"
          ],
          "font": {
           "color": "#2a3f5f"
          },
          "geo": {
           "bgcolor": "white",
           "lakecolor": "white",
           "landcolor": "#E5ECF6",
           "showlakes": true,
           "showland": true,
           "subunitcolor": "white"
          },
          "hoverlabel": {
           "align": "left"
          },
          "hovermode": "closest",
          "mapbox": {
           "style": "light"
          },
          "paper_bgcolor": "white",
          "plot_bgcolor": "#E5ECF6",
          "polar": {
           "angularaxis": {
            "gridcolor": "white",
            "linecolor": "white",
            "ticks": ""
           },
           "bgcolor": "#E5ECF6",
           "radialaxis": {
            "gridcolor": "white",
            "linecolor": "white",
            "ticks": ""
           }
          },
          "scene": {
           "xaxis": {
            "backgroundcolor": "#E5ECF6",
            "gridcolor": "white",
            "gridwidth": 2,
            "linecolor": "white",
            "showbackground": true,
            "ticks": "",
            "zerolinecolor": "white"
           },
           "yaxis": {
            "backgroundcolor": "#E5ECF6",
            "gridcolor": "white",
            "gridwidth": 2,
            "linecolor": "white",
            "showbackground": true,
            "ticks": "",
            "zerolinecolor": "white"
           },
           "zaxis": {
            "backgroundcolor": "#E5ECF6",
            "gridcolor": "white",
            "gridwidth": 2,
            "linecolor": "white",
            "showbackground": true,
            "ticks": "",
            "zerolinecolor": "white"
           }
          },
          "shapedefaults": {
           "line": {
            "color": "#2a3f5f"
           }
          },
          "ternary": {
           "aaxis": {
            "gridcolor": "white",
            "linecolor": "white",
            "ticks": ""
           },
           "baxis": {
            "gridcolor": "white",
            "linecolor": "white",
            "ticks": ""
           },
           "bgcolor": "#E5ECF6",
           "caxis": {
            "gridcolor": "white",
            "linecolor": "white",
            "ticks": ""
           }
          },
          "title": {
           "x": 0.05
          },
          "xaxis": {
           "automargin": true,
           "gridcolor": "white",
           "linecolor": "white",
           "ticks": "",
           "title": {
            "standoff": 15
           },
           "zerolinecolor": "white",
           "zerolinewidth": 2
          },
          "yaxis": {
           "automargin": true,
           "gridcolor": "white",
           "linecolor": "white",
           "ticks": "",
           "title": {
            "standoff": 15
           },
           "zerolinecolor": "white",
           "zerolinewidth": 2
          }
         }
        },
        "title": {
         "text": "Total Hits vs Misses"
        },
        "xaxis": {
         "autorange": true,
         "range": [
          -3.725203379457238,
          0.023649554963433905
         ],
         "type": "log"
        },
        "yaxis": {
         "autorange": true,
         "range": [
          -3.031217315953933,
          0.03367362428504081
         ],
         "type": "log"
        }
       }
      },
      "image/png": "[encoded data removed]",
      "text/html": [
       "<div>\n",
       "        \n",
       "        \n",
       "            <div id=\"7d52f500-9284-4bfe-aa53-4a4c151646d1\" class=\"plotly-graph-div\" style=\"height:525px; width:100%;\"></div>\n",
       "            <script type=\"text/javascript\">\n",
       "                require([\"plotly\"], function(Plotly) {\n",
       "                    window.PLOTLYENV=window.PLOTLYENV || {};\n",
       "                    \n",
       "                if (document.getElementById(\"7d52f500-9284-4bfe-aa53-4a4c151646d1\")) {\n",
       "                    Plotly.newPlot(\n",
       "                        '7d52f500-9284-4bfe-aa53-4a4c151646d1',\n",
       "                        [{\"marker\": {\"color\": [\"green\", 1, 1, \"green\", \"green\", 1, 1, 1, 1, \"green\", 1, \"green\", \"green\", \"green\", 1, \"green\", 1, 1, \"green\", \"green\", \"green\", \"green\", \"green\", \"green\", 1, \"green\", 1, \"green\", \"green\", \"green\", \"green\", \"green\", \"green\", 1, \"green\", \"green\", \"green\", 1, \"green\", \"green\", 1, 1, \"green\", 1, \"green\", 1, \"green\", \"green\", \"green\", 1, 1, 1, \"green\", 1, \"green\", \"green\", \"green\", \"green\", 1, 1, \"green\", \"green\", 1, \"green\", 1, \"green\", \"green\", \"green\", \"green\", \"green\", \"green\", 1, \"green\", \"green\", \"green\", \"green\", 1, 1, 1, \"green\", 1, \"green\", \"green\", 1, \"green\", 1, 1, 1, 1, 1, \"green\", 1, \"green\", \"green\", \"green\", \"green\", 1, \"green\", \"green\", 1, 1, 1, 1, 1, \"green\", \"green\", \"green\", \"green\", 1, 1, \"green\", \"green\", \"green\", \"green\", 1, 1, \"green\", \"green\", 1, \"green\", 1, \"green\", \"green\", \"green\", \"green\", \"green\", 1, \"green\", 1, 1, 1, 1, \"green\", 1, \"green\", \"green\", 1, 1, 1, 1, 1, 1, 1, \"green\", 1, \"green\", \"green\", 1, 1, \"green\", 1, 1, \"green\", 1, 1, \"green\", 1, \"green\", \"green\", 1, 1, \"green\", 1, 1, 1, 1, 1, 1, 1, 1, 1, \"green\", 1, 1, 1, 1, \"green\", 1, \"green\", \"green\", \"green\", 1, \"green\", \"green\", 1, \"green\", 1, \"green\", \"green\", \"green\", 1, 1, \"green\", 1, 1, \"green\", \"green\", 1, 1, 1, 1, \"green\", 1, 1, \"green\", 1, 1, \"green\", \"green\", 1, 1, \"green\", 1, \"green\", \"green\", \"green\", \"green\", 1, 1, \"green\", \"green\", 1, \"green\", 1, \"green\", \"green\", \"green\", \"green\", \"green\", 1, 1, 1, \"green\", \"green\", \"green\", \"green\", 1, \"green\", 1, \"green\", \"green\", 1, \"green\", 1, 1, 1, 1, 1, 1, \"green\", \"green\", 1, 1, 1, 1, 1, \"green\", \"green\", 1, 1, \"green\", \"green\", \"green\", 1, 1, \"green\", 1, \"green\", \"green\", 1, \"green\", \"green\", 1, \"green\", \"green\", \"green\", 1, 1, 1, \"green\", 1, \"green\", 1, 1, 1, \"green\", \"green\", \"green\", \"green\", 1, \"green\", 1, \"green\", \"green\", \"green\", \"green\", 1, \"green\", \"green\", 1, \"green\", \"green\", 1, \"green\", \"green\", 1, 1, \"green\", \"green\", \"green\", 1, 1, \"green\", \"green\", \"green\", 1, 1, 1, 1, 1, 1, 1, 1, \"green\", 1, 1, 1, \"green\", \"green\", \"green\", 1, \"green\", 1, \"green\", \"green\", \"green\", 1, \"green\", 1, 1, \"green\", \"green\", \"green\", 1, \"green\", \"green\", \"green\", \"green\", 1, \"green\", \"green\", 1, \"green\", 1, 1, 1, \"green\", 1, 1, 1, 1, \"green\", \"green\", \"green\", \"green\", 1, \"green\", \"green\", 1, \"green\", 1, \"green\", \"green\", 1, 1, 1, \"green\", 1, 1, \"green\", \"green\", 1, 1, 1, \"green\", \"green\", \"green\", \"green\", \"green\", \"green\", 1, \"green\", \"green\", \"green\", 1, 1, 1, \"green\", 1, 1, 1, \"green\", \"green\", \"green\", \"green\", 1, \"green\", \"green\", 1, 1, \"green\", 1, 1, 1, 1, \"green\", \"green\", 1, \"green\", 1, \"green\", 1, 1, 1, 1, 1, 1, \"green\", 1, 1, 1, 1, \"green\", 1, \"green\", \"green\", 1, \"green\", 1, 1, 1, \"green\", \"green\", \"green\", \"green\", \"green\", 1, \"green\", 1, \"green\", \"green\", \"green\", \"green\", \"green\", \"green\", 1, \"green\", 1, 1, \"green\", \"green\", \"green\", \"green\", 1, \"green\", 1, \"green\"]}, \"mode\": \"markers\", \"text\": [\"SHW.N\", \"DTE.N\", \"LOW.N\", \"WBA.OQ\", \"MAR.OQ\", \"EMR.N\", \"WEC.N\", \"LEG.N\", \"REG.OQ\", \"MS.N\", \"BLK.N\", \"HOLX.OQ\", \"DVN.N\", \"ALLE.N\", \"PEAK.N\", \"DLTR.OQ\", \"AIV.N\", \"PAYX.OQ\", \"TER.OQ\", \"WDC.OQ\", \"PWR.N\", \"XOM.N\", \"CMA.N\", \"DISCK.OQ\", \"NDAQ.OQ\", \"DPZ.N\", \"BXP.N\", \"BEN.N\", \"AMAT.OQ\", \"FLT.N\", \"ZION.OQ\", \"RF.N\", \"DISH.OQ\", \"PEG.N\", \"ALL.N\", \"SLB.N\", \"PGR.N\", \"SWKS.OQ\", \"EL.N\", \"NOC.N\", \"PKG.N\", \"CSX.OQ\", \"MSCI.N\", \"CERN.OQ\", \"ANSS.OQ\", \"UNH.N\", \"ALGN.OQ\", \"NLSN.N\", \"TTWO.OQ\", \"BIO.N\", \"CAG.N\", \"XLNX.OQ\", \"ADBE.OQ\", \"NTRS.OQ\", \"SPGI.N\", \"CVX.N\", \"AIZ.N\", \"PRGO.N\", \"CNC.N\", \"AKAM.OQ\", \"COG.N\", \"BIIB.OQ\", \"K.N\", \"EQIX.OQ\", \"DD.N\", \"WFC.N\", \"SJM.N\", \"ZBRA.OQ\", \"CPRT.OQ\", \"BFb.N\", \"NOW.N\", \"IBM.N\", \"PAYC.N\", \"DXC.N\", \"NFLX.OQ\", \"GL.N\", \"HON.N\", \"APTV.N\", \"GIS.N\", \"NRG.N\", \"SEE.N\", \"ROST.OQ\", \"BMY.N\", \"ALB.N\", \"APD.N\", \"DOW.N\", \"REGN.OQ\", \"XRX.N\", \"VTR.N\", \"PNW.N\", \"AFL.N\", \"AON.N\", \"LMT.N\", \"ZTS.N\", \"ABC.N\", \"CDNS.OQ\", \"EA.OQ\", \"ORLY.OQ\", \"FITB.OQ\", \"CHRW.OQ\", \"ECL.N\", \"PHM.N\", \"EXR.N\", \"VRSN.OQ\", \"TXT.N\", \"EBAY.OQ\", \"BAC.N\", \"PYPL.OQ\", \"CMCSA.OQ\", \"EQR.N\", \"SBUX.OQ\", \"EW.N\", \"TMO.N\", \"HPE.N\", \"HAS.OQ\", \"IR.N\", \"KHC.OQ\", \"HAL.N\", \"BR.N\", \"QCOM.OQ\", \"ATVI.OQ\", \"DGX.N\", \"TDG.N\", \"LNC.N\", \"IPG.N\", \"JNPR.N\", \"TMUS.OQ\", \"CTLT.N\", \"ESS.N\", \"WLTW.OQ\", \"JBHT.OQ\", \"AMGN.OQ\", \"TAP.N\", \"EFX.N\", \"DISCA.OQ\", \"GRMN.OQ\", \"NI.N\", \"ILMN.OQ\", \"CSCO.OQ\", \"FRC.N\", \"MDLZ.OQ\", \"FLIR.OQ\", \"VNO.N\", \"LHX.N\", \"NKE.N\", \"ANTM.N\", \"PPL.N\", \"CCI.N\", \"FAST.OQ\", \"RJF.N\", \"FCX.N\", \"LNT.OQ\", \"NWSA.OQ\", \"FFIV.OQ\", \"MCD.N\", \"ADSK.OQ\", \"XEL.OQ\", \"IDXX.OQ\", \"LB.N\", \"PCAR.OQ\", \"PSA.N\", \"PVH.N\", \"KO.N\", \"HRL.N\", \"TEL.N\", \"JPM.N\", \"GE.N\", \"FLS.N\", \"BDX.N\", \"MMC.N\", \"WELL.N\", \"MSFT.OQ\", \"VFC.N\", \"GPN.N\", \"MRK.N\", \"PG.N\", \"FANG.OQ\", \"UNP.N\", \"FB.OQ\", \"PXD.N\", \"RE.N\", \"CTXS.OQ\", \"TSN.N\", \"KSU.N\", \"WMT.N\", \"NVR.N\", \"IFF.N\", \"KLAC.OQ\", \"MTB.N\", \"HBAN.OQ\", \"DLR.N\", \"MTD.N\", \"CB.N\", \"PEP.OQ\", \"ABMD.OQ\", \"MCK.N\", \"EVRG.N\", \"MMM.N\", \"MAA.N\", \"WM.N\", \"AJG.N\", \"WHR.N\", \"RTX.N\", \"HSY.N\", \"CMG.N\", \"ORCL.N\", \"COST.OQ\", \"VIAC.OQ\", \"TDY.N\", \"ED.N\", \"STX.OQ\", \"APH.N\", \"WAB.N\", \"PNC.N\", \"FE.N\", \"HLT.N\", \"MCHP.OQ\", \"AZO.N\", \"WAT.N\", \"WRK.N\", \"CINF.OQ\", \"FTV.N\", \"TJX.N\", \"NSC.N\", \"LRCX.OQ\", \"KMX.N\", \"MHK.N\", \"KEY.N\", \"FOXA.OQ\", \"J.N\", \"AVY.N\", \"LLY.N\", \"SIVB.OQ\", \"CTVA.N\", \"CXO.N\", \"GILD.OQ\", \"ES.N\", \"V.N\", \"ITW.N\", \"GPS.N\", \"PBCT.OQ\", \"ABT.N\", \"CPRI.N\", \"AXP.N\", \"SPG.N\", \"JNJ.N\", \"ULTA.OQ\", \"ZBH.N\", \"LW.N\", \"UNM.N\", \"GS.N\", \"ADP.OQ\", \"CMS.N\", \"WY.N\", \"CBOE.Z\", \"O.N\", \"ROP.N\", \"FDX.N\", \"AMCR.N\", \"XRAY.OQ\", \"MLM.N\", \"KMI.N\", \"HBI.N\", \"AEP.OQ\", \"AVB.N\", \"INTC.OQ\", \"DRI.N\", \"LKQ.OQ\", \"ABBV.N\", \"ATO.N\", \"PRU.N\", \"KEYS.N\", \"SRE.N\", \"C.N\", \"TIF.N\", \"TGT.N\", \"LDOS.N\", \"ICE.N\", \"INFO.N\", \"MSI.N\", \"STZ.N\", \"AIG.N\", \"SCHW.N\", \"IQV.N\", \"DE.N\", \"DFS.N\", \"BBY.N\", \"DG.N\", \"EXC.OQ\", \"MNST.OQ\", \"AMD.OQ\", \"KMB.N\", \"WRB.N\", \"TFX.N\", \"F.N\", \"HWM.N\", \"D.N\", \"ANET.N\", \"MCO.N\", \"AES.N\", \"ODFL.OQ\", \"MOS.N\", \"ETR.N\", \"COF.N\", \"QRVO.OQ\", \"A.N\", \"JKHY.OQ\", \"AVGO.OQ\", \"MET.N\", \"CAH.N\", \"DRE.N\", \"ARE.N\", \"BK.N\", \"NUE.N\", \"DUK.N\", \"UPS.N\", \"SO.N\", \"SYK.N\", \"BSX.N\", \"UA.N\", \"CME.OQ\", \"SWK.N\", \"PH.N\", \"RL.N\", \"PNR.N\", \"ROK.N\", \"VRSK.OQ\", \"STT.N\", \"FOX.OQ\", \"IT.N\", \"SYY.N\", \"USB.N\", \"AWK.N\", \"MAS.N\", \"VRTX.OQ\", \"SNA.N\", \"PKI.N\", \"OKE.N\", \"CMI.N\", \"GPC.N\", \"ADI.OQ\", \"FMC.N\", \"PM.N\", \"CLX.N\", \"ISRG.OQ\", \"NVDA.OQ\", \"BWA.N\", \"HCA.N\", \"AEE.N\", \"TYL.N\", \"BKNG.OQ\", \"AAP.N\", \"LEN.N\", \"MXIM.OQ\", \"MO.N\", \"OTIS.N\", \"IVZ.N\", \"MDT.N\", \"PFE.N\", \"SYF.N\", \"XYL.N\", \"GOOGL.OQ\", \"KR.N\", \"INTU.OQ\", \"PSX.N\", \"MKC.N\", \"CHTR.OQ\", \"CE.N\", \"HSIC.OQ\", \"AME.N\", \"ETN.N\", \"MKTX.OQ\", \"NWS.OQ\", \"STE.N\", \"IPGP.OQ\", \"DHR.N\", \"HPQ.N\", \"UAA.N\", \"PLD.N\", \"HII.N\", \"LUMN.N\", \"NTAP.OQ\", \"CAT.N\", \"CPB.N\", \"NEM.N\", \"PFG.OQ\", \"WST.N\", \"YUM.N\", \"HFC.N\", \"AMP.N\", \"UDR.N\", \"AMT.N\", \"HD.N\", \"IP.N\", \"TROW.OQ\", \"GD.N\", \"TSCO.OQ\", \"FBHS.N\", \"COO.N\", \"DOV.N\", \"GLW.N\", \"CNP.N\", \"BKR.N\", \"EOG.N\", \"MYL.OQ\", \"URI.N\", \"DXCM.OQ\", \"GM.N\", \"VZ.N\", \"MU.OQ\", \"RMD.N\", \"NEE.N\", \"FRT.N\", \"LIN.N\", \"AOS.N\", \"SBAC.OQ\", \"FTI.N\", \"RHI.N\", \"T.N\", \"KIM.N\", \"HIG.N\", \"VAR.N\", \"IEX.N\", \"CBRE.N\", \"IRM.N\", \"TWTR.N\", \"DIS.N\", \"MA.N\", \"EXPD.OQ\", \"BAX.N\", \"ROL.N\", \"CTSH.OQ\", \"FISV.OQ\", \"PPG.N\", \"TPR.N\", \"EMN.N\", \"BLL.N\", \"VMC.N\", \"ACN.N\", \"OMC.N\", \"EIX.N\", \"NWL.OQ\", \"LH.N\", \"UHS.N\", \"WU.N\", \"DVA.N\", \"RSG.N\", \"HUM.N\", \"WMB.N\", \"LYB.N\", \"AMZN.OQ\", \"CRM.N\", \"TRV.N\", \"AAPL.OQ\", \"CVS.N\", \"CL.N\", \"ETSY.OQ\", \"JCI.N\", \"CHD.N\", \"SNPS.OQ\", \"CF.N\", \"ALXN.OQ\", \"CI.N\", \"FIS.N\", \"FTNT.OQ\", \"TXN.OQ\", \"CTAS.OQ\"], \"type\": \"scatter\", \"x\": [0.011621880905050641, 0.0015773014295884663, 0.020761928394011232, 0.0013008812071162146, 0.1306059861246057, 0.004207621922259273, 0.002436083072687213, 0.003323110306959166, 0.0010038263733126796, 0.0007788733357366811, 0.0023375454928134557, 0.0051013018905240876, 0.0011190703993910825, 0.00976030571083245, 0.0017861504634606338, 0.00260297923169877, 0.0019362109580500426, 0.009137344405490489, 0.006592589034906549, 0.0010265853577712905, 0.0017073196194150515, 0.0006861633896193699, 0.0007425630011254435, 0.0008479527441331822, 0.002758619530335861, -0.003600731419484613, 0.0017571713829957261, 0.0007796877847122048, 0.00530347620296845, 0.005944499638830056, 0.0006599761447394674, 0.0006363757309788441, 0.0009060983706712847, 0.0015314790593750755, 0.0008161803802653088, 0.0016585846442654644, 0.0022814816773105754, 0.004522930997774491, 0.015585338920255784, 0.0037410279722486523, 0.002923330907556236, 0.004136386314023938, -0.06538744496076358, 0.004003920773344693, 0.006124533411236255, 0.003969603154922828, 0.009665681676391145, 0.002142134190868832, 0.004940781129265495, 0.0015282823444815845, 0.0016122132108460276, 0.010152660771681662, 0.015051852138037489, 0.0012723139809663012, 0.14700450561877354, 0.0008771567224322155, 0.0010225292048383647, 0.0008415794604459517, 0.0012090630108963333, 0.003067247100898693, 0.002442139529088065, 0.002634777626590871, 0.006788425227960406, 0.0048907197201858935, 0.00093920618018267, 0.0004306874044652175, 0.0012072364066851803, 0.007589567565115892, 0.008940676618017918, 0.013354773399524938, 0.028554724655126627, 0.0037841424368782704, 0.028763684378599035, 0.000879842246089785, 0.015682211289888625, 0.0009108403606756526, 0.005962223479285167, 0.0030502845582607778, 0.0032934984831923587, 0.003141415801284038, 0.21165449294712987, 0.010436759602053447, 0.0022509072644811214, 0.002348616765005397, 0.0046181206511397436, 0.0024396204614355686, 0.004659179165755454, 0.000609694144068854, 0.001307345116774321, 0.0013214079017792543, 0.000700676318398939, 0.00982664326499032, 0.016027388130316532, 0.0169921638887875, -0.020140839658914295, 0.010762242646438101, 0.003261303656663697, 0.036649892806148415, 0.000642648048091028, 0.005311576015969599, 0.008024817547965463, 0.001361631858962478, 0.00450367592844558, -0.013073949429982338, 0.001320088641360903, 0.008888534609015742, 0.0006972211190361921, 0.009131369982299449, 0.001952811170490123, 0.0016356317652791172, -0.01123635614480268, 0.00968838629226106, 0.004708770503572122, 0.0006038286540839597, 0.003289071214843466, 0.0015876963294547393, 0.0005931636830816946, 0.0019036325304113053, 0.009370762203300206, 0.0206914163752931, 0.0031589827131327398, 0.0019786022082390092, -0.005738945608353648, 0.0002980476554449918, 0.002353368938588301, 0.001205693836739145, 0.0018412154416397105, 0.0035548324163570772, 0.002126501002660451, 0.0018724530219756614, 0.004117291811054404, 0.009754492236260088, 0.0005233734563676081, 0.004916305348530026, 0.0008479527441331822, 0.0033667851805139946, 0.001327396031650641, 0.007402920771873986, 0.0033275176666203174, 0.0016239061647147625, 0.0023135375638420924, 0.0020827943651042058, 0.0008917960998139896, 0.0014276208916443748, 0.01705623871809251, 0.0018483343691263938, 0.0012590409770976546, 0.005534937632838944, 0.007132532135652122, 0.0013127162762166839, 0.002427137363924764, 0.0018660508610074994, 0.000944154857891455, 0.0033067569375849733, -0.013070514576560064, 0.6670531903786859, 0.0021833304343947726, 0.06587635557538503, -0.003693888942530832, 0.0024016632505031127, 0.003582297534595999, 0.0008565585791921846, 0.009464416516184848, 0.0033204401992466153, 0.0029082746840486495, 0.0010246485618945291, 0.001789952142128139, 0.001947359418796011, 0.0022841219513852445, 0.0050876898912306494, 0.001346317798175162, 0.010436722508530753, 0.008025185070621084, 0.0016285437172553518, 0.005439606919557691, 0.008951326219686783, 0.0004174089353420034, 0.006058345413422359, 0.005260983429040648, 0.0009718664939000923, 0.000777469882266119, 0.15977865569227176, 0.001155783942798663, 0.0030135995624545496, 0.004211017166813921, 0.003947444715585495, 0.0015645739788847839, 0.010192766290882697, 0.0007697179198688265, 0.0007337137992401543, 0.0017070251189576968, 0.04938585146351514, 0.0009168210274163326, 0.011071219910336001, 0.008330921313609938, 0.003803995573629714, 0.0011650345078848506, 0.0061861997261456565, 0.0018924913827514582, 0.005569490311769039, 0.002856644004585371, 0.0025908002276903114, 0.0011319207399872785, 0.011759134095857897, 0.01544030624384189, 0.014071882999147665, 0.006867175761706673, 0.0009584107441022596, 0.003458882120497957, 0.0011162105594856352, 0.005947101227530891, 0.005623259795607755, 0.001016154491487692, 0.0007940415416048235, 0.001746587331154574, -0.017019953835961357, 0.00471516117461054, -0.024226995264844935, -0.2679720998960481, 0.0007680871513809377, 0.0011028181279781422, 0.002408543149568522, 0.012214805244301215, 0.0030536272895402908, 0.008658959510646927, 0.003083992654072439, 0.0008313682848403967, 0.0006527376471790324, 0.0011375925409910475, 0.0017413071732973284, 0.00742662371898468, 0.021987502783390928, 0.0017202244288165999, 0.0008373868792883475, 0.0009537658733173377, 0.0033064873905571304, 0.0017682414471747285, 0.009047986392245121, 0.01957542404847571, 0.0029842595004029794, 0.0005398773129492067, 0.004815715818490981, 0.001441755814679477, 0.0033681461809015752, 0.009295253322580644, 0.004649360193372145, 0.0061296167395644, 0.0021228550864695332, 0.026068571098524448, 0.00030206779671116, 0.0006222519859151761, 0.009788173894562035, 0.0027748580923404767, 0.00192028269775933, 0.0022015492776122276, 0.0016079992381040165, 0.0031397432158322466, 0.0027756670493822456, 0.0031312955935518124, 0.0018391995944180826, 0.002204852224851848, 0.000687823791607438, 0.003025750714094995, 0.0017088381314420932, 0.001682598359047404, 0.001954036712788717, 0.005152064086002665, 0.0015605170515731051, 0.008572685203201936, 0.001455370419387899, 0.0003419486766262615, 0.005036311904843864, 0.0012592676532891857, 0.00039882914561691714, 0.0038842517851351644, 0.0048031294263879195, 0.0028266929853612986, 0.0022583763499314977, 0.00329460320601907, -0.029742064507291777, 0.002581031634213661, 0.0003930491239063697, 0.0014655829351747755, 0.004439458189868496, 0.004717565299459901, 0.0017757489595314057, 0.005909457353529764, 0.005615304450714922, 0.001002352545853419, 0.0072319103877195355, 0.020142005110353235, 0.10508763274757645, 0.0016041745067931056, 0.004082407924943412, 0.0007904688949998953, 0.002211054736191366, 0.0020295039181722502, 0.005003177833947665, 0.026944600126137686, 0.005425938569407701, 0.005749015071976679, 0.0005887983258917056, 0.001545238269679721, 0.0005306871449280094, 0.003017297015697154, 0.005440782084924963, 0.006120262979035247, 0.005020933354479526, 0.00042009608363099385, 0.008931054834934088, 0.0022312571193693473, 0.001496089948372485, 0.0006022809130105352, 0.0011595928331838287, 0.0011898126599427738, 0.019651047984503383, 0.001795541802029282, 0.00528691603119816, 0.0027404623040982123, 0.0037052406069231743, 0.0016802246772898877, 0.0020467805983518574, 0.003887757428710266, 0.001830984652644227, 0.0033413982651943064, 0.029898497377022437, 0.010286924662053224, 0.0007543688884666598, 0.0011375925409910475, 0.010470356630233052, 0.021700493907968077, 0.000986590733033339, 0.003522702805599076, 0.07740217219412707, 0.005557345206680382, 0.001964890079624973, 0.00345502994837234, 0.0017671392974338178, 0.0034332844709834133, 0.0036756945457798876, 0.0033189237444388744, 0.0037735244545254393, -0.007191770872056204, 0.017176087822562424, 0.007652955495601341, 0.018848629620705153, 0.001522351847799067, -0.039899009842352236, 0.0018851510097028375, 0.006961280509378483, 0.013765578313778422, 0.002265486995377917, 0.0009995285115167326, 0.009873545252155799, 0.017617382863321884, -0.005329311098013307, 0.0003813479462563476, 0.0023574126492977407, 0.0026022733907609943, 0.0011227956677768173, 0.004580404428622007, 0.004370853022497827, 0.0019079142540585428, 0.014392211068781873, 0.000984695849589187, 0.00471554548763828, 0.0035512286783648756, 0.004600538964413247, 0.0023934290860828144, 0.003586695168950562, 0.0024364160576626276, 0.017636786377177718, 0.000944154857891455, 0.003463228905857904, 0.0034336811026897123, 0.003410188583897877, -0.01063756791272006, 0.0037052406069231743, 0.0017878326771240838, 0.002619419871144647, 0.0005780126257450541, 0.0302566442462127, 0.004839492282261857, 0.004236571175616038, 0.0018258015960615586, 0.0006513908543756491, 0.009603862974964348, -0.0030319251762815067, 0.0005339939453344812, 0.002646284329934914, 0.002643874223190868, 0.022083575300498464, -0.5470087941326146, 0.0020462168157672237, 0.0033924451827826653, 0.0022620127080196875, 0.006274582053301466, 0.003296812879006504, 0.0035806277898236876, 0.0041428829880790176, 0.0016720246218705367, 0.0012015978712597438, 0.0008320912169911031, 0.0009098435101088303, 0.00048562140036053166, 0.002781545759594302, 0.01716350424921056, 0.0009811037327658691, 0.0029667757106257233, 0.0012451442865313558, 0.009302412779301106, 0.003094353816507386, 0.0023206558886318318, 0.0022831311089978176, 0.004069733309952776, -0.005760564469346975, 0.0006063413950226233, 0.004630242286093404, 0.0008954321424842981, 0.0008357066668488585, 0.0007039153334604561, 0.005923122669359373, 0.004622399241231606, 0.0023205101522084564, 0.006386990983669835, 0.0034241113429130947, 0.0023056778532591264, 0.04625235975031872, 0.004603821126444264, 0.003763604027646117, 0.015598265067899322, 0.002786745655874744, 0.001798917283565359, 0.0049198395505933145, 0.0021308747357005374, 0.0015699079352351768, 0.008212585078051811, 0.002363272506055097, 0.0069916093744135915, 0.00352419562714837, 0.0011457204137901372, 0.0016965151408678638, 0.0018298519194822993, 0.0014085054736330733, 0.10237901680523372, 0.005764043717738093, 0.0029786716280479626, 0.002767682382869682, 0.0015166358433646137, 0.002828741776986114, 0.014863395029804369, 0.004774615012491645, 0.0009521465297089536, 0.023561539716329294, 0.0010015454101568629, 0.08368876647458866, 0.016772672373250776, 0.00144138802422657, 0.005116613403414752, 0.006018267178227103, 0.001708927460777915, 0.0019251477367757596, 0.0012888551143654715, 0.001396776792464497, 0.02077629188202895, 0.013424318356523466, 0.008217840977041601], \"y\": [0.013227491888328426, 0.009119617370957867, 0.009005827227539303, 0.0040983393318546075, 0.02253239133145467, 0.010891668936347845, 0.013153962124828299, 0.008255354536739255, 0.021175146379332196, 0.005417558908929221, 0.00977715321911814, 0.005565697997360131, 0.014153933316071664, 0.011931142043545648, 0.0176652228918622, 0.008502112084227962, 0.011464160693684718, 0.01558104359338961, 0.010652333100090948, 0.005249984647272336, 0.008000599385480913, 0.01648340630611155, 0.007294346658651983, 0.0033810901352710394, 0.010718611828710532, 0.014734530820480717, 0.015394909470205912, 0.0038166916048912, 0.007802807061373806, 0.010887421602455136, 0.006488987888768123, 0.005828569619157825, 0.005863477614782129, 0.008866794943697935, 0.003867007076188972, 0.011375322387842692, 0.007815952544028622, 0.009491035668313877, 0.022169558008607253, 0.006291934277388729, 0.00957762216568692, 0.010638968220341367, 0.023502791759867542, 0.011721193213542137, 0.023829262367548478, 0.009713499072303575, 0.030823212394553563, 0.004620756107056741, 0.014460867251886153, 0.027448551058203832, 0.00678888674583997, 0.02143733443603801, 0.02150963375405426, 0.007613281427437773, 0.014729612005385355, 0.07393904849135602, 0.0063832491622371245, 0.005418530407274289, 0.006373900215568457, 0.009168156003138972, 0.00486563947973063, 0.004461491467371892, 0.007900823263841254, 0.04712791431167406, 0.010092887272285956, 0.007111289327204851, 0.006616150235568361, 0.012605244519484393, 0.020388408914353732, 0.020237839504645735, 0.04660614545291539, 0.005225457496788827, 0.04980076963668867, 0.0014608148019824726, 0.0276797898279617, 0.006145720321804819, 0.012750712699222856, 0.01470036370540178, 0.00801624159660377, 0.004009113696733091, 0.0067734462756256575, 0.015353902264807685, 0.004401055512828208, 0.014444803981791595, 0.015979054608362128, 0.010537677939930023, 0.008070709416231735, 0.005229206059667099, 0.08808231660965787, 0.008780801260908593, 0.004296585487862504, 0.009203550184257078, 0.007061733766125635, 0.019993326333551872, 0.006279203502694977, 0.02096770940796898, 0.01010977504870888, 0.009931666055658537, 0.006255347229031234, 0.011458143635859426, 0.02118433512851943, 0.0037839706594210757, 0.016814621673432898, 0.01693498836606099, 0.008254218125491479, 0.006604878923816045, 0.006881479625460818, 0.020965006307550296, 0.008406762640933147, 0.022493145930472584, 0.01693272422066908, 0.019414963300423044, 0.0122636936970775, 0.0032202229688986506, 0.00997212222243112, 0.012847471489845592, 0.006011865364972087, 0.009168350809585425, 0.012987274544838947, 0.010119213170827118, 0.010761656577425832, 0.006022773467936941, 0.023719127216243998, 0.0023551719150883216, 0.00586831717092487, 0.006581786095236943, 0.021014477316853138, 0.01909308689296965, 0.02694902578652373, 0.008565904313897983, 0.010839056672347951, 0.007001095402703749, 0.004296040306022348, 0.011899098967011707, 0.0033810901352710394, 0.011618339006037657, 0.009048191299086442, 0.024798967643480874, 0.006086700260052137, 0.01371669063215871, 0.010130388482176721, 0.007924607422137632, 0.12435606765078522, 0.007256641958350931, 0.020220150149349237, 0.006525487945806407, 0.005877019918471699, 0.03542653156117076, 0.015151166841999339, 0.006761344812106406, 0.03611132367199724, 0.011101704186044949, 0.02198419242967852, 0.007827043666315685, 0.013402001730905147, 0.026550051777226472, 0.012541209431642953, 0.033588866703402186, 0.00864149313716051, 0.008949216660758737, 0.014916532426168564, 0.009391857405692679, 0.012726459555911614, 0.013688671115403749, 0.010017198395653721, 0.009469738772520657, 0.0136107194674286, 0.009990627070449594, 0.009584481253710968, 0.01056885147555237, 0.032906822535418906, 0.015650478287212118, 0.0172870415627267, 0.012483367971525078, 0.006422916709375517, 0.01218520360163912, 0.004671240961352446, 0.010855388168067474, 0.013689061438461294, 0.008912698006049172, 0.005071153880008936, 0.009125382857217883, 0.005181601467993191, 0.01126769849763943, 0.013010253640841575, 0.006704600574914895, 0.009232076250131975, 0.009354932308503292, 0.006238783663644634, 0.0061309785377043746, 0.06290232024252031, 0.02195841145010294, 0.006943515710823895, 0.011674857474654474, 0.02892568445017246, 0.005221242613447873, 0.00910079542770027, 0.0088370512829636, 0.028029690439192477, 0.013484363122134323, 0.011820687004860768, 0.004832802276655686, 0.00952231835639527, 0.01163533486231036, 0.03267734451360455, 0.0065493302358595054, 0.02012328666875344, 0.0032545251505125628, 0.016601364771539114, 0.008952224501159485, 0.00553296918351708, 0.014900737797377196, 0.008035323788461918, 0.007121324204329453, 0.005695006655692291, 0.027187306522373944, 0.009429382558167809, 0.007520007188364315, 0.012764935084431883, 0.006318087332822041, 0.011807581196918791, 0.014235526439244776, 0.018543103177857973, 0.010619510432325872, 0.008984168388123218, 0.009295033171692625, 0.006460258435699082, 0.0057905409882741884, 0.005897067045832138, 0.008627427144919212, 0.010810373907273761, 0.009108434202144588, 0.00968549591358848, 0.010602900212897386, 0.006206014076176166, 0.00444347153638114, 0.012188732207650715, 0.019055164613526434, 0.014526650309992175, 0.02362594699307673, 0.005897361740639203, 0.012850254486739869, 0.005846311060126364, 0.009471695052423833, 0.008814848160607113, 0.008291136640873881, 0.013600928207388372, 0.00946538530176099, 0.014135588412204157, 0.0020087430784890064, 0.004636516641864197, 0.014517116016201466, 0.011779783975142443, 0.01370702801074311, 0.008704772846462856, 0.021288104387047754, 0.013668199535077533, 0.008052784476986824, 0.00835659006690377, 0.012038637640765432, 0.012582219520163328, 0.006799600058506454, 0.004101117901424103, 0.009841750162143047, 0.020931326757529303, 0.004965221771018341, 0.012182381359634443, 0.006601348038740839, 0.003985874620759814, 0.009780424206879648, 0.0032326979516292998, 0.010845334122804438, 0.00821039186423761, 0.00443298079768131, 0.01808654731161818, 0.01026488841416091, 0.0075312932291763035, 0.010484495410456703, 0.01457711758676183, 0.010139195464058502, 0.011888984398956467, 0.004603504086911984, 0.0093553811690444, 0.011485975233868061, 0.011903314236084008, 0.005960270020182144, 0.007813587971407852, 0.010688869648550843, 0.007256575026055397, 0.01606833637841532, 0.02382290047491418, 0.008556610027617591, 0.011082376287061557, 0.014759007809743763, 0.0076323578520958515, 0.005126635937479184, 0.011040313204062246, 0.013612166018154574, 0.01346609246155323, 0.006922240875325371, 0.015323824701068186, 0.008135166840914934, 0.009282840281505715, 0.005619241491196752, 0.01301486953888191, 0.015443815143376378, 0.019954142543417635, 0.007462159527251475, 0.0036792936982544266, 0.0047143664678457224, 0.03421278560404033, 0.028497655721846038, 0.005085528491255781, 0.008375739210173164, 0.009233819303209913, 0.00985351794447823, 0.009485609806806666, 0.012047020723414877, 0.012213192850107427, 0.4437748161078465, 0.012128185028498955, 0.009550894526161334, 0.010012823319773718, 0.00951583015907968, 0.010100100178276852, 0.016023219795765067, 0.01844112957917721, 0.005474948260699975, 0.005897067045832138, 0.02103481066782952, 0.015455579468242922, 0.007136498041856885, 0.01952851235360271, 0.008417020536623335, 0.009928706618531874, 0.007417917713774057, 0.0077470617180185495, 0.005509567313213386, 0.008707218420377413, 0.008734402253779274, 0.012303303571236855, 0.015972564305320274, 0.00645595415703324, 0.01220417992892735, 0.030461172742224634, 0.025754934531004362, 0.005334157795768444, 0.006300405641610009, 0.011206174516119728, 0.036153365657351645, 0.02118538905519031, 0.008698903720833371, 0.00440410308107928, 0.014075344982466773, 0.00420283420117532, 0.01225342517834171, 0.003795948240984212, 0.011707749990919449, 0.0075678823682582925, 0.005111844888045285, 0.01863158109273926, 0.014813668580888333, 0.0054907979506624155, 0.020765596770473318, 0.009638670194080115, 0.015465528450670464, 0.02205074856550202, 0.007175575778511989, 0.009357830976111581, 0.013693477103193243, 0.011750872117479234, 0.03289493967967421, 0.02198419242967852, 0.014850706613049477, 0.022787122576475322, 0.016848023343969336, 0.0042191772785583745, 0.4437748161078465, 0.03664636752238754, 0.006860335140219985, 0.003247574912222717, 0.006704708049337344, 0.01210830986471069, 0.00783546062290977, 0.007681601665870494, 0.004082615876165294, 0.028668833161580434, 0.013114192447286838, 0.028190604512548886, 0.005228273313691786, 0.6884321559098888, 0.02251900819403654, 0.011438127035082058, 0.006897371541419991, 0.007071517470758733, 0.006433271754658319, 0.009998371796803397, 0.00885925058819842, 0.013976358139228467, 0.009933577582153423, 0.010102084954205571, 0.008837126610016508, 0.016873469808833735, 0.010766712592975326, 0.0016420298306367882, 0.006240518375501042, 0.05198719031210503, 0.004043567545574147, 0.006045033922683857, 0.008073034424209766, 0.02114632238262017, 0.015384441687104981, 0.022982453415479193, 0.015523416359126777, 0.011568446486090152, 0.0625295172509331, 0.005689334621227263, 0.01045460180800149, 0.004425296777716172, 0.010158536669540544, 0.004169895273702933, 0.016157412204045235, 0.016906258001592747, 0.009401637796304277, 0.010292743184302153, 0.03468428840415735, 0.02732274605529118, 0.021633387820205102, 0.01102021828839292, 0.011733730146286637, 0.03487701376288959, 0.009472443848140576, 0.010447074641990009, 0.010829415115186515, 0.004501674841190708, 0.006598883078711649, 0.014289569443374528, 0.013848474008957608, 0.014734300176098052, 0.005131840947494366, 0.006702501443167052, 0.0058871006718116585, 0.005192360142788182, 0.00594909982252023, 0.005406626345727753, 0.006394052515137351, 0.01392615484353461, 0.00992747664073457, 0.008800459781447608, 0.005891845411896126, 0.03606769560671718, 0.034630249242774636, 0.006667128094802037, 0.014649876341817077, 0.004531087402705241, 0.012885899669902395, 0.028353486850414257, 0.010845140840591483, 0.014150732201170005, 0.019058530527991883, 0.009595383427956645, 0.004914338694063144, 0.005242802697849777, 0.011021570292124201, 0.016490646920269754, 0.013662585841340991, 0.019907811466077785]}],\n",
       "                        {\"template\": {\"data\": {\"bar\": [{\"error_x\": {\"color\": \"#2a3f5f\"}, \"error_y\": {\"color\": \"#2a3f5f\"}, \"marker\": {\"line\": {\"color\": \"#E5ECF6\", \"width\": 0.5}}, \"type\": \"bar\"}], \"barpolar\": [{\"marker\": {\"line\": {\"color\": \"#E5ECF6\", \"width\": 0.5}}, \"type\": \"barpolar\"}], \"carpet\": [{\"aaxis\": {\"endlinecolor\": \"#2a3f5f\", \"gridcolor\": \"white\", \"linecolor\": \"white\", \"minorgridcolor\": \"white\", \"startlinecolor\": \"#2a3f5f\"}, \"baxis\": {\"endlinecolor\": \"#2a3f5f\", \"gridcolor\": \"white\", \"linecolor\": \"white\", \"minorgridcolor\": \"white\", \"startlinecolor\": \"#2a3f5f\"}, \"type\": \"carpet\"}], \"choropleth\": [{\"colorbar\": {\"outlinewidth\": 0, \"ticks\": \"\"}, \"type\": \"choropleth\"}], \"contour\": [{\"colorbar\": {\"outlinewidth\": 0, \"ticks\": \"\"}, \"colorscale\": [[0.0, \"#0d0887\"], [0.1111111111111111, \"#46039f\"], [0.2222222222222222, \"#7201a8\"], [0.3333333333333333, \"#9c179e\"], [0.4444444444444444, \"#bd3786\"], [0.5555555555555556, \"#d8576b\"], [0.6666666666666666, \"#ed7953\"], [0.7777777777777778, \"#fb9f3a\"], [0.8888888888888888, \"#fdca26\"], [1.0, \"#f0f921\"]], \"type\": \"contour\"}], \"contourcarpet\": [{\"colorbar\": {\"outlinewidth\": 0, \"ticks\": \"\"}, \"type\": \"contourcarpet\"}], \"heatmap\": [{\"colorbar\": {\"outlinewidth\": 0, \"ticks\": \"\"}, \"colorscale\": [[0.0, \"#0d0887\"], [0.1111111111111111, \"#46039f\"], [0.2222222222222222, \"#7201a8\"], [0.3333333333333333, \"#9c179e\"], [0.4444444444444444, \"#bd3786\"], [0.5555555555555556, \"#d8576b\"], [0.6666666666666666, \"#ed7953\"], [0.7777777777777778, \"#fb9f3a\"], [0.8888888888888888, \"#fdca26\"], [1.0, \"#f0f921\"]], \"type\": \"heatmap\"}], \"heatmapgl\": [{\"colorbar\": {\"outlinewidth\": 0, \"ticks\": \"\"}, \"colorscale\": [[0.0, \"#0d0887\"], [0.1111111111111111, \"#46039f\"], [0.2222222222222222, \"#7201a8\"], [0.3333333333333333, \"#9c179e\"], [0.4444444444444444, \"#bd3786\"], [0.5555555555555556, \"#d8576b\"], [0.6666666666666666, \"#ed7953\"], [0.7777777777777778, \"#fb9f3a\"], [0.8888888888888888, \"#fdca26\"], [1.0, \"#f0f921\"]], \"type\": \"heatmapgl\"}], \"histogram\": [{\"marker\": {\"colorbar\": {\"outlinewidth\": 0, \"ticks\": \"\"}}, \"type\": \"histogram\"}], \"histogram2d\": [{\"colorbar\": {\"outlinewidth\": 0, \"ticks\": \"\"}, \"colorscale\": [[0.0, \"#0d0887\"], [0.1111111111111111, \"#46039f\"], [0.2222222222222222, \"#7201a8\"], [0.3333333333333333, \"#9c179e\"], [0.4444444444444444, \"#bd3786\"], [0.5555555555555556, \"#d8576b\"], [0.6666666666666666, \"#ed7953\"], [0.7777777777777778, \"#fb9f3a\"], [0.8888888888888888, \"#fdca26\"], [1.0, \"#f0f921\"]], \"type\": \"histogram2d\"}], \"histogram2dcontour\": [{\"colorbar\": {\"outlinewidth\": 0, \"ticks\": \"\"}, \"colorscale\": [[0.0, \"#0d0887\"], [0.1111111111111111, \"#46039f\"], [0.2222222222222222, \"#7201a8\"], [0.3333333333333333, \"#9c179e\"], [0.4444444444444444, \"#bd3786\"], [0.5555555555555556, \"#d8576b\"], [0.6666666666666666, \"#ed7953\"], [0.7777777777777778, \"#fb9f3a\"], [0.8888888888888888, \"#fdca26\"], [1.0, \"#f0f921\"]], \"type\": \"histogram2dcontour\"}], \"mesh3d\": [{\"colorbar\": {\"outlinewidth\": 0, \"ticks\": \"\"}, \"type\": \"mesh3d\"}], \"parcoords\": [{\"line\": {\"colorbar\": {\"outlinewidth\": 0, \"ticks\": \"\"}}, \"type\": \"parcoords\"}], \"pie\": [{\"automargin\": true, \"type\": \"pie\"}], \"scatter\": [{\"marker\": {\"colorbar\": {\"outlinewidth\": 0, \"ticks\": \"\"}}, \"type\": \"scatter\"}], \"scatter3d\": [{\"line\": {\"colorbar\": {\"outlinewidth\": 0, \"ticks\": \"\"}}, \"marker\": {\"colorbar\": {\"outlinewidth\": 0, \"ticks\": \"\"}}, \"type\": \"scatter3d\"}], \"scattercarpet\": [{\"marker\": {\"colorbar\": {\"outlinewidth\": 0, \"ticks\": \"\"}}, \"type\": \"scattercarpet\"}], \"scattergeo\": [{\"marker\": {\"colorbar\": {\"outlinewidth\": 0, \"ticks\": \"\"}}, \"type\": \"scattergeo\"}], \"scattergl\": [{\"marker\": {\"colorbar\": {\"outlinewidth\": 0, \"ticks\": \"\"}}, \"type\": \"scattergl\"}], \"scattermapbox\": [{\"marker\": {\"colorbar\": {\"outlinewidth\": 0, \"ticks\": \"\"}}, \"type\": \"scattermapbox\"}], \"scatterpolar\": [{\"marker\": {\"colorbar\": {\"outlinewidth\": 0, \"ticks\": \"\"}}, \"type\": \"scatterpolar\"}], \"scatterpolargl\": [{\"marker\": {\"colorbar\": {\"outlinewidth\": 0, \"ticks\": \"\"}}, \"type\": \"scatterpolargl\"}], \"scatterternary\": [{\"marker\": {\"colorbar\": {\"outlinewidth\": 0, \"ticks\": \"\"}}, \"type\": \"scatterternary\"}], \"surface\": [{\"colorbar\": {\"outlinewidth\": 0, \"ticks\": \"\"}, \"colorscale\": [[0.0, \"#0d0887\"], [0.1111111111111111, \"#46039f\"], [0.2222222222222222, \"#7201a8\"], [0.3333333333333333, \"#9c179e\"], [0.4444444444444444, \"#bd3786\"], [0.5555555555555556, \"#d8576b\"], [0.6666666666666666, \"#ed7953\"], [0.7777777777777778, \"#fb9f3a\"], [0.8888888888888888, \"#fdca26\"], [1.0, \"#f0f921\"]], \"type\": \"surface\"}], \"table\": [{\"cells\": {\"fill\": {\"color\": \"#EBF0F8\"}, \"line\": {\"color\": \"white\"}}, \"header\": {\"fill\": {\"color\": \"#C8D4E3\"}, \"line\": {\"color\": \"white\"}}, \"type\": \"table\"}]}, \"layout\": {\"annotationdefaults\": {\"arrowcolor\": \"#2a3f5f\", \"arrowhead\": 0, \"arrowwidth\": 1}, \"coloraxis\": {\"colorbar\": {\"outlinewidth\": 0, \"ticks\": \"\"}}, \"colorscale\": {\"diverging\": [[0, \"#8e0152\"], [0.1, \"#c51b7d\"], [0.2, \"#de77ae\"], [0.3, \"#f1b6da\"], [0.4, \"#fde0ef\"], [0.5, \"#f7f7f7\"], [0.6, \"#e6f5d0\"], [0.7, \"#b8e186\"], [0.8, \"#7fbc41\"], [0.9, \"#4d9221\"], [1, \"#276419\"]], \"sequential\": [[0.0, \"#0d0887\"], [0.1111111111111111, \"#46039f\"], [0.2222222222222222, \"#7201a8\"], [0.3333333333333333, \"#9c179e\"], [0.4444444444444444, \"#bd3786\"], [0.5555555555555556, \"#d8576b\"], [0.6666666666666666, \"#ed7953\"], [0.7777777777777778, \"#fb9f3a\"], [0.8888888888888888, \"#fdca26\"], [1.0, \"#f0f921\"]], \"sequentialminus\": [[0.0, \"#0d0887\"], [0.1111111111111111, \"#46039f\"], [0.2222222222222222, \"#7201a8\"], [0.3333333333333333, \"#9c179e\"], [0.4444444444444444, \"#bd3786\"], [0.5555555555555556, \"#d8576b\"], [0.6666666666666666, \"#ed7953\"], [0.7777777777777778, \"#fb9f3a\"], [0.8888888888888888, \"#fdca26\"], [1.0, \"#f0f921\"]]}, \"colorway\": [\"#636efa\", \"#EF553B\", \"#00cc96\", \"#ab63fa\", \"#FFA15A\", \"#19d3f3\", \"#FF6692\", \"#B6E880\", \"#FF97FF\", \"#FECB52\"], \"font\": {\"color\": \"#2a3f5f\"}, \"geo\": {\"bgcolor\": \"white\", \"lakecolor\": \"white\", \"landcolor\": \"#E5ECF6\", \"showlakes\": true, \"showland\": true, \"subunitcolor\": \"white\"}, \"hoverlabel\": {\"align\": \"left\"}, \"hovermode\": \"closest\", \"mapbox\": {\"style\": \"light\"}, \"paper_bgcolor\": \"white\", \"plot_bgcolor\": \"#E5ECF6\", \"polar\": {\"angularaxis\": {\"gridcolor\": \"white\", \"linecolor\": \"white\", \"ticks\": \"\"}, \"bgcolor\": \"#E5ECF6\", \"radialaxis\": {\"gridcolor\": \"white\", \"linecolor\": \"white\", \"ticks\": \"\"}}, \"scene\": {\"xaxis\": {\"backgroundcolor\": \"#E5ECF6\", \"gridcolor\": \"white\", \"gridwidth\": 2, \"linecolor\": \"white\", \"showbackground\": true, \"ticks\": \"\", \"zerolinecolor\": \"white\"}, \"yaxis\": {\"backgroundcolor\": \"#E5ECF6\", \"gridcolor\": \"white\", \"gridwidth\": 2, \"linecolor\": \"white\", \"showbackground\": true, \"ticks\": \"\", \"zerolinecolor\": \"white\"}, \"zaxis\": {\"backgroundcolor\": \"#E5ECF6\", \"gridcolor\": \"white\", \"gridwidth\": 2, \"linecolor\": \"white\", \"showbackground\": true, \"ticks\": \"\", \"zerolinecolor\": \"white\"}}, \"shapedefaults\": {\"line\": {\"color\": \"#2a3f5f\"}}, \"ternary\": {\"aaxis\": {\"gridcolor\": \"white\", \"linecolor\": \"white\", \"ticks\": \"\"}, \"baxis\": {\"gridcolor\": \"white\", \"linecolor\": \"white\", \"ticks\": \"\"}, \"bgcolor\": \"#E5ECF6\", \"caxis\": {\"gridcolor\": \"white\", \"linecolor\": \"white\", \"ticks\": \"\"}}, \"title\": {\"x\": 0.05}, \"xaxis\": {\"automargin\": true, \"gridcolor\": \"white\", \"linecolor\": \"white\", \"ticks\": \"\", \"title\": {\"standoff\": 15}, \"zerolinecolor\": \"white\", \"zerolinewidth\": 2}, \"yaxis\": {\"automargin\": true, \"gridcolor\": \"white\", \"linecolor\": \"white\", \"ticks\": \"\", \"title\": {\"standoff\": 15}, \"zerolinecolor\": \"white\", \"zerolinewidth\": 2}}}, \"title\": {\"text\": \"Total Hits vs Misses\"}, \"xaxis\": {\"type\": \"log\"}, \"yaxis\": {\"type\": \"log\"}},\n",
       "                        {\"responsive\": true}\n",
       "                    ).then(function(){\n",
       "                            \n",
       "var gd = document.getElementById('7d52f500-9284-4bfe-aa53-4a4c151646d1');\n",
       "var x = new MutationObserver(function (mutations, observer) {{\n",
       "        var display = window.getComputedStyle(gd).display;\n",
       "        if (!display || display === 'none') {{\n",
       "            console.log([gd, 'removed!']);\n",
       "            Plotly.purge(gd);\n",
       "            observer.disconnect();\n",
       "        }}\n",
       "}});\n",
       "\n",
       "// Listen for the removal of the full notebook cells\n",
       "var notebookContainer = gd.closest('#notebook-container');\n",
       "if (notebookContainer) {{\n",
       "    x.observe(notebookContainer, {childList: true});\n",
       "}}\n",
       "\n",
       "// Listen for the clearing of the current output cell\n",
       "var outputEl = gd.closest('.output');\n",
       "if (outputEl) {{\n",
       "    x.observe(outputEl, {childList: true});\n",
       "}}\n",
       "\n",
       "                        })\n",
       "                };\n",
       "                });\n",
       "            </script>\n",
       "        </div>"
      ]
     },
     "metadata": {},
     "output_type": "display_data"
    }
   ],
   "source": [
    "from sklearn.preprocessing import normalize\n",
    "\n",
    "X = clf_results['Price To Book Value Per Share (Daily Time Series Ratio)'].to_numpy()\n",
    "X_norm = normalize(X.reshape(1,-1))\n",
    "X_list = list(X_norm[0])\n",
    "\n",
    "Y = clf_results['Forward P/E (Daily Time Series Ratio)'].to_numpy()\n",
    "Y_norm = normalize(Y.reshape(1,-1))\n",
    "Y_list = list(Y_norm[0])\n",
    "\n",
    "color = clf_results['hits'].to_list()\n",
    "text = clf_results['Instrument'].to_list()\n",
    "\n",
    "fig = go.Figure(data = go.Scatter(\n",
    "    x=X_list,\n",
    "    y=Y_list,\n",
    "    mode='markers',\n",
    "    text= text,\n",
    "    marker = dict(color = color)))\n",
    "fig.update_yaxes(type=\"log\")\n",
    "fig.update_xaxes(type=\"log\")\n",
    "fig.update_layout(title= 'Total Hits vs Misses')\n",
    "\n",
    "\n",
    "fig.show()"
   ]
  },
  {
   "cell_type": "code",
   "execution_count": 106,
   "metadata": {},
   "outputs": [
    {
     "name": "stdout",
     "output_type": "stream",
     "text": [
      "[[0.21627409 0.02141328]\n",
      " [0.45824411 0.30406852]]\n"
     ]
    }
   ],
   "source": [
    "cfm = confusion_matrix(clf_results['Actuals'],clf_results['Predictions'])\n",
    "CFM = cfm/len(clf_results['Actuals'])\n",
    "print(CFM)"
   ]
  },
  {
   "cell_type": "code",
   "execution_count": 107,
   "metadata": {},
   "outputs": [
    {
     "data": {
      "application/vnd.plotly.v1+json": {
       "config": {
        "plotlyServerURL": "https://plot.ly"
       },
       "data": [
        {
         "colorscale": [
          [
           0,
           "rgb(247,251,255)"
          ],
          [
           0.125,
           "rgb(222,235,247)"
          ],
          [
           0.25,
           "rgb(198,219,239)"
          ],
          [
           0.375,
           "rgb(158,202,225)"
          ],
          [
           0.5,
           "rgb(107,174,214)"
          ],
          [
           0.625,
           "rgb(66,146,198)"
          ],
          [
           0.75,
           "rgb(33,113,181)"
          ],
          [
           0.875,
           "rgb(8,81,156)"
          ],
          [
           1,
           "rgb(8,48,107)"
          ]
         ],
         "reversescale": false,
         "showscale": true,
         "type": "heatmap",
         "x": [
          "Predicted GROWTH",
          "Predicted VALUE"
         ],
         "y": [
          "Observed GROWTH",
          "Observed VALUE"
         ],
         "z": [
          [
           0.21627408993576017,
           0.021413276231263382
          ],
          [
           0.4582441113490364,
           0.30406852248394006
          ]
         ]
        }
       ],
       "layout": {
        "annotations": [
         {
          "font": {
           "color": "#000000"
          },
          "showarrow": false,
          "text": "21.627409%",
          "x": "Predicted GROWTH",
          "xref": "x",
          "y": "Observed GROWTH",
          "yref": "y"
         },
         {
          "font": {
           "color": "#000000"
          },
          "showarrow": false,
          "text": "2.141328%",
          "x": "Predicted VALUE",
          "xref": "x",
          "y": "Observed GROWTH",
          "yref": "y"
         },
         {
          "font": {
           "color": "#FFFFFF"
          },
          "showarrow": false,
          "text": "45.824411%",
          "x": "Predicted GROWTH",
          "xref": "x",
          "y": "Observed VALUE",
          "yref": "y"
         },
         {
          "font": {
           "color": "#FFFFFF"
          },
          "showarrow": false,
          "text": "30.406852%",
          "x": "Predicted VALUE",
          "xref": "x",
          "y": "Observed VALUE",
          "yref": "y"
         },
         {
          "font": {
           "color": "black",
           "size": 14
          },
          "showarrow": false,
          "text": "Predicted value",
          "x": 0.5,
          "xref": "paper",
          "y": -0.15,
          "yref": "paper"
         },
         {
          "font": {
           "color": "black",
           "size": 14
          },
          "showarrow": false,
          "text": "Real value",
          "textangle": -90,
          "x": -0.35,
          "xref": "paper",
          "y": 0.5,
          "yref": "paper"
         }
        ],
        "autosize": true,
        "margin": {
         "l": 200,
         "t": 50
        },
        "template": {
         "data": {
          "bar": [
           {
            "error_x": {
             "color": "#2a3f5f"
            },
            "error_y": {
             "color": "#2a3f5f"
            },
            "marker": {
             "line": {
              "color": "#E5ECF6",
              "width": 0.5
             }
            },
            "type": "bar"
           }
          ],
          "barpolar": [
           {
            "marker": {
             "line": {
              "color": "#E5ECF6",
              "width": 0.5
             }
            },
            "type": "barpolar"
           }
          ],
          "carpet": [
           {
            "aaxis": {
             "endlinecolor": "#2a3f5f",
             "gridcolor": "white",
             "linecolor": "white",
             "minorgridcolor": "white",
             "startlinecolor": "#2a3f5f"
            },
            "baxis": {
             "endlinecolor": "#2a3f5f",
             "gridcolor": "white",
             "linecolor": "white",
             "minorgridcolor": "white",
             "startlinecolor": "#2a3f5f"
            },
            "type": "carpet"
           }
          ],
          "choropleth": [
           {
            "colorbar": {
             "outlinewidth": 0,
             "ticks": ""
            },
            "type": "choropleth"
           }
          ],
          "contour": [
           {
            "colorbar": {
             "outlinewidth": 0,
             "ticks": ""
            },
            "colorscale": [
             [
              0,
              "#0d0887"
             ],
             [
              0.1111111111111111,
              "#46039f"
             ],
             [
              0.2222222222222222,
              "#7201a8"
             ],
             [
              0.3333333333333333,
              "#9c179e"
             ],
             [
              0.4444444444444444,
              "#bd3786"
             ],
             [
              0.5555555555555556,
              "#d8576b"
             ],
             [
              0.6666666666666666,
              "#ed7953"
             ],
             [
              0.7777777777777778,
              "#fb9f3a"
             ],
             [
              0.8888888888888888,
              "#fdca26"
             ],
             [
              1,
              "#f0f921"
             ]
            ],
            "type": "contour"
           }
          ],
          "contourcarpet": [
           {
            "colorbar": {
             "outlinewidth": 0,
             "ticks": ""
            },
            "type": "contourcarpet"
           }
          ],
          "heatmap": [
           {
            "colorbar": {
             "outlinewidth": 0,
             "ticks": ""
            },
            "colorscale": [
             [
              0,
              "#0d0887"
             ],
             [
              0.1111111111111111,
              "#46039f"
             ],
             [
              0.2222222222222222,
              "#7201a8"
             ],
             [
              0.3333333333333333,
              "#9c179e"
             ],
             [
              0.4444444444444444,
              "#bd3786"
             ],
             [
              0.5555555555555556,
              "#d8576b"
             ],
             [
              0.6666666666666666,
              "#ed7953"
             ],
             [
              0.7777777777777778,
              "#fb9f3a"
             ],
             [
              0.8888888888888888,
              "#fdca26"
             ],
             [
              1,
              "#f0f921"
             ]
            ],
            "type": "heatmap"
           }
          ],
          "heatmapgl": [
           {
            "colorbar": {
             "outlinewidth": 0,
             "ticks": ""
            },
            "colorscale": [
             [
              0,
              "#0d0887"
             ],
             [
              0.1111111111111111,
              "#46039f"
             ],
             [
              0.2222222222222222,
              "#7201a8"
             ],
             [
              0.3333333333333333,
              "#9c179e"
             ],
             [
              0.4444444444444444,
              "#bd3786"
             ],
             [
              0.5555555555555556,
              "#d8576b"
             ],
             [
              0.6666666666666666,
              "#ed7953"
             ],
             [
              0.7777777777777778,
              "#fb9f3a"
             ],
             [
              0.8888888888888888,
              "#fdca26"
             ],
             [
              1,
              "#f0f921"
             ]
            ],
            "type": "heatmapgl"
           }
          ],
          "histogram": [
           {
            "marker": {
             "colorbar": {
              "outlinewidth": 0,
              "ticks": ""
             }
            },
            "type": "histogram"
           }
          ],
          "histogram2d": [
           {
            "colorbar": {
             "outlinewidth": 0,
             "ticks": ""
            },
            "colorscale": [
             [
              0,
              "#0d0887"
             ],
             [
              0.1111111111111111,
              "#46039f"
             ],
             [
              0.2222222222222222,
              "#7201a8"
             ],
             [
              0.3333333333333333,
              "#9c179e"
             ],
             [
              0.4444444444444444,
              "#bd3786"
             ],
             [
              0.5555555555555556,
              "#d8576b"
             ],
             [
              0.6666666666666666,
              "#ed7953"
             ],
             [
              0.7777777777777778,
              "#fb9f3a"
             ],
             [
              0.8888888888888888,
              "#fdca26"
             ],
             [
              1,
              "#f0f921"
             ]
            ],
            "type": "histogram2d"
           }
          ],
          "histogram2dcontour": [
           {
            "colorbar": {
             "outlinewidth": 0,
             "ticks": ""
            },
            "colorscale": [
             [
              0,
              "#0d0887"
             ],
             [
              0.1111111111111111,
              "#46039f"
             ],
             [
              0.2222222222222222,
              "#7201a8"
             ],
             [
              0.3333333333333333,
              "#9c179e"
             ],
             [
              0.4444444444444444,
              "#bd3786"
             ],
             [
              0.5555555555555556,
              "#d8576b"
             ],
             [
              0.6666666666666666,
              "#ed7953"
             ],
             [
              0.7777777777777778,
              "#fb9f3a"
             ],
             [
              0.8888888888888888,
              "#fdca26"
             ],
             [
              1,
              "#f0f921"
             ]
            ],
            "type": "histogram2dcontour"
           }
          ],
          "mesh3d": [
           {
            "colorbar": {
             "outlinewidth": 0,
             "ticks": ""
            },
            "type": "mesh3d"
           }
          ],
          "parcoords": [
           {
            "line": {
             "colorbar": {
              "outlinewidth": 0,
              "ticks": ""
             }
            },
            "type": "parcoords"
           }
          ],
          "pie": [
           {
            "automargin": true,
            "type": "pie"
           }
          ],
          "scatter": [
           {
            "marker": {
             "colorbar": {
              "outlinewidth": 0,
              "ticks": ""
             }
            },
            "type": "scatter"
           }
          ],
          "scatter3d": [
           {
            "line": {
             "colorbar": {
              "outlinewidth": 0,
              "ticks": ""
             }
            },
            "marker": {
             "colorbar": {
              "outlinewidth": 0,
              "ticks": ""
             }
            },
            "type": "scatter3d"
           }
          ],
          "scattercarpet": [
           {
            "marker": {
             "colorbar": {
              "outlinewidth": 0,
              "ticks": ""
             }
            },
            "type": "scattercarpet"
           }
          ],
          "scattergeo": [
           {
            "marker": {
             "colorbar": {
              "outlinewidth": 0,
              "ticks": ""
             }
            },
            "type": "scattergeo"
           }
          ],
          "scattergl": [
           {
            "marker": {
             "colorbar": {
              "outlinewidth": 0,
              "ticks": ""
             }
            },
            "type": "scattergl"
           }
          ],
          "scattermapbox": [
           {
            "marker": {
             "colorbar": {
              "outlinewidth": 0,
              "ticks": ""
             }
            },
            "type": "scattermapbox"
           }
          ],
          "scatterpolar": [
           {
            "marker": {
             "colorbar": {
              "outlinewidth": 0,
              "ticks": ""
             }
            },
            "type": "scatterpolar"
           }
          ],
          "scatterpolargl": [
           {
            "marker": {
             "colorbar": {
              "outlinewidth": 0,
              "ticks": ""
             }
            },
            "type": "scatterpolargl"
           }
          ],
          "scatterternary": [
           {
            "marker": {
             "colorbar": {
              "outlinewidth": 0,
              "ticks": ""
             }
            },
            "type": "scatterternary"
           }
          ],
          "surface": [
           {
            "colorbar": {
             "outlinewidth": 0,
             "ticks": ""
            },
            "colorscale": [
             [
              0,
              "#0d0887"
             ],
             [
              0.1111111111111111,
              "#46039f"
             ],
             [
              0.2222222222222222,
              "#7201a8"
             ],
             [
              0.3333333333333333,
              "#9c179e"
             ],
             [
              0.4444444444444444,
              "#bd3786"
             ],
             [
              0.5555555555555556,
              "#d8576b"
             ],
             [
              0.6666666666666666,
              "#ed7953"
             ],
             [
              0.7777777777777778,
              "#fb9f3a"
             ],
             [
              0.8888888888888888,
              "#fdca26"
             ],
             [
              1,
              "#f0f921"
             ]
            ],
            "type": "surface"
           }
          ],
          "table": [
           {
            "cells": {
             "fill": {
              "color": "#EBF0F8"
             },
             "line": {
              "color": "white"
             }
            },
            "header": {
             "fill": {
              "color": "#C8D4E3"
             },
             "line": {
              "color": "white"
             }
            },
            "type": "table"
           }
          ]
         },
         "layout": {
          "annotationdefaults": {
           "arrowcolor": "#2a3f5f",
           "arrowhead": 0,
           "arrowwidth": 1
          },
          "coloraxis": {
           "colorbar": {
            "outlinewidth": 0,
            "ticks": ""
           }
          },
          "colorscale": {
           "diverging": [
            [
             0,
             "#8e0152"
            ],
            [
             0.1,
             "#c51b7d"
            ],
            [
             0.2,
             "#de77ae"
            ],
            [
             0.3,
             "#f1b6da"
            ],
            [
             0.4,
             "#fde0ef"
            ],
            [
             0.5,
             "#f7f7f7"
            ],
            [
             0.6,
             "#e6f5d0"
            ],
            [
             0.7,
             "#b8e186"
            ],
            [
             0.8,
             "#7fbc41"
            ],
            [
             0.9,
             "#4d9221"
            ],
            [
             1,
             "#276419"
            ]
           ],
           "sequential": [
            [
             0,
             "#0d0887"
            ],
            [
             0.1111111111111111,
             "#46039f"
            ],
            [
             0.2222222222222222,
             "#7201a8"
            ],
            [
             0.3333333333333333,
             "#9c179e"
            ],
            [
             0.4444444444444444,
             "#bd3786"
            ],
            [
             0.5555555555555556,
             "#d8576b"
            ],
            [
             0.6666666666666666,
             "#ed7953"
            ],
            [
             0.7777777777777778,
             "#fb9f3a"
            ],
            [
             0.8888888888888888,
             "#fdca26"
            ],
            [
             1,
             "#f0f921"
            ]
           ],
           "sequentialminus": [
            [
             0,
             "#0d0887"
            ],
            [
             0.1111111111111111,
             "#46039f"
            ],
            [
             0.2222222222222222,
             "#7201a8"
            ],
            [
             0.3333333333333333,
             "#9c179e"
            ],
            [
             0.4444444444444444,
             "#bd3786"
            ],
            [
             0.5555555555555556,
             "#d8576b"
            ],
            [
             0.6666666666666666,
             "#ed7953"
            ],
            [
             0.7777777777777778,
             "#fb9f3a"
            ],
            [
             0.8888888888888888,
             "#fdca26"
            ],
            [
             1,
             "#f0f921"
            ]
           ]
          },
          "colorway": [
           "#636efa",
           "#EF553B",
           "#00cc96",
           "#ab63fa",
           "#FFA15A",
           "#19d3f3",
           "#FF6692",
           "#B6E880",
           "#FF97FF",
           "#FECB52"
          ],
          "font": {
           "color": "#2a3f5f"
          },
          "geo": {
           "bgcolor": "white",
           "lakecolor": "white",
           "landcolor": "#E5ECF6",
           "showlakes": true,
           "showland": true,
           "subunitcolor": "white"
          },
          "hoverlabel": {
           "align": "left"
          },
          "hovermode": "closest",
          "mapbox": {
           "style": "light"
          },
          "paper_bgcolor": "white",
          "plot_bgcolor": "#E5ECF6",
          "polar": {
           "angularaxis": {
            "gridcolor": "white",
            "linecolor": "white",
            "ticks": ""
           },
           "bgcolor": "#E5ECF6",
           "radialaxis": {
            "gridcolor": "white",
            "linecolor": "white",
            "ticks": ""
           }
          },
          "scene": {
           "xaxis": {
            "backgroundcolor": "#E5ECF6",
            "gridcolor": "white",
            "gridwidth": 2,
            "linecolor": "white",
            "showbackground": true,
            "ticks": "",
            "zerolinecolor": "white"
           },
           "yaxis": {
            "backgroundcolor": "#E5ECF6",
            "gridcolor": "white",
            "gridwidth": 2,
            "linecolor": "white",
            "showbackground": true,
            "ticks": "",
            "zerolinecolor": "white"
           },
           "zaxis": {
            "backgroundcolor": "#E5ECF6",
            "gridcolor": "white",
            "gridwidth": 2,
            "linecolor": "white",
            "showbackground": true,
            "ticks": "",
            "zerolinecolor": "white"
           }
          },
          "shapedefaults": {
           "line": {
            "color": "#2a3f5f"
           }
          },
          "ternary": {
           "aaxis": {
            "gridcolor": "white",
            "linecolor": "white",
            "ticks": ""
           },
           "baxis": {
            "gridcolor": "white",
            "linecolor": "white",
            "ticks": ""
           },
           "bgcolor": "#E5ECF6",
           "caxis": {
            "gridcolor": "white",
            "linecolor": "white",
            "ticks": ""
           }
          },
          "title": {
           "x": 0.05
          },
          "xaxis": {
           "automargin": true,
           "gridcolor": "white",
           "linecolor": "white",
           "ticks": "",
           "title": {
            "standoff": 15
           },
           "zerolinecolor": "white",
           "zerolinewidth": 2
          },
          "yaxis": {
           "automargin": true,
           "gridcolor": "white",
           "linecolor": "white",
           "ticks": "",
           "title": {
            "standoff": 15
           },
           "zerolinecolor": "white",
           "zerolinewidth": 2
          }
         }
        },
        "title": {
         "text": "<i><b>Confusion matrix</b></i>"
        },
        "xaxis": {
         "autorange": true,
         "dtick": 1,
         "gridcolor": "rgb(0, 0, 0)",
         "range": [
          -0.5,
          1.5
         ],
         "side": "top",
         "ticks": "",
         "type": "category"
        },
        "yaxis": {
         "autorange": true,
         "dtick": 1,
         "range": [
          -0.5,
          1.5
         ],
         "ticks": "",
         "ticksuffix": "  ",
         "type": "category"
        }
       }
      },
      "image/png": "[encoded data removed]",
      "text/html": [
       "<div>\n",
       "        \n",
       "        \n",
       "            <div id=\"da4fc130-cc66-4cc8-b940-9d60857cd4d4\" class=\"plotly-graph-div\" style=\"height:525px; width:100%;\"></div>\n",
       "            <script type=\"text/javascript\">\n",
       "                require([\"plotly\"], function(Plotly) {\n",
       "                    window.PLOTLYENV=window.PLOTLYENV || {};\n",
       "                    \n",
       "                if (document.getElementById(\"da4fc130-cc66-4cc8-b940-9d60857cd4d4\")) {\n",
       "                    Plotly.newPlot(\n",
       "                        'da4fc130-cc66-4cc8-b940-9d60857cd4d4',\n",
       "                        [{\"colorscale\": [[0.0, \"rgb(247,251,255)\"], [0.125, \"rgb(222,235,247)\"], [0.25, \"rgb(198,219,239)\"], [0.375, \"rgb(158,202,225)\"], [0.5, \"rgb(107,174,214)\"], [0.625, \"rgb(66,146,198)\"], [0.75, \"rgb(33,113,181)\"], [0.875, \"rgb(8,81,156)\"], [1.0, \"rgb(8,48,107)\"]], \"reversescale\": false, \"showscale\": true, \"type\": \"heatmap\", \"x\": [\"Predicted GROWTH\", \"Predicted VALUE\"], \"y\": [\"Observed GROWTH\", \"Observed VALUE\"], \"z\": [[0.21627408993576017, 0.021413276231263382], [0.4582441113490364, 0.30406852248394006]]}],\n",
       "                        {\"annotations\": [{\"font\": {\"color\": \"#000000\"}, \"showarrow\": false, \"text\": \"21.627409%\", \"x\": \"Predicted GROWTH\", \"xref\": \"x\", \"y\": \"Observed GROWTH\", \"yref\": \"y\"}, {\"font\": {\"color\": \"#000000\"}, \"showarrow\": false, \"text\": \"2.141328%\", \"x\": \"Predicted VALUE\", \"xref\": \"x\", \"y\": \"Observed GROWTH\", \"yref\": \"y\"}, {\"font\": {\"color\": \"#FFFFFF\"}, \"showarrow\": false, \"text\": \"45.824411%\", \"x\": \"Predicted GROWTH\", \"xref\": \"x\", \"y\": \"Observed VALUE\", \"yref\": \"y\"}, {\"font\": {\"color\": \"#FFFFFF\"}, \"showarrow\": false, \"text\": \"30.406852%\", \"x\": \"Predicted VALUE\", \"xref\": \"x\", \"y\": \"Observed VALUE\", \"yref\": \"y\"}, {\"font\": {\"color\": \"black\", \"size\": 14}, \"showarrow\": false, \"text\": \"Predicted value\", \"x\": 0.5, \"xref\": \"paper\", \"y\": -0.15, \"yref\": \"paper\"}, {\"font\": {\"color\": \"black\", \"size\": 14}, \"showarrow\": false, \"text\": \"Real value\", \"textangle\": -90, \"x\": -0.35, \"xref\": \"paper\", \"y\": 0.5, \"yref\": \"paper\"}], \"margin\": {\"l\": 200, \"t\": 50}, \"template\": {\"data\": {\"bar\": [{\"error_x\": {\"color\": \"#2a3f5f\"}, \"error_y\": {\"color\": \"#2a3f5f\"}, \"marker\": {\"line\": {\"color\": \"#E5ECF6\", \"width\": 0.5}}, \"type\": \"bar\"}], \"barpolar\": [{\"marker\": {\"line\": {\"color\": \"#E5ECF6\", \"width\": 0.5}}, \"type\": \"barpolar\"}], \"carpet\": [{\"aaxis\": {\"endlinecolor\": \"#2a3f5f\", \"gridcolor\": \"white\", \"linecolor\": \"white\", \"minorgridcolor\": \"white\", \"startlinecolor\": \"#2a3f5f\"}, \"baxis\": {\"endlinecolor\": \"#2a3f5f\", \"gridcolor\": \"white\", \"linecolor\": \"white\", \"minorgridcolor\": \"white\", \"startlinecolor\": \"#2a3f5f\"}, \"type\": \"carpet\"}], \"choropleth\": [{\"colorbar\": {\"outlinewidth\": 0, \"ticks\": \"\"}, \"type\": \"choropleth\"}], \"contour\": [{\"colorbar\": {\"outlinewidth\": 0, \"ticks\": \"\"}, \"colorscale\": [[0.0, \"#0d0887\"], [0.1111111111111111, \"#46039f\"], [0.2222222222222222, \"#7201a8\"], [0.3333333333333333, \"#9c179e\"], [0.4444444444444444, \"#bd3786\"], [0.5555555555555556, \"#d8576b\"], [0.6666666666666666, \"#ed7953\"], [0.7777777777777778, \"#fb9f3a\"], [0.8888888888888888, \"#fdca26\"], [1.0, \"#f0f921\"]], \"type\": \"contour\"}], \"contourcarpet\": [{\"colorbar\": {\"outlinewidth\": 0, \"ticks\": \"\"}, \"type\": \"contourcarpet\"}], \"heatmap\": [{\"colorbar\": {\"outlinewidth\": 0, \"ticks\": \"\"}, \"colorscale\": [[0.0, \"#0d0887\"], [0.1111111111111111, \"#46039f\"], [0.2222222222222222, \"#7201a8\"], [0.3333333333333333, \"#9c179e\"], [0.4444444444444444, \"#bd3786\"], [0.5555555555555556, \"#d8576b\"], [0.6666666666666666, \"#ed7953\"], [0.7777777777777778, \"#fb9f3a\"], [0.8888888888888888, \"#fdca26\"], [1.0, \"#f0f921\"]], \"type\": \"heatmap\"}], \"heatmapgl\": [{\"colorbar\": {\"outlinewidth\": 0, \"ticks\": \"\"}, \"colorscale\": [[0.0, \"#0d0887\"], [0.1111111111111111, \"#46039f\"], [0.2222222222222222, \"#7201a8\"], [0.3333333333333333, \"#9c179e\"], [0.4444444444444444, \"#bd3786\"], [0.5555555555555556, \"#d8576b\"], [0.6666666666666666, \"#ed7953\"], [0.7777777777777778, \"#fb9f3a\"], [0.8888888888888888, \"#fdca26\"], [1.0, \"#f0f921\"]], \"type\": \"heatmapgl\"}], \"histogram\": [{\"marker\": {\"colorbar\": {\"outlinewidth\": 0, \"ticks\": \"\"}}, \"type\": \"histogram\"}], \"histogram2d\": [{\"colorbar\": {\"outlinewidth\": 0, \"ticks\": \"\"}, \"colorscale\": [[0.0, \"#0d0887\"], [0.1111111111111111, \"#46039f\"], [0.2222222222222222, \"#7201a8\"], [0.3333333333333333, \"#9c179e\"], [0.4444444444444444, \"#bd3786\"], [0.5555555555555556, \"#d8576b\"], [0.6666666666666666, \"#ed7953\"], [0.7777777777777778, \"#fb9f3a\"], [0.8888888888888888, \"#fdca26\"], [1.0, \"#f0f921\"]], \"type\": \"histogram2d\"}], \"histogram2dcontour\": [{\"colorbar\": {\"outlinewidth\": 0, \"ticks\": \"\"}, \"colorscale\": [[0.0, \"#0d0887\"], [0.1111111111111111, \"#46039f\"], [0.2222222222222222, \"#7201a8\"], [0.3333333333333333, \"#9c179e\"], [0.4444444444444444, \"#bd3786\"], [0.5555555555555556, \"#d8576b\"], [0.6666666666666666, \"#ed7953\"], [0.7777777777777778, \"#fb9f3a\"], [0.8888888888888888, \"#fdca26\"], [1.0, \"#f0f921\"]], \"type\": \"histogram2dcontour\"}], \"mesh3d\": [{\"colorbar\": {\"outlinewidth\": 0, \"ticks\": \"\"}, \"type\": \"mesh3d\"}], \"parcoords\": [{\"line\": {\"colorbar\": {\"outlinewidth\": 0, \"ticks\": \"\"}}, \"type\": \"parcoords\"}], \"pie\": [{\"automargin\": true, \"type\": \"pie\"}], \"scatter\": [{\"marker\": {\"colorbar\": {\"outlinewidth\": 0, \"ticks\": \"\"}}, \"type\": \"scatter\"}], \"scatter3d\": [{\"line\": {\"colorbar\": {\"outlinewidth\": 0, \"ticks\": \"\"}}, \"marker\": {\"colorbar\": {\"outlinewidth\": 0, \"ticks\": \"\"}}, \"type\": \"scatter3d\"}], \"scattercarpet\": [{\"marker\": {\"colorbar\": {\"outlinewidth\": 0, \"ticks\": \"\"}}, \"type\": \"scattercarpet\"}], \"scattergeo\": [{\"marker\": {\"colorbar\": {\"outlinewidth\": 0, \"ticks\": \"\"}}, \"type\": \"scattergeo\"}], \"scattergl\": [{\"marker\": {\"colorbar\": {\"outlinewidth\": 0, \"ticks\": \"\"}}, \"type\": \"scattergl\"}], \"scattermapbox\": [{\"marker\": {\"colorbar\": {\"outlinewidth\": 0, \"ticks\": \"\"}}, \"type\": \"scattermapbox\"}], \"scatterpolar\": [{\"marker\": {\"colorbar\": {\"outlinewidth\": 0, \"ticks\": \"\"}}, \"type\": \"scatterpolar\"}], \"scatterpolargl\": [{\"marker\": {\"colorbar\": {\"outlinewidth\": 0, \"ticks\": \"\"}}, \"type\": \"scatterpolargl\"}], \"scatterternary\": [{\"marker\": {\"colorbar\": {\"outlinewidth\": 0, \"ticks\": \"\"}}, \"type\": \"scatterternary\"}], \"surface\": [{\"colorbar\": {\"outlinewidth\": 0, \"ticks\": \"\"}, \"colorscale\": [[0.0, \"#0d0887\"], [0.1111111111111111, \"#46039f\"], [0.2222222222222222, \"#7201a8\"], [0.3333333333333333, \"#9c179e\"], [0.4444444444444444, \"#bd3786\"], [0.5555555555555556, \"#d8576b\"], [0.6666666666666666, \"#ed7953\"], [0.7777777777777778, \"#fb9f3a\"], [0.8888888888888888, \"#fdca26\"], [1.0, \"#f0f921\"]], \"type\": \"surface\"}], \"table\": [{\"cells\": {\"fill\": {\"color\": \"#EBF0F8\"}, \"line\": {\"color\": \"white\"}}, \"header\": {\"fill\": {\"color\": \"#C8D4E3\"}, \"line\": {\"color\": \"white\"}}, \"type\": \"table\"}]}, \"layout\": {\"annotationdefaults\": {\"arrowcolor\": \"#2a3f5f\", \"arrowhead\": 0, \"arrowwidth\": 1}, \"coloraxis\": {\"colorbar\": {\"outlinewidth\": 0, \"ticks\": \"\"}}, \"colorscale\": {\"diverging\": [[0, \"#8e0152\"], [0.1, \"#c51b7d\"], [0.2, \"#de77ae\"], [0.3, \"#f1b6da\"], [0.4, \"#fde0ef\"], [0.5, \"#f7f7f7\"], [0.6, \"#e6f5d0\"], [0.7, \"#b8e186\"], [0.8, \"#7fbc41\"], [0.9, \"#4d9221\"], [1, \"#276419\"]], \"sequential\": [[0.0, \"#0d0887\"], [0.1111111111111111, \"#46039f\"], [0.2222222222222222, \"#7201a8\"], [0.3333333333333333, \"#9c179e\"], [0.4444444444444444, \"#bd3786\"], [0.5555555555555556, \"#d8576b\"], [0.6666666666666666, \"#ed7953\"], [0.7777777777777778, \"#fb9f3a\"], [0.8888888888888888, \"#fdca26\"], [1.0, \"#f0f921\"]], \"sequentialminus\": [[0.0, \"#0d0887\"], [0.1111111111111111, \"#46039f\"], [0.2222222222222222, \"#7201a8\"], [0.3333333333333333, \"#9c179e\"], [0.4444444444444444, \"#bd3786\"], [0.5555555555555556, \"#d8576b\"], [0.6666666666666666, \"#ed7953\"], [0.7777777777777778, \"#fb9f3a\"], [0.8888888888888888, \"#fdca26\"], [1.0, \"#f0f921\"]]}, \"colorway\": [\"#636efa\", \"#EF553B\", \"#00cc96\", \"#ab63fa\", \"#FFA15A\", \"#19d3f3\", \"#FF6692\", \"#B6E880\", \"#FF97FF\", \"#FECB52\"], \"font\": {\"color\": \"#2a3f5f\"}, \"geo\": {\"bgcolor\": \"white\", \"lakecolor\": \"white\", \"landcolor\": \"#E5ECF6\", \"showlakes\": true, \"showland\": true, \"subunitcolor\": \"white\"}, \"hoverlabel\": {\"align\": \"left\"}, \"hovermode\": \"closest\", \"mapbox\": {\"style\": \"light\"}, \"paper_bgcolor\": \"white\", \"plot_bgcolor\": \"#E5ECF6\", \"polar\": {\"angularaxis\": {\"gridcolor\": \"white\", \"linecolor\": \"white\", \"ticks\": \"\"}, \"bgcolor\": \"#E5ECF6\", \"radialaxis\": {\"gridcolor\": \"white\", \"linecolor\": \"white\", \"ticks\": \"\"}}, \"scene\": {\"xaxis\": {\"backgroundcolor\": \"#E5ECF6\", \"gridcolor\": \"white\", \"gridwidth\": 2, \"linecolor\": \"white\", \"showbackground\": true, \"ticks\": \"\", \"zerolinecolor\": \"white\"}, \"yaxis\": {\"backgroundcolor\": \"#E5ECF6\", \"gridcolor\": \"white\", \"gridwidth\": 2, \"linecolor\": \"white\", \"showbackground\": true, \"ticks\": \"\", \"zerolinecolor\": \"white\"}, \"zaxis\": {\"backgroundcolor\": \"#E5ECF6\", \"gridcolor\": \"white\", \"gridwidth\": 2, \"linecolor\": \"white\", \"showbackground\": true, \"ticks\": \"\", \"zerolinecolor\": \"white\"}}, \"shapedefaults\": {\"line\": {\"color\": \"#2a3f5f\"}}, \"ternary\": {\"aaxis\": {\"gridcolor\": \"white\", \"linecolor\": \"white\", \"ticks\": \"\"}, \"baxis\": {\"gridcolor\": \"white\", \"linecolor\": \"white\", \"ticks\": \"\"}, \"bgcolor\": \"#E5ECF6\", \"caxis\": {\"gridcolor\": \"white\", \"linecolor\": \"white\", \"ticks\": \"\"}}, \"title\": {\"x\": 0.05}, \"xaxis\": {\"automargin\": true, \"gridcolor\": \"white\", \"linecolor\": \"white\", \"ticks\": \"\", \"title\": {\"standoff\": 15}, \"zerolinecolor\": \"white\", \"zerolinewidth\": 2}, \"yaxis\": {\"automargin\": true, \"gridcolor\": \"white\", \"linecolor\": \"white\", \"ticks\": \"\", \"title\": {\"standoff\": 15}, \"zerolinecolor\": \"white\", \"zerolinewidth\": 2}}}, \"title\": {\"text\": \"<i><b>Confusion matrix</b></i>\"}, \"xaxis\": {\"dtick\": 1, \"gridcolor\": \"rgb(0, 0, 0)\", \"side\": \"top\", \"ticks\": \"\"}, \"yaxis\": {\"dtick\": 1, \"ticks\": \"\", \"ticksuffix\": \"  \"}},\n",
       "                        {\"responsive\": true}\n",
       "                    ).then(function(){\n",
       "                            \n",
       "var gd = document.getElementById('da4fc130-cc66-4cc8-b940-9d60857cd4d4');\n",
       "var x = new MutationObserver(function (mutations, observer) {{\n",
       "        var display = window.getComputedStyle(gd).display;\n",
       "        if (!display || display === 'none') {{\n",
       "            console.log([gd, 'removed!']);\n",
       "            Plotly.purge(gd);\n",
       "            observer.disconnect();\n",
       "        }}\n",
       "}});\n",
       "\n",
       "// Listen for the removal of the full notebook cells\n",
       "var notebookContainer = gd.closest('#notebook-container');\n",
       "if (notebookContainer) {{\n",
       "    x.observe(notebookContainer, {childList: true});\n",
       "}}\n",
       "\n",
       "// Listen for the clearing of the current output cell\n",
       "var outputEl = gd.closest('.output');\n",
       "if (outputEl) {{\n",
       "    x.observe(outputEl, {childList: true});\n",
       "}}\n",
       "\n",
       "                        })\n",
       "                };\n",
       "                });\n",
       "            </script>\n",
       "        </div>"
      ]
     },
     "metadata": {},
     "output_type": "display_data"
    }
   ],
   "source": [
    "import plotly.figure_factory as ff\n",
    "x = ['Predicted GROWTH' , 'Predicted VALUE']\n",
    "y = ['Observed GROWTH', 'Observed VALUE']\n",
    "\n",
    "CFM_text =[['{:2%}'.format(CFM[0][0]), '{:2%}'.format(CFM[0][1])],['{:2%}'.format(CFM[1][0]),'{:2%}'.format(CFM[1][1])]]\n",
    "fig = ff.create_annotated_heatmap(CFM, x=x, y=y, annotation_text=CFM_text, colorscale='blues')\n",
    "\n",
    "fig.update_layout(title_text='<i><b>Confusion matrix</b></i>',\n",
    "                  #xaxis = dict(title='x'),\n",
    "                  #yaxis = dict(title='x')\n",
    "                 )\n",
    "\n",
    "# add custom xaxis title\n",
    "fig.add_annotation(dict(font=dict(color=\"black\",size=14),\n",
    "                        x=0.5,\n",
    "                        y=-0.15,\n",
    "                        showarrow=False,\n",
    "                        text=\"Predicted value\",\n",
    "                        xref=\"paper\",\n",
    "                        yref=\"paper\"))\n",
    "\n",
    "# add custom yaxis title\n",
    "fig.add_annotation(dict(font=dict(color=\"black\",size=14),\n",
    "                        x=-0.35,\n",
    "                        y=0.5,\n",
    "                        showarrow=False,\n",
    "                        text=\"Real value\",\n",
    "                        textangle=-90,\n",
    "                        xref=\"paper\",\n",
    "                        yref=\"paper\"))\n",
    "\n",
    "# adjust margins to make room for yaxis title\n",
    "fig.update_layout(margin=dict(t=50, l=200))\n",
    "\n",
    "# add colorbar\n",
    "fig['data'][0]['showscale'] = True\n",
    "fig.show()\n"
   ]
  },
  {
   "cell_type": "code",
   "execution_count": 108,
   "metadata": {},
   "outputs": [],
   "source": [
    "from sklearn.metrics import plot_confusion_matrix"
   ]
  },
  {
   "cell_type": "code",
   "execution_count": 109,
   "metadata": {},
   "outputs": [
    {
     "data": {
      "text/plain": [
       "<sklearn.metrics._plot.confusion_matrix.ConfusionMatrixDisplay at 0x1ae9abb2188>"
      ]
     },
     "execution_count": 109,
     "metadata": {},
     "output_type": "execute_result"
    },
    {
     "data": {
      "image/png": "[encoded data removed]",
      "text/plain": [
       "<Figure size 432x288 with 2 Axes>"
      ]
     },
     "metadata": {
      "needs_background": "light"
     },
     "output_type": "display_data"
    }
   ],
   "source": [
    "plot_confusion_matrix(clf, X_eval, clf_results['Actuals'], values_format ='d',)"
   ]
  },
  {
   "cell_type": "code",
   "execution_count": 20,
   "metadata": {},
   "outputs": [
    {
     "data": {
      "text/plain": [
       "array([0.04496386, 0.18662244, 0.25005797, 0.51835573])"
      ]
     },
     "execution_count": 20,
     "metadata": {},
     "output_type": "execute_result"
    }
   ],
   "source": [
    "clf.feature_importances_"
   ]
  },
  {
   "cell_type": "code",
   "execution_count": 21,
   "metadata": {},
   "outputs": [
    {
     "data": {
      "text/html": [
       "<div>\n",
       "<style scoped>\n",
       "    .dataframe tbody tr th:only-of-type {\n",
       "        vertical-align: middle;\n",
       "    }\n",
       "\n",
       "    .dataframe tbody tr th {\n",
       "        vertical-align: top;\n",
       "    }\n",
       "\n",
       "    .dataframe thead th {\n",
       "        text-align: right;\n",
       "    }\n",
       "</style>\n",
       "<table border=\"1\" class=\"dataframe\">\n",
       "  <thead>\n",
       "    <tr style=\"text-align: right;\">\n",
       "      <th></th>\n",
       "      <th>Instrument</th>\n",
       "      <th>GICS Sector Code</th>\n",
       "      <th>Forward P/E (Daily Time Series Ratio)</th>\n",
       "      <th>Price To Book Value Per Share (Daily Time Series Ratio)</th>\n",
       "      <th>Enterprise Value To Operating Cash Flow (Daily Time Series Ratio)</th>\n",
       "      <th>Predictions</th>\n",
       "      <th>Probs</th>\n",
       "      <th>Actuals</th>\n",
       "      <th>hits</th>\n",
       "    </tr>\n",
       "  </thead>\n",
       "  <tbody>\n",
       "    <tr>\n",
       "      <th>0</th>\n",
       "      <td>SHW.N</td>\n",
       "      <td>15</td>\n",
       "      <td>26.332215</td>\n",
       "      <td>14.907662</td>\n",
       "      <td>21.841173</td>\n",
       "      <td>0</td>\n",
       "      <td>0.883485</td>\n",
       "      <td>0</td>\n",
       "      <td>green</td>\n",
       "    </tr>\n",
       "    <tr>\n",
       "      <th>1</th>\n",
       "      <td>DTE.N</td>\n",
       "      <td>55</td>\n",
       "      <td>18.154593</td>\n",
       "      <td>2.023242</td>\n",
       "      <td>12.418932</td>\n",
       "      <td>1</td>\n",
       "      <td>0.485067</td>\n",
       "      <td>1</td>\n",
       "      <td>green</td>\n",
       "    </tr>\n",
       "    <tr>\n",
       "      <th>2</th>\n",
       "      <td>LOW.N</td>\n",
       "      <td>25</td>\n",
       "      <td>17.928068</td>\n",
       "      <td>26.631818</td>\n",
       "      <td>10.031905</td>\n",
       "      <td>1</td>\n",
       "      <td>0.454694</td>\n",
       "      <td>1</td>\n",
       "      <td>green</td>\n",
       "    </tr>\n",
       "    <tr>\n",
       "      <th>3</th>\n",
       "      <td>WBA.OQ</td>\n",
       "      <td>30</td>\n",
       "      <td>8.158641</td>\n",
       "      <td>1.668671</td>\n",
       "      <td>9.203912</td>\n",
       "      <td>1</td>\n",
       "      <td>0.431898</td>\n",
       "      <td>1</td>\n",
       "      <td>green</td>\n",
       "    </tr>\n",
       "    <tr>\n",
       "      <th>4</th>\n",
       "      <td>MAR.OQ</td>\n",
       "      <td>25</td>\n",
       "      <td>44.855652</td>\n",
       "      <td>167.531397</td>\n",
       "      <td>22.562059</td>\n",
       "      <td>0</td>\n",
       "      <td>0.891970</td>\n",
       "      <td>0</td>\n",
       "      <td>green</td>\n",
       "    </tr>\n",
       "    <tr>\n",
       "      <th>...</th>\n",
       "      <td>...</td>\n",
       "      <td>...</td>\n",
       "      <td>...</td>\n",
       "      <td>...</td>\n",
       "      <td>...</td>\n",
       "      <td>...</td>\n",
       "      <td>...</td>\n",
       "      <td>...</td>\n",
       "      <td>...</td>\n",
       "    </tr>\n",
       "    <tr>\n",
       "      <th>498</th>\n",
       "      <td>CI.N</td>\n",
       "      <td>35</td>\n",
       "      <td>10.436945</td>\n",
       "      <td>1.653245</td>\n",
       "      <td>13.291225</td>\n",
       "      <td>1</td>\n",
       "      <td>0.208036</td>\n",
       "      <td>1</td>\n",
       "      <td>green</td>\n",
       "    </tr>\n",
       "    <tr>\n",
       "      <th>499</th>\n",
       "      <td>FIS.N</td>\n",
       "      <td>45</td>\n",
       "      <td>21.940846</td>\n",
       "      <td>1.791679</td>\n",
       "      <td>28.061981</td>\n",
       "      <td>0</td>\n",
       "      <td>0.751622</td>\n",
       "      <td>1</td>\n",
       "      <td>1</td>\n",
       "    </tr>\n",
       "    <tr>\n",
       "      <th>500</th>\n",
       "      <td>FTNT.OQ</td>\n",
       "      <td>45</td>\n",
       "      <td>32.828239</td>\n",
       "      <td>26.650243</td>\n",
       "      <td>17.751646</td>\n",
       "      <td>0</td>\n",
       "      <td>0.891970</td>\n",
       "      <td>0</td>\n",
       "      <td>green</td>\n",
       "    </tr>\n",
       "    <tr>\n",
       "      <th>501</th>\n",
       "      <td>TXN.OQ</td>\n",
       "      <td>45</td>\n",
       "      <td>27.198365</td>\n",
       "      <td>17.219692</td>\n",
       "      <td>25.083204</td>\n",
       "      <td>0</td>\n",
       "      <td>0.891970</td>\n",
       "      <td>1</td>\n",
       "      <td>1</td>\n",
       "    </tr>\n",
       "    <tr>\n",
       "      <th>502</th>\n",
       "      <td>CTAS.OQ</td>\n",
       "      <td>20</td>\n",
       "      <td>39.630852</td>\n",
       "      <td>10.541220</td>\n",
       "      <td>30.255966</td>\n",
       "      <td>0</td>\n",
       "      <td>0.891970</td>\n",
       "      <td>0</td>\n",
       "      <td>green</td>\n",
       "    </tr>\n",
       "  </tbody>\n",
       "</table>\n",
       "<p>467 rows × 9 columns</p>\n",
       "</div>"
      ],
      "text/plain": [
       "    Instrument  GICS Sector Code  Forward P/E (Daily Time Series Ratio)  \\\n",
       "0        SHW.N                15                              26.332215   \n",
       "1        DTE.N                55                              18.154593   \n",
       "2        LOW.N                25                              17.928068   \n",
       "3       WBA.OQ                30                               8.158641   \n",
       "4       MAR.OQ                25                              44.855652   \n",
       "..         ...               ...                                    ...   \n",
       "498       CI.N                35                              10.436945   \n",
       "499      FIS.N                45                              21.940846   \n",
       "500    FTNT.OQ                45                              32.828239   \n",
       "501     TXN.OQ                45                              27.198365   \n",
       "502    CTAS.OQ                20                              39.630852   \n",
       "\n",
       "     Price To Book Value Per Share (Daily Time Series Ratio)  \\\n",
       "0                                            14.907662         \n",
       "1                                             2.023242         \n",
       "2                                            26.631818         \n",
       "3                                             1.668671         \n",
       "4                                           167.531397         \n",
       "..                                                 ...         \n",
       "498                                           1.653245         \n",
       "499                                           1.791679         \n",
       "500                                          26.650243         \n",
       "501                                          17.219692         \n",
       "502                                          10.541220         \n",
       "\n",
       "     Enterprise Value To Operating Cash Flow (Daily Time Series Ratio)  \\\n",
       "0                                            21.841173                   \n",
       "1                                            12.418932                   \n",
       "2                                            10.031905                   \n",
       "3                                             9.203912                   \n",
       "4                                            22.562059                   \n",
       "..                                                 ...                   \n",
       "498                                          13.291225                   \n",
       "499                                          28.061981                   \n",
       "500                                          17.751646                   \n",
       "501                                          25.083204                   \n",
       "502                                          30.255966                   \n",
       "\n",
       "     Predictions     Probs  Actuals   hits  \n",
       "0              0  0.883485        0  green  \n",
       "1              1  0.485067        1  green  \n",
       "2              1  0.454694        1  green  \n",
       "3              1  0.431898        1  green  \n",
       "4              0  0.891970        0  green  \n",
       "..           ...       ...      ...    ...  \n",
       "498            1  0.208036        1  green  \n",
       "499            0  0.751622        1      1  \n",
       "500            0  0.891970        0  green  \n",
       "501            0  0.891970        1      1  \n",
       "502            0  0.891970        0  green  \n",
       "\n",
       "[467 rows x 9 columns]"
      ]
     },
     "execution_count": 21,
     "metadata": {},
     "output_type": "execute_result"
    }
   ],
   "source": [
    "clf_results"
   ]
  },
  {
   "cell_type": "code",
   "execution_count": 22,
   "metadata": {},
   "outputs": [],
   "source": [
    "featurs = pd.DataFrame({'Price To Book Value Per Share (Daily Time Series Ratio)':X_list, 'Enterprise Value To Operating Cash Flow (Daily Time Series Ratio)': Y_list})"
   ]
  },
  {
   "cell_type": "code",
   "execution_count": 23,
   "metadata": {},
   "outputs": [
    {
     "data": {
      "text/html": [
       "<div>\n",
       "<style scoped>\n",
       "    .dataframe tbody tr th:only-of-type {\n",
       "        vertical-align: middle;\n",
       "    }\n",
       "\n",
       "    .dataframe tbody tr th {\n",
       "        vertical-align: top;\n",
       "    }\n",
       "\n",
       "    .dataframe thead th {\n",
       "        text-align: right;\n",
       "    }\n",
       "</style>\n",
       "<table border=\"1\" class=\"dataframe\">\n",
       "  <thead>\n",
       "    <tr style=\"text-align: right;\">\n",
       "      <th></th>\n",
       "      <th>Price To Book Value Per Share (Daily Time Series Ratio)</th>\n",
       "      <th>Enterprise Value To Operating Cash Flow (Daily Time Series Ratio)</th>\n",
       "      <th>Predictions</th>\n",
       "    </tr>\n",
       "  </thead>\n",
       "  <tbody>\n",
       "    <tr>\n",
       "      <th>0</th>\n",
       "      <td>0.011622</td>\n",
       "      <td>0.000983</td>\n",
       "      <td>0.0</td>\n",
       "    </tr>\n",
       "    <tr>\n",
       "      <th>1</th>\n",
       "      <td>0.001577</td>\n",
       "      <td>0.000559</td>\n",
       "      <td>1.0</td>\n",
       "    </tr>\n",
       "    <tr>\n",
       "      <th>2</th>\n",
       "      <td>0.020762</td>\n",
       "      <td>0.000451</td>\n",
       "      <td>1.0</td>\n",
       "    </tr>\n",
       "    <tr>\n",
       "      <th>3</th>\n",
       "      <td>0.001301</td>\n",
       "      <td>0.000414</td>\n",
       "      <td>1.0</td>\n",
       "    </tr>\n",
       "    <tr>\n",
       "      <th>4</th>\n",
       "      <td>0.130606</td>\n",
       "      <td>0.001015</td>\n",
       "      <td>0.0</td>\n",
       "    </tr>\n",
       "    <tr>\n",
       "      <th>...</th>\n",
       "      <td>...</td>\n",
       "      <td>...</td>\n",
       "      <td>...</td>\n",
       "    </tr>\n",
       "    <tr>\n",
       "      <th>462</th>\n",
       "      <td>0.001289</td>\n",
       "      <td>0.000598</td>\n",
       "      <td>0.0</td>\n",
       "    </tr>\n",
       "    <tr>\n",
       "      <th>463</th>\n",
       "      <td>0.001397</td>\n",
       "      <td>0.001263</td>\n",
       "      <td>0.0</td>\n",
       "    </tr>\n",
       "    <tr>\n",
       "      <th>464</th>\n",
       "      <td>0.020776</td>\n",
       "      <td>0.000799</td>\n",
       "      <td>0.0</td>\n",
       "    </tr>\n",
       "    <tr>\n",
       "      <th>465</th>\n",
       "      <td>0.013424</td>\n",
       "      <td>0.001129</td>\n",
       "      <td>0.0</td>\n",
       "    </tr>\n",
       "    <tr>\n",
       "      <th>466</th>\n",
       "      <td>0.008218</td>\n",
       "      <td>0.001361</td>\n",
       "      <td>NaN</td>\n",
       "    </tr>\n",
       "  </tbody>\n",
       "</table>\n",
       "<p>467 rows × 3 columns</p>\n",
       "</div>"
      ],
      "text/plain": [
       "     Price To Book Value Per Share (Daily Time Series Ratio)  \\\n",
       "0                                             0.011622         \n",
       "1                                             0.001577         \n",
       "2                                             0.020762         \n",
       "3                                             0.001301         \n",
       "4                                             0.130606         \n",
       "..                                                 ...         \n",
       "462                                           0.001289         \n",
       "463                                           0.001397         \n",
       "464                                           0.020776         \n",
       "465                                           0.013424         \n",
       "466                                           0.008218         \n",
       "\n",
       "     Enterprise Value To Operating Cash Flow (Daily Time Series Ratio)  \\\n",
       "0                                             0.000983                   \n",
       "1                                             0.000559                   \n",
       "2                                             0.000451                   \n",
       "3                                             0.000414                   \n",
       "4                                             0.001015                   \n",
       "..                                                 ...                   \n",
       "462                                           0.000598                   \n",
       "463                                           0.001263                   \n",
       "464                                           0.000799                   \n",
       "465                                           0.001129                   \n",
       "466                                           0.001361                   \n",
       "\n",
       "     Predictions  \n",
       "0            0.0  \n",
       "1            1.0  \n",
       "2            1.0  \n",
       "3            1.0  \n",
       "4            0.0  \n",
       "..           ...  \n",
       "462          0.0  \n",
       "463          0.0  \n",
       "464          0.0  \n",
       "465          0.0  \n",
       "466          NaN  \n",
       "\n",
       "[467 rows x 3 columns]"
      ]
     },
     "execution_count": 23,
     "metadata": {},
     "output_type": "execute_result"
    }
   ],
   "source": [
    "featurs['Predictions'] = clf_results['Predictions']\n",
    "featurs"
   ]
  },
  {
   "cell_type": "code",
   "execution_count": 24,
   "metadata": {},
   "outputs": [
    {
     "data": {
      "text/html": [
       "<div>\n",
       "<style scoped>\n",
       "    .dataframe tbody tr th:only-of-type {\n",
       "        vertical-align: middle;\n",
       "    }\n",
       "\n",
       "    .dataframe tbody tr th {\n",
       "        vertical-align: top;\n",
       "    }\n",
       "\n",
       "    .dataframe thead th {\n",
       "        text-align: right;\n",
       "    }\n",
       "</style>\n",
       "<table border=\"1\" class=\"dataframe\">\n",
       "  <thead>\n",
       "    <tr style=\"text-align: right;\">\n",
       "      <th></th>\n",
       "      <th>Instrument</th>\n",
       "      <th>GICS Sector Code</th>\n",
       "      <th>Forward P/E (Daily Time Series Ratio)</th>\n",
       "      <th>Price To Book Value Per Share (Daily Time Series Ratio)</th>\n",
       "      <th>Enterprise Value To Operating Cash Flow (Daily Time Series Ratio)</th>\n",
       "      <th>Predictions</th>\n",
       "      <th>Probs</th>\n",
       "      <th>Actuals</th>\n",
       "      <th>hits</th>\n",
       "    </tr>\n",
       "  </thead>\n",
       "  <tbody>\n",
       "    <tr>\n",
       "      <th>0</th>\n",
       "      <td>SHW.N</td>\n",
       "      <td>15</td>\n",
       "      <td>26.332215</td>\n",
       "      <td>14.907662</td>\n",
       "      <td>21.841173</td>\n",
       "      <td>0</td>\n",
       "      <td>0.883485</td>\n",
       "      <td>0</td>\n",
       "      <td>green</td>\n",
       "    </tr>\n",
       "    <tr>\n",
       "      <th>1</th>\n",
       "      <td>DTE.N</td>\n",
       "      <td>55</td>\n",
       "      <td>18.154593</td>\n",
       "      <td>2.023242</td>\n",
       "      <td>12.418932</td>\n",
       "      <td>1</td>\n",
       "      <td>0.485067</td>\n",
       "      <td>1</td>\n",
       "      <td>green</td>\n",
       "    </tr>\n",
       "    <tr>\n",
       "      <th>2</th>\n",
       "      <td>LOW.N</td>\n",
       "      <td>25</td>\n",
       "      <td>17.928068</td>\n",
       "      <td>26.631818</td>\n",
       "      <td>10.031905</td>\n",
       "      <td>1</td>\n",
       "      <td>0.454694</td>\n",
       "      <td>1</td>\n",
       "      <td>green</td>\n",
       "    </tr>\n",
       "    <tr>\n",
       "      <th>3</th>\n",
       "      <td>WBA.OQ</td>\n",
       "      <td>30</td>\n",
       "      <td>8.158641</td>\n",
       "      <td>1.668671</td>\n",
       "      <td>9.203912</td>\n",
       "      <td>1</td>\n",
       "      <td>0.431898</td>\n",
       "      <td>1</td>\n",
       "      <td>green</td>\n",
       "    </tr>\n",
       "    <tr>\n",
       "      <th>4</th>\n",
       "      <td>MAR.OQ</td>\n",
       "      <td>25</td>\n",
       "      <td>44.855652</td>\n",
       "      <td>167.531397</td>\n",
       "      <td>22.562059</td>\n",
       "      <td>0</td>\n",
       "      <td>0.891970</td>\n",
       "      <td>0</td>\n",
       "      <td>green</td>\n",
       "    </tr>\n",
       "    <tr>\n",
       "      <th>...</th>\n",
       "      <td>...</td>\n",
       "      <td>...</td>\n",
       "      <td>...</td>\n",
       "      <td>...</td>\n",
       "      <td>...</td>\n",
       "      <td>...</td>\n",
       "      <td>...</td>\n",
       "      <td>...</td>\n",
       "      <td>...</td>\n",
       "    </tr>\n",
       "    <tr>\n",
       "      <th>498</th>\n",
       "      <td>CI.N</td>\n",
       "      <td>35</td>\n",
       "      <td>10.436945</td>\n",
       "      <td>1.653245</td>\n",
       "      <td>13.291225</td>\n",
       "      <td>1</td>\n",
       "      <td>0.208036</td>\n",
       "      <td>1</td>\n",
       "      <td>green</td>\n",
       "    </tr>\n",
       "    <tr>\n",
       "      <th>499</th>\n",
       "      <td>FIS.N</td>\n",
       "      <td>45</td>\n",
       "      <td>21.940846</td>\n",
       "      <td>1.791679</td>\n",
       "      <td>28.061981</td>\n",
       "      <td>0</td>\n",
       "      <td>0.751622</td>\n",
       "      <td>1</td>\n",
       "      <td>1</td>\n",
       "    </tr>\n",
       "    <tr>\n",
       "      <th>500</th>\n",
       "      <td>FTNT.OQ</td>\n",
       "      <td>45</td>\n",
       "      <td>32.828239</td>\n",
       "      <td>26.650243</td>\n",
       "      <td>17.751646</td>\n",
       "      <td>0</td>\n",
       "      <td>0.891970</td>\n",
       "      <td>0</td>\n",
       "      <td>green</td>\n",
       "    </tr>\n",
       "    <tr>\n",
       "      <th>501</th>\n",
       "      <td>TXN.OQ</td>\n",
       "      <td>45</td>\n",
       "      <td>27.198365</td>\n",
       "      <td>17.219692</td>\n",
       "      <td>25.083204</td>\n",
       "      <td>0</td>\n",
       "      <td>0.891970</td>\n",
       "      <td>1</td>\n",
       "      <td>1</td>\n",
       "    </tr>\n",
       "    <tr>\n",
       "      <th>502</th>\n",
       "      <td>CTAS.OQ</td>\n",
       "      <td>20</td>\n",
       "      <td>39.630852</td>\n",
       "      <td>10.541220</td>\n",
       "      <td>30.255966</td>\n",
       "      <td>0</td>\n",
       "      <td>0.891970</td>\n",
       "      <td>0</td>\n",
       "      <td>green</td>\n",
       "    </tr>\n",
       "  </tbody>\n",
       "</table>\n",
       "<p>467 rows × 9 columns</p>\n",
       "</div>"
      ],
      "text/plain": [
       "    Instrument  GICS Sector Code  Forward P/E (Daily Time Series Ratio)  \\\n",
       "0        SHW.N                15                              26.332215   \n",
       "1        DTE.N                55                              18.154593   \n",
       "2        LOW.N                25                              17.928068   \n",
       "3       WBA.OQ                30                               8.158641   \n",
       "4       MAR.OQ                25                              44.855652   \n",
       "..         ...               ...                                    ...   \n",
       "498       CI.N                35                              10.436945   \n",
       "499      FIS.N                45                              21.940846   \n",
       "500    FTNT.OQ                45                              32.828239   \n",
       "501     TXN.OQ                45                              27.198365   \n",
       "502    CTAS.OQ                20                              39.630852   \n",
       "\n",
       "     Price To Book Value Per Share (Daily Time Series Ratio)  \\\n",
       "0                                            14.907662         \n",
       "1                                             2.023242         \n",
       "2                                            26.631818         \n",
       "3                                             1.668671         \n",
       "4                                           167.531397         \n",
       "..                                                 ...         \n",
       "498                                           1.653245         \n",
       "499                                           1.791679         \n",
       "500                                          26.650243         \n",
       "501                                          17.219692         \n",
       "502                                          10.541220         \n",
       "\n",
       "     Enterprise Value To Operating Cash Flow (Daily Time Series Ratio)  \\\n",
       "0                                            21.841173                   \n",
       "1                                            12.418932                   \n",
       "2                                            10.031905                   \n",
       "3                                             9.203912                   \n",
       "4                                            22.562059                   \n",
       "..                                                 ...                   \n",
       "498                                          13.291225                   \n",
       "499                                          28.061981                   \n",
       "500                                          17.751646                   \n",
       "501                                          25.083204                   \n",
       "502                                          30.255966                   \n",
       "\n",
       "     Predictions     Probs  Actuals   hits  \n",
       "0              0  0.883485        0  green  \n",
       "1              1  0.485067        1  green  \n",
       "2              1  0.454694        1  green  \n",
       "3              1  0.431898        1  green  \n",
       "4              0  0.891970        0  green  \n",
       "..           ...       ...      ...    ...  \n",
       "498            1  0.208036        1  green  \n",
       "499            0  0.751622        1      1  \n",
       "500            0  0.891970        0  green  \n",
       "501            0  0.891970        1      1  \n",
       "502            0  0.891970        0  green  \n",
       "\n",
       "[467 rows x 9 columns]"
      ]
     },
     "execution_count": 24,
     "metadata": {},
     "output_type": "execute_result"
    }
   ],
   "source": [
    "clf_results"
   ]
  },
  {
   "cell_type": "code",
   "execution_count": 25,
   "metadata": {},
   "outputs": [],
   "source": [
    "from sklearn.ensemble import GradientBoostingClassifier\n",
    "from sklearn.model_selection import train_test_split\n",
    "from adspy_shared_utilities import plot_class_regions_for_classifier_subplot"
   ]
  },
  {
   "cell_type": "code",
   "execution_count": 26,
   "metadata": {},
   "outputs": [
    {
     "ename": "MemoryError",
     "evalue": "Unable to allocate 50.0 GiB for an array with shape (9115, 736957) and data type float64",
     "output_type": "error",
     "traceback": [
      "\u001b[1;31m---------------------------------------------------------------------------\u001b[0m",
      "\u001b[1;31mMemoryError\u001b[0m                               Traceback (most recent call last)",
      "\u001b[1;32m<ipython-input-26-1a613628b07a>\u001b[0m in \u001b[0;36m<module>\u001b[1;34m\u001b[0m\n\u001b[0;32m     24\u001b[0m     \u001b[0mclf\u001b[0m \u001b[1;33m=\u001b[0m \u001b[0mGradientBoostingClassifier\u001b[0m\u001b[1;33m(\u001b[0m\u001b[0mlearning_rate\u001b[0m\u001b[1;33m=\u001b[0m\u001b[1;36m0.1\u001b[0m\u001b[1;33m,\u001b[0m \u001b[0mmax_depth\u001b[0m\u001b[1;33m=\u001b[0m\u001b[1;36m2\u001b[0m\u001b[1;33m)\u001b[0m\u001b[1;33m.\u001b[0m\u001b[0mfit\u001b[0m\u001b[1;33m(\u001b[0m\u001b[0mX\u001b[0m\u001b[1;33m,\u001b[0m \u001b[0my\u001b[0m\u001b[1;33m)\u001b[0m\u001b[1;33m\u001b[0m\u001b[1;33m\u001b[0m\u001b[0m\n\u001b[0;32m     25\u001b[0m     plot_class_regions_for_classifier_subplot(clf, X, y, X_t,\n\u001b[1;32m---> 26\u001b[1;33m                                          y_t, title, axis,tgt_names)\n\u001b[0m\u001b[0;32m     27\u001b[0m \u001b[1;33m\u001b[0m\u001b[0m\n\u001b[0;32m     28\u001b[0m     \u001b[0maxis\u001b[0m\u001b[1;33m.\u001b[0m\u001b[0mset_xlabel\u001b[0m\u001b[1;33m(\u001b[0m\u001b[0mfeat_lists\u001b[0m\u001b[1;33m[\u001b[0m\u001b[0mpair\u001b[0m\u001b[1;33m[\u001b[0m\u001b[1;36m0\u001b[0m\u001b[1;33m]\u001b[0m\u001b[1;33m]\u001b[0m\u001b[1;33m)\u001b[0m\u001b[1;33m\u001b[0m\u001b[1;33m\u001b[0m\u001b[0m\n",
      "\u001b[1;32m~\\Documents\\adspy_shared_utilities.py\u001b[0m in \u001b[0;36mplot_class_regions_for_classifier_subplot\u001b[1;34m(clf, X, y, X_test, y_test, title, subplot, target_names, plot_decision_regions)\u001b[0m\n\u001b[0;32m     98\u001b[0m     \u001b[0my_min\u001b[0m \u001b[1;33m=\u001b[0m \u001b[0mX\u001b[0m\u001b[1;33m[\u001b[0m\u001b[1;33m:\u001b[0m\u001b[1;33m,\u001b[0m \u001b[1;36m1\u001b[0m\u001b[1;33m]\u001b[0m\u001b[1;33m.\u001b[0m\u001b[0mmin\u001b[0m\u001b[1;33m(\u001b[0m\u001b[1;33m)\u001b[0m\u001b[1;33m\u001b[0m\u001b[1;33m\u001b[0m\u001b[0m\n\u001b[0;32m     99\u001b[0m     \u001b[0my_max\u001b[0m \u001b[1;33m=\u001b[0m \u001b[0mX\u001b[0m\u001b[1;33m[\u001b[0m\u001b[1;33m:\u001b[0m\u001b[1;33m,\u001b[0m \u001b[1;36m1\u001b[0m\u001b[1;33m]\u001b[0m\u001b[1;33m.\u001b[0m\u001b[0mmax\u001b[0m\u001b[1;33m(\u001b[0m\u001b[1;33m)\u001b[0m\u001b[1;33m\u001b[0m\u001b[1;33m\u001b[0m\u001b[0m\n\u001b[1;32m--> 100\u001b[1;33m     \u001b[0mx2\u001b[0m\u001b[1;33m,\u001b[0m \u001b[0my2\u001b[0m \u001b[1;33m=\u001b[0m \u001b[0mnumpy\u001b[0m\u001b[1;33m.\u001b[0m\u001b[0mmeshgrid\u001b[0m\u001b[1;33m(\u001b[0m\u001b[0mnumpy\u001b[0m\u001b[1;33m.\u001b[0m\u001b[0marange\u001b[0m\u001b[1;33m(\u001b[0m\u001b[0mx_min\u001b[0m\u001b[1;33m-\u001b[0m\u001b[0mk\u001b[0m\u001b[1;33m,\u001b[0m \u001b[0mx_max\u001b[0m\u001b[1;33m+\u001b[0m\u001b[0mk\u001b[0m\u001b[1;33m,\u001b[0m \u001b[0mh\u001b[0m\u001b[1;33m)\u001b[0m\u001b[1;33m,\u001b[0m \u001b[0mnumpy\u001b[0m\u001b[1;33m.\u001b[0m\u001b[0marange\u001b[0m\u001b[1;33m(\u001b[0m\u001b[0my_min\u001b[0m\u001b[1;33m-\u001b[0m\u001b[0mk\u001b[0m\u001b[1;33m,\u001b[0m \u001b[0my_max\u001b[0m\u001b[1;33m+\u001b[0m\u001b[0mk\u001b[0m\u001b[1;33m,\u001b[0m \u001b[0mh\u001b[0m\u001b[1;33m)\u001b[0m\u001b[1;33m)\u001b[0m\u001b[1;33m\u001b[0m\u001b[1;33m\u001b[0m\u001b[0m\n\u001b[0m\u001b[0;32m    101\u001b[0m \u001b[1;33m\u001b[0m\u001b[0m\n\u001b[0;32m    102\u001b[0m     \u001b[0mP\u001b[0m \u001b[1;33m=\u001b[0m \u001b[0mclf\u001b[0m\u001b[1;33m.\u001b[0m\u001b[0mpredict\u001b[0m\u001b[1;33m(\u001b[0m\u001b[0mnumpy\u001b[0m\u001b[1;33m.\u001b[0m\u001b[0mc_\u001b[0m\u001b[1;33m[\u001b[0m\u001b[0mx2\u001b[0m\u001b[1;33m.\u001b[0m\u001b[0mravel\u001b[0m\u001b[1;33m(\u001b[0m\u001b[1;33m)\u001b[0m\u001b[1;33m,\u001b[0m \u001b[0my2\u001b[0m\u001b[1;33m.\u001b[0m\u001b[0mravel\u001b[0m\u001b[1;33m(\u001b[0m\u001b[1;33m)\u001b[0m\u001b[1;33m]\u001b[0m\u001b[1;33m)\u001b[0m\u001b[1;33m\u001b[0m\u001b[1;33m\u001b[0m\u001b[0m\n",
      "\u001b[1;32m<__array_function__ internals>\u001b[0m in \u001b[0;36mmeshgrid\u001b[1;34m(*args, **kwargs)\u001b[0m\n",
      "\u001b[1;32m~\\Miniconda3\\lib\\site-packages\\numpy\\lib\\function_base.py\u001b[0m in \u001b[0;36mmeshgrid\u001b[1;34m(*xi, **kwargs)\u001b[0m\n\u001b[0;32m   4207\u001b[0m \u001b[1;33m\u001b[0m\u001b[0m\n\u001b[0;32m   4208\u001b[0m     \u001b[1;32mif\u001b[0m \u001b[0mcopy_\u001b[0m\u001b[1;33m:\u001b[0m\u001b[1;33m\u001b[0m\u001b[1;33m\u001b[0m\u001b[0m\n\u001b[1;32m-> 4209\u001b[1;33m         \u001b[0moutput\u001b[0m \u001b[1;33m=\u001b[0m \u001b[1;33m[\u001b[0m\u001b[0mx\u001b[0m\u001b[1;33m.\u001b[0m\u001b[0mcopy\u001b[0m\u001b[1;33m(\u001b[0m\u001b[1;33m)\u001b[0m \u001b[1;32mfor\u001b[0m \u001b[0mx\u001b[0m \u001b[1;32min\u001b[0m \u001b[0moutput\u001b[0m\u001b[1;33m]\u001b[0m\u001b[1;33m\u001b[0m\u001b[1;33m\u001b[0m\u001b[0m\n\u001b[0m\u001b[0;32m   4210\u001b[0m \u001b[1;33m\u001b[0m\u001b[0m\n\u001b[0;32m   4211\u001b[0m     \u001b[1;32mreturn\u001b[0m \u001b[0moutput\u001b[0m\u001b[1;33m\u001b[0m\u001b[1;33m\u001b[0m\u001b[0m\n",
      "\u001b[1;32m~\\Miniconda3\\lib\\site-packages\\numpy\\lib\\function_base.py\u001b[0m in \u001b[0;36m<listcomp>\u001b[1;34m(.0)\u001b[0m\n\u001b[0;32m   4207\u001b[0m \u001b[1;33m\u001b[0m\u001b[0m\n\u001b[0;32m   4208\u001b[0m     \u001b[1;32mif\u001b[0m \u001b[0mcopy_\u001b[0m\u001b[1;33m:\u001b[0m\u001b[1;33m\u001b[0m\u001b[1;33m\u001b[0m\u001b[0m\n\u001b[1;32m-> 4209\u001b[1;33m         \u001b[0moutput\u001b[0m \u001b[1;33m=\u001b[0m \u001b[1;33m[\u001b[0m\u001b[0mx\u001b[0m\u001b[1;33m.\u001b[0m\u001b[0mcopy\u001b[0m\u001b[1;33m(\u001b[0m\u001b[1;33m)\u001b[0m \u001b[1;32mfor\u001b[0m \u001b[0mx\u001b[0m \u001b[1;32min\u001b[0m \u001b[0moutput\u001b[0m\u001b[1;33m]\u001b[0m\u001b[1;33m\u001b[0m\u001b[1;33m\u001b[0m\u001b[0m\n\u001b[0m\u001b[0;32m   4210\u001b[0m \u001b[1;33m\u001b[0m\u001b[0m\n\u001b[0;32m   4211\u001b[0m     \u001b[1;32mreturn\u001b[0m \u001b[0moutput\u001b[0m\u001b[1;33m\u001b[0m\u001b[1;33m\u001b[0m\u001b[0m\n",
      "\u001b[1;31mMemoryError\u001b[0m: Unable to allocate 50.0 GiB for an array with shape (9115, 736957) and data type float64"
     ]
    },
    {
     "data": {
      "image/png": "[encoded data removed]",
      "text/plain": [
       "<Figure size 432x2304 with 3 Axes>"
      ]
     },
     "metadata": {
      "needs_background": "light"
     },
     "output_type": "display_data"
    }
   ],
   "source": [
    "X = train.drop(['Instrument','Class'], axis = 1)\n",
    "y = train['Class']\n",
    "X_train, X_test, y_train,y_test = train_test_split(X.values, y.values)\n",
    "\n",
    "\n",
    "feat_lists = ['GICS Sector Code', 'Forward P/E (Daily Time Series Ratio)',\n",
    "       'Price To Book Value Per Share (Daily Time Series Ratio)',\n",
    "       'Enterprise Value To Operating Cash Flow (Daily Time Series Ratio)']\n",
    "\n",
    "tgt_names = ['Growth', 'Value']\n",
    "\n",
    "title = 'Gradient Boosted Classification Value/Growth'\n",
    "\n",
    "fig, subaxes = plt.subplots(3, 1, figsize=(6, 32))\n",
    "\n",
    "pair_list = [[3,2], [3,1], [2,1]]\n",
    "\n",
    "for pair, axis in zip(pair_list, subaxes):\n",
    "    X = X_train[:, pair]\n",
    "    y = y_train\n",
    "    X_t = X_test[:, pair]\n",
    "    y_t = y_test\n",
    "    \n",
    "    clf = GradientBoostingClassifier(learning_rate=0.1, max_depth=2).fit(X, y)\n",
    "    plot_class_regions_for_classifier_subplot(clf, X, y, X_t,\n",
    "                                         y_t, title, axis,tgt_names)\n",
    "    \n",
    "    axis.set_xlabel(feat_lists[pair[0]])\n",
    "    axis.set_ylabel(feat_lists[pair[1]])\n",
    "    \n",
    "plt.tight_layout()\n",
    "plt.show()"
   ]
  },
  {
   "cell_type": "code",
   "execution_count": null,
   "metadata": {},
   "outputs": [],
   "source": [
    "X = train.drop(['Instrument','Class'], axis = 1)\n",
    "y = train['Class']"
   ]
  },
  {
   "cell_type": "code",
   "execution_count": null,
   "metadata": {},
   "outputs": [],
   "source": [
    "X_train, X_test, y_train,y_test = train_test_split(X.values, y.values)"
   ]
  },
  {
   "cell_type": "code",
   "execution_count": null,
   "metadata": {},
   "outputs": [],
   "source": [
    "from adspy_shared_utilities import plot_class_regions_for_classifier_subplot"
   ]
  },
  {
   "cell_type": "code",
   "execution_count": null,
   "metadata": {},
   "outputs": [],
   "source": [
    "from sklearn.cluster import KMeans\n",
    "from sklearn.preprocessing import MinMaxScaler"
   ]
  },
  {
   "cell_type": "code",
   "execution_count": null,
   "metadata": {},
   "outputs": [],
   "source": [
    "norm_X_eval = MinMaxScaler().fit(X_eval).transform(X_eval)"
   ]
  },
  {
   "cell_type": "code",
   "execution_count": null,
   "metadata": {},
   "outputs": [],
   "source": [
    "kmeans = KMeans(n_clusters=2).fit(norm_X_eval)"
   ]
  },
  {
   "cell_type": "code",
   "execution_count": null,
   "metadata": {},
   "outputs": [],
   "source": [
    "len(kmeans.labels_)"
   ]
  },
  {
   "cell_type": "code",
   "execution_count": null,
   "metadata": {},
   "outputs": [],
   "source": [
    "from adspy_shared_utilities import plot_labelled_scatter"
   ]
  },
  {
   "cell_type": "code",
   "execution_count": null,
   "metadata": {},
   "outputs": [],
   "source": [
    "plot_labelled_scatter(norm_X_eval, kmeans.labels_, ['Growth', 'Value'])"
   ]
  },
  {
   "cell_type": "code",
   "execution_count": null,
   "metadata": {},
   "outputs": [],
   "source": [
    "norm_X_eval"
   ]
  },
  {
   "cell_type": "code",
   "execution_count": null,
   "metadata": {},
   "outputs": [],
   "source": [
    "clusts = []\n",
    "for k in kmeans.labels_:\n",
    "    if k == 1:\n",
    "        clusts.append(1)\n",
    "    else:\n",
    "        clusts.append(0)\n",
    "\n",
    "clf_results['clust'] = clusts\n",
    "clf_results"
   ]
  },
  {
   "cell_type": "code",
   "execution_count": null,
   "metadata": {},
   "outputs": [],
   "source": [
    "accu2 = metrics.accuracy_score(clf_results['Actuals'], clf_results['clust'])"
   ]
  },
  {
   "cell_type": "code",
   "execution_count": null,
   "metadata": {},
   "outputs": [],
   "source": [
    "accu2"
   ]
  },
  {
   "cell_type": "code",
   "execution_count": null,
   "metadata": {},
   "outputs": [],
   "source": [
    "from scipy.stats.mstats import winsorize"
   ]
  },
  {
   "cell_type": "code",
   "execution_count": null,
   "metadata": {},
   "outputs": [],
   "source": [
    "k = data.dropna()\n",
    "k = k[k['GICS Sector Code']!=40] \n",
    "k = k[k['GICS Sector Code']!=60]\n",
    "k_inst = list(k['Instrument'])\n",
    "k_sec = list(k['GICS Sector Code'])\n",
    "k = k.drop(['Instrument', 'GICS Sector Code'],axis=1)\n",
    "lims = k.quantile(0.1)\n",
    "lims_2 = k.quantile(0.9)\n",
    "k = k.clip(lims, lims_2, axis=1)\n"
   ]
  },
  {
   "cell_type": "code",
   "execution_count": null,
   "metadata": {},
   "outputs": [],
   "source": [
    "norm_X_eval = MinMaxScaler().fit(k).transform(k)"
   ]
  },
  {
   "cell_type": "code",
   "execution_count": null,
   "metadata": {},
   "outputs": [],
   "source": [
    "k['GICS Sector Code'] = k_sec\n",
    "k['STOCKS'] = k_inst"
   ]
  },
  {
   "cell_type": "code",
   "execution_count": null,
   "metadata": {},
   "outputs": [],
   "source": [
    "norm_X_eval"
   ]
  },
  {
   "cell_type": "code",
   "execution_count": null,
   "metadata": {},
   "outputs": [],
   "source": [
    "kmeans = KMeans(n_clusters=2).fit(norm_X_eval)"
   ]
  },
  {
   "cell_type": "code",
   "execution_count": null,
   "metadata": {},
   "outputs": [],
   "source": []
  },
  {
   "cell_type": "code",
   "execution_count": null,
   "metadata": {},
   "outputs": [],
   "source": [
    "k['results'] = kmeans.labels_"
   ]
  },
  {
   "cell_type": "code",
   "execution_count": null,
   "metadata": {},
   "outputs": [],
   "source": [
    "k['actuals'] = clf_results['Actuals']"
   ]
  },
  {
   "cell_type": "code",
   "execution_count": null,
   "metadata": {},
   "outputs": [],
   "source": [
    "k"
   ]
  },
  {
   "cell_type": "code",
   "execution_count": null,
   "metadata": {},
   "outputs": [],
   "source": [
    "accu2 = metrics.accuracy_score(k['actuals'], k['results'])"
   ]
  },
  {
   "cell_type": "code",
   "execution_count": null,
   "metadata": {},
   "outputs": [],
   "source": [
    "import plotly.graph_objects as go"
   ]
  },
  {
   "cell_type": "code",
   "execution_count": null,
   "metadata": {},
   "outputs": [],
   "source": [
    "X=list(k['Price To Book Value Per Share (Daily Time Series Ratio)'])\n",
    "Y = list(k['Enterprise Value To Operating Cash Flow (Daily Time Series Ratio)'])\n",
    "text = list(k['STOCKS'])\n",
    "color = ['#00274C' if i==1 else '#FFCB05' for i in list(k['results']) ]\n",
    "\n",
    "fig = go.Figure()\n",
    "fig.add_trace(go.Scatter(x=X, y=Y, mode = 'markers', text = text, marker = dict(color = color)))\n",
    "fig.show()"
   ]
  },
  {
   "cell_type": "code",
   "execution_count": null,
   "metadata": {},
   "outputs": [],
   "source": [
    "accu2"
   ]
  },
  {
   "cell_type": "code",
   "execution_count": null,
   "metadata": {},
   "outputs": [],
   "source": [
    "kmeans.cluster_centers_"
   ]
  },
  {
   "cell_type": "code",
   "execution_count": null,
   "metadata": {},
   "outputs": [],
   "source": [
    "X=list(k['Price To Book Value Per Share (Daily Time Series Ratio)'])\n",
    "Y = list(k['Forward P/E (Daily Time Series Ratio)'])\n",
    "text = list(k['STOCKS'])\n",
    "color = ['#00274C' if i==1 else '#FFCB05' for i in list(k['results']) ]\n",
    "\n",
    "fig = go.Figure()\n",
    "fig.add_trace(go.Scatter(x=X, y=Y, mode = 'markers', text = text, marker = dict(color = color)))\n",
    "fig.show()"
   ]
  },
  {
   "cell_type": "code",
   "execution_count": null,
   "metadata": {},
   "outputs": [],
   "source": [
    "X=list(k['Enterprise Value To Operating Cash Flow (Daily Time Series Ratio)'])\n",
    "Y = list(k['Forward P/E (Daily Time Series Ratio)'])\n",
    "text = list(k['STOCKS'])\n",
    "color = ['#00274C' if i==1 else '#FFCB05' for i in list(k['results']) ]\n",
    "\n",
    "fig = go.Figure()\n",
    "fig.add_trace(go.Scatter(x=X, y=Y, mode = 'markers', text = text, marker = dict(color = color)))\n",
    "fig.show()"
   ]
  },
  {
   "cell_type": "code",
   "execution_count": null,
   "metadata": {},
   "outputs": [],
   "source": [
    "Y=list(k['Price To Book Value Per Share (Daily Time Series Ratio)'])\n",
    "X = list(k['GICS Sector Code'])\n",
    "text = list(k['STOCKS'])\n",
    "color = ['#00274C' if i==1 else '#FFCB05' for i in list(k['results']) ]\n",
    "\n",
    "fig = go.Figure()\n",
    "fig.add_trace(go.Scatter(x=X, y=Y, mode = 'markers', text = text, marker = dict(color = color)))\n",
    "fig.show()"
   ]
  },
  {
   "cell_type": "code",
   "execution_count": null,
   "metadata": {},
   "outputs": [],
   "source": []
  }
 ],
 "metadata": {
  "kernelspec": {
   "display_name": "Python 3",
   "language": "python",
   "name": "python3"
  },
  "language_info": {
   "codemirror_mode": {
    "name": "ipython",
    "version": 3
   },
   "file_extension": ".py",
   "mimetype": "text/x-python",
   "name": "python",
   "nbconvert_exporter": "python",
   "pygments_lexer": "ipython3",
   "version": "3.7.4"
  }
 },
 "nbformat": 4,
 "nbformat_minor": 4
}
