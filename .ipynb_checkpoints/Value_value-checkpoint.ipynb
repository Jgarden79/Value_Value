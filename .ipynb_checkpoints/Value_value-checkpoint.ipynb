{
 "cells": [
  {
   "cell_type": "code",
   "execution_count": null,
   "metadata": {},
   "outputs": [],
   "source": [
    "import numpy as np\n",
    "import pandas as pd\n",
    "import eikon as ek\n",
    "ek.set_app_key('b4229eae2c644ec8a0aab0bb0fb83b13a38eb2c7')\n",
    "import cufflinks as cf\n",
    "import configparser as cp\n",
    "cf.set_config_file(offline = True)\n",
    "from datetime import datetime\n",
    "from datetime import timedelta\n",
    "import scipy as sp\n",
    "import scipy.stats as si\n",
    "import sympy as sy\n",
    "import sympy.stats as systats\n",
    "from IPython.display import display_html\n",
    "import matplotlib.pyplot as plt\n",
    "import matplotlib.ticker as ticker\n",
    "from pandas.plotting import table \n",
    "import matplotlib\n",
    "import seaborn as sns\n",
    "from IPython.display import HTML\n",
    "from arch import arch_model\n",
    "from numpy.linalg import inv\n",
    "from scipy.optimize import fmin_slsqp\n",
    "\n",
    "import plotly.express as px\n",
    "import plotly.graph_objects as go\n",
    "import chart_studio\n",
    "from chart_studio.plotly import plot, iplot\n",
    "import chart_studio.plotly as py\n",
    "from PIL import Image as im\n",
    "#import Lido_funcs3 as lf\n",
    "\n",
    "import time\n",
    "\n",
    "\n",
    "import IPython.display\n",
    "from IPython.display import Image\n",
    "chart_studio.tools.set_credentials_file(username='JGarden79', api_key='eWGoAmjzRp3GIVRTFfSR')\n",
    "\n",
    "import chart_studio.tools as tls\n",
    "\n",
    "import plotly.io as pio\n",
    "\n",
    "import plotly.figure_factory as ff\n",
    "import DatastreamDSWS as DSWS\n",
    "ds = DSWS.Datastream(username = 'JGarden1@lidoadvisors.com', password= 'Welcome2')\n",
    "import warnings\n",
    "warnings.simplefilter(action='ignore', category=FutureWarning)\n",
    "from sklearn.svm import SVC\n",
    "from sklearn.metrics import classification_report, confusion_matrix\n",
    "from plotly.subplots import make_subplots\n",
    "import os\n",
    "\n",
    "\n",
    "from scipy.stats.mstats import winsorize\n",
    "from sklearn.model_selection import train_test_split\n",
    "from sklearn.ensemble import GradientBoostingClassifier\n",
    "from sklearn import metrics"
   ]
  },
  {
   "cell_type": "code",
   "execution_count": null,
   "metadata": {},
   "outputs": [],
   "source": [
    "def get_clean_tts():\n",
    "    '''Thsi function will get and clean data for the models'''\n",
    "    hold = ek.get_data('SPY', fields = [ek.TR_Field('TR.ETPConstituentRIC',params={'SDate':'2020-10-06'})])[0]\n",
    "    hold = hold[hold['Constituent RIC'] != 'GOOG.OQ']\n",
    "    rics = [x for x in hold['Constituent RIC']]\n",
    "    if 'GOOG.OQ' in rics == True:\n",
    "        rics.remove('GOOG.OQ')\n",
    "    fields = [ek.TR_Field('TR.GICSSectorCode'),ek.TR_Field('TR.FwdPE', params={'Period':'NTM'}), ek.TR_Field('TR.PriceToBVPerShare'), ek.TR_Field('TR.EVToOperatingCashFlow')]\n",
    "    data = ek.get_data(rics, fields = fields)[0] ####Bring in valuation metrics\n",
    "    data = data[data['GICS Sector Code']!='40'] #### Remove Fin\n",
    "    data = data[data['GICS Sector Code']!='60'] #### Remove RE\n",
    "    data.to_pickle('data_master.pkl')\n",
    "    pure_val = ek.get_data('RPV', fields = [ek.TR_Field('TR.ETPConstituentRIC',params={'SDate':'2020-10-07'})])[0] ####Import HOLDINGS of Pure Value\n",
    "    test_rics_val = [x for x in pure_val['Constituent RIC']] #### Move holdings to list for later use\n",
    "    time.sleep(15) ###sleep \n",
    "    pure_gr = ek.get_data('RPG', fields = [ek.TR_Field('TR.ETPConstituentRIC',params={'SDate':'2020-10-07'})])[0] ####Import HOLDINGS of Pure Growth\n",
    "    test_rics_gro = [x for x in pure_gr['Constituent RIC']]#### Move to list for later use\n",
    "\n",
    "    train = pd.DataFrame() ####Establish empty DF\n",
    "\n",
    "    ###Create the Actual classifications of \"PURE VALUE/GROWTH\" using a Binary Classifier\n",
    "    for i in range(0, len(test_rics_val)):####Iterate over a range equal to the number of rics in Value\n",
    "        x = data[data['Instrument'] == test_rics_val[i]] ###look for each \"PURE VALUE\" RIC in the complete dataset\n",
    "        x['Class'] = 1 #### Add a classification value in a new column 1 for value 0 for growth\n",
    "        train = pd.concat([train, x]) ###add the observation (row) to the training data frame\n",
    "    \n",
    "    for i in range(0, len(test_rics_gro)): ###***SEE ABOVE***\n",
    "        x = data[data['Instrument'] == test_rics_gro [i]]\n",
    "        x['Class'] = 0\n",
    "        train = pd.concat([train, x])\n",
    "    \n",
    "    train = train.dropna()####Remove missing data\n",
    "\n",
    "\n",
    "    train = train.sample(frac=1, replace=True, random_state = 42)#### here we create our training data set by randomly selecting data from the training data frame, every item selected is replaced \n",
    "    train.to_pickle('training_master.pkl')\n",
    "    X = train.drop(['Instrument','Class', 'GICS Sector Code'], axis = 1)###This is a DF of features to be fed into the model\n",
    "    lims = X.quantile(0.1)\n",
    "    lims_2 = X.quantile(0.9)\n",
    "    X = X.clip(lims, lims_2, axis = 1)\n",
    "    sect = train['GICS Sector Code'].to_list()\n",
    "    #X['GICS Sector Code'] = sect\n",
    "    y = train['Class'] ### These are classifications used to train and test the model befor we apply to our out of sample \n",
    "\n",
    "\n",
    "    X_train, X_test, y_train,y_test = train_test_split(X, y) #### randomly split test data into training and testing data\n",
    "    \n",
    "    \n",
    "    \n",
    "    \n",
    "    return X_train, X_test, y_train,y_test"
   ]
  },
  {
   "cell_type": "code",
   "execution_count": null,
   "metadata": {},
   "outputs": [],
   "source": [
    "def get_desc():\n",
    "    df = pd.read_pickle('data_master.pkl')\n",
    "    codes = [15, 55, 25, 30, 20, 60, 40, 35, 10, 45, 50]\n",
    "    sectors = ['Mat', 'Utl', 'Disc', 'Stap', 'Ind', 'RE', 'Fin', 'HC', 'Enr', 'Tech', 'CS']\n",
    "    df_desc = pd.DataFrame()\n",
    "    \n",
    "    for i in range(0, len(codes)):\n",
    "        x = df[df['GICS Sector Code']==codes[i]]\n",
    "        x['GICS Sector Code'] = [sectors[i] for j in x['GICS Sector Code']]\n",
    "        df_desc = pd.concat([df_desc, x])\n",
    "    \n",
    "    df_desc = df_desc[df_desc['GICS Sector Code']!= 'Fin']\n",
    "    df_desc = df_desc[df_desc['GICS Sector Code']!= 'RE']\n",
    "    \n",
    "    \n",
    "    sectors_ex = ['Mat', 'Utl', 'Disc', 'Stap', 'Ind', 'HC', 'Enr', 'Tech', 'CS']\n",
    "    colors = [\"#0466c8\", \"#0353a4\", \"#023e7d\", \"#002855\", \"#001845\", '#001233', \"#33415c\", \"#5c677d\", \"#7d8597\"]\n",
    "    fig_1 = go.Figure()\n",
    "    \n",
    "    for i in range(0,len(sectors_ex)):\n",
    "        df_x = df_desc[df_desc['GICS Sector Code'] == sectors_ex[i]]\n",
    "        lims =  df_x.quantile(0.1)\n",
    "        lims_2 =  df_x.quantile(0.9)\n",
    "        df_x  =  df_x.clip(lims, lims_2, axis = 1)\n",
    "        y = df_x['Forward P/E (Daily Time Series Ratio)'].to_list()\n",
    "        fig_1.add_trace(go.Box(\n",
    "            y = y,\n",
    "            name = sectors_ex[i],\n",
    "            marker_color = colors[i],\n",
    "            boxpoints=False,\n",
    "            boxmean = 'sd'))\n",
    "        \n",
    "    fig_1.update_layout(title='Forward P/E Ratios by Sector',\n",
    "                        paper_bgcolor='white',\n",
    "                        plot_bgcolor='white',)\n",
    "        \n",
    "    pio.write_html(fig_1, file='P_E.html', auto_open=True)   \n",
    "    \n",
    "    \n",
    "    fig_2 = go.Figure()\n",
    "    \n",
    "    for i in range(0,len(sectors_ex)):\n",
    "        df_x = df_desc[df_desc['GICS Sector Code'] == sectors_ex[i]]\n",
    "        lims =  df_x.quantile(0.1)\n",
    "        lims_2 =  df_x.quantile(0.9)\n",
    "        df_x  =  df_x.clip(lims, lims_2, axis = 1)\n",
    "        y = df_x['Price To Book Value Per Share (Daily Time Series Ratio)'].to_list()\n",
    "        fig_2.add_trace(go.Box(\n",
    "            y = y,\n",
    "            name = sectors_ex[i],\n",
    "            marker_color = colors[i],\n",
    "            boxpoints=False,\n",
    "            boxmean = 'sd'))\n",
    "        \n",
    "    fig_2.update_layout(title='Price To Book Value by Sector',\n",
    "                        paper_bgcolor='white',\n",
    "                        plot_bgcolor='white',)\n",
    "        \n",
    "    \n",
    "    pio.write_html(fig_2, file='P_B.html', auto_open=True)   \n",
    "\n",
    "    \n",
    "\n",
    "    \n",
    "    \n",
    "    fig_3 = go.Figure()\n",
    "    \n",
    "    for i in range(0,len(sectors_ex)):\n",
    "        df_x = df_desc[df_desc['GICS Sector Code'] == sectors_ex[i]]\n",
    "        lims =  df_x.quantile(0.1)\n",
    "        lims_2 =  df_x.quantile(0.9)\n",
    "        df_x  =  df_x.clip(lims, lims_2, axis = 1)\n",
    "        y = df_x['Enterprise Value To Operating Cash Flow (Daily Time Series Ratio)'].to_list()\n",
    "        fig_3.add_trace(go.Box(\n",
    "            y = y,\n",
    "            name = sectors_ex[i],\n",
    "            marker_color = colors[i],\n",
    "            boxpoints=False,\n",
    "            boxmean = 'sd'))\n",
    "        \n",
    "    fig_3.update_layout(title='Enterprise Value to Operating Cash Flow by Sector',\n",
    "                        paper_bgcolor='white',\n",
    "                        plot_bgcolor='white',)\n",
    "        \n",
    "    \n",
    "    pio.write_html(fig_3, file='EV_OCF.html', auto_open=True)    \n",
    "\n",
    "    \n",
    "\n",
    "    \n",
    "    return "
   ]
  },
  {
   "cell_type": "code",
   "execution_count": null,
   "metadata": {},
   "outputs": [],
   "source": [
    "get_desc()"
   ]
  },
  {
   "cell_type": "code",
   "execution_count": null,
   "metadata": {},
   "outputs": [],
   "source": [
    "X_train, X_test, y_train,y_test = get_clean_tts()"
   ]
  },
  {
   "cell_type": "code",
   "execution_count": null,
   "metadata": {},
   "outputs": [],
   "source": [
    "###Set up data for GBDecision Tree Train and Test\n",
    "def GBDT_Model(X_train, X_test, y_train,y_test ):\n",
    "    clf = GradientBoostingClassifier(learning_rate=0.01, n_estimators=150, random_state=42, max_depth=2).fit(X_train, y_train)\n",
    "    return clf\n"
   ]
  },
  {
   "cell_type": "code",
   "execution_count": null,
   "metadata": {},
   "outputs": [],
   "source": [
    "def get_GBDT_acc(mod):\n",
    "    accuracy_train = mod.score(X_train, y_train)\n",
    "    accuracy_test = mod.score(X_test, y_test)\n",
    "    data = pd.read_pickle('data_master.pkl')\n",
    "    X_eval = data.drop(['Instrument'], axis = 1).dropna()\n",
    "    sect = X_eval['GICS Sector Code'].to_list()\n",
    "    X_eval = X_eval.drop(['GICS Sector Code'], axis=1)\n",
    "    lims = X_eval.quantile(0.1)\n",
    "    lims_2 = X_eval.quantile(0.9)\n",
    "    X_eval = X_eval.clip(lims, lims_2, axis = 1)\n",
    "    #X_eval['GICS Sector Code'] = sect\n",
    "    \n",
    "    OS_res = mod.predict(X_eval)\n",
    "    OS_probs = mod.predict_proba(X_eval)\n",
    "\n",
    "    clf_results = data.dropna()\n",
    "    clf_results['Predictions'] = OS_res\n",
    "    clf_results['Probs'] = [p[0] for p in OS_probs ]    \n",
    "    SPYV = ek.get_data('SPYV.K', fields = [ek.TR_Field('TR.ETPConstituentRIC',params={'SDate':'2020-10-07'})])[0]\n",
    "    actuals = [x for x in SPYV['Constituent RIC']]\n",
    "    j = clf_results['Instrument'].tolist()\n",
    "    y_real = []\n",
    "\n",
    "    for i in j:\n",
    "        if i in actuals:\n",
    "            y_real.append(1)\n",
    "        else:\n",
    "            y_real.append(0)\n",
    "\n",
    "    clf_results['Actuals'] = y_real\n",
    "    accu = metrics.accuracy_score(clf_results['Actuals'], clf_results['Predictions'])\n",
    "    \n",
    "    accus = {'Training score': accuracy_train, 'Test Score':accuracy_test, 'Evaluation Score':accu}\n",
    "    \n",
    "    fig = go.Figure(go.Bar(\n",
    "            x=list(accus.values()),\n",
    "            y=list(accus.keys()),\n",
    "            orientation='h',\n",
    "            text = list(accus.values()),\n",
    "            textposition='auto',\n",
    "            marker = dict(color = [\"#ffd28f\", \"#97a5d5\", \"#005083\"])))\n",
    "\n",
    "    fig.update_traces(texttemplate='%{text:.2%}', textposition='auto'),\n",
    "    fig.update_layout(\n",
    "        paper_bgcolor='white',\n",
    "        plot_bgcolor= 'white',\n",
    "        height = 600,\n",
    "        width = 678,\n",
    "        \n",
    "        font = dict(family= 'pt sans narrow', size = 25),\n",
    "        title= {'text': \"Gradient Boosted Decision Tree Accuracy Scores\"},\n",
    "        xaxis=dict(\n",
    "            zeroline=False,\n",
    "            showline=False,\n",
    "            showticklabels=False,\n",
    "            showgrid=True))\n",
    "\n",
    "    #py.iplot(fig_6, filename='fig_6')\n",
    "    pio.write_html(fig, file='GBD_acc.html', auto_open=True)\n",
    "    \n",
    "    hits = []\n",
    "    for i in range(0, len(clf_results['Predictions'])):\n",
    "        if clf_results['Predictions'].iloc[i] == clf_results['Actuals'].iloc[i]:\n",
    "            hits.append('green')\n",
    "        else:\n",
    "            hits.append('red')\n",
    "    \n",
    "    clf_results['hits'] = hits\n",
    "    \n",
    "    clf_results['hits'] = clf_results['hits'].replace(1, 'green')\n",
    "    clf_results['hits'] = clf_results['hits'].replace(0, 'red')\n",
    "    clf_results.to_pickle('GBD_results_DF.pkl')\n",
    "    \n",
    "    \n",
    "    feat_names = [ 'Forward P/E', 'P/B', 'EV/OCF']\n",
    "    feat_imp = list(mod.feature_importances_)\n",
    "\n",
    "    \n",
    "    fig_2 = go.Figure(go.Bar(\n",
    "            x=feat_imp,\n",
    "            y=feat_names,\n",
    "            orientation='h',\n",
    "            text = feat_imp,\n",
    "            textposition='auto',\n",
    "            marker = dict(color = [\"#264653\", \"#e9c46a\", \"#e76f51\"])))\n",
    "\n",
    "    fig_2.update_traces(texttemplate='%{text:.2%}', textposition='auto'),\n",
    "    fig_2.update_layout(\n",
    "        paper_bgcolor='white',\n",
    "        plot_bgcolor= 'white',\n",
    "        height = 600,\n",
    "        width = 678,\n",
    "        \n",
    "        font = dict(family= 'pt sans narrow', size = 25),\n",
    "        title= {'text': \"Gradient Boosted Decision Tree Feature Importance\"},\n",
    "        xaxis=dict(\n",
    "            zeroline=False,\n",
    "            showline=False,\n",
    "            showticklabels=False,\n",
    "            showgrid=True))\n",
    "\n",
    "    #py.iplot(fig_6, filename='fig_6')\n",
    "    pio.write_html(fig_2, file='GBD_feat.html', auto_open=True)\n",
    "    \n",
    "\n",
    "    \n",
    "    \n",
    "\n",
    "    \n",
    "    \n",
    "    return \n",
    "\n",
    "    \n",
    "    "
   ]
  },
  {
   "cell_type": "code",
   "execution_count": null,
   "metadata": {},
   "outputs": [],
   "source": [
    "mod = GBDT_Model(X_train, X_test, y_train,y_test )\n",
    "get_GBDT_acc(mod)"
   ]
  },
  {
   "cell_type": "code",
   "execution_count": null,
   "metadata": {},
   "outputs": [],
   "source": [
    "from sklearn.preprocessing import normalize\n",
    "\n",
    "X = clf_results['Price To Book Value Per Share (Daily Time Series Ratio)'].to_numpy()\n",
    "X_norm = normalize(X.reshape(1,-1))\n",
    "X_list = list(X_norm[0])\n",
    "\n",
    "Y = clf_results['Forward P/E (Daily Time Series Ratio)'].to_numpy()\n",
    "Y_norm = normalize(Y.reshape(1,-1))\n",
    "Y_list = list(Y_norm[0])\n",
    "\n",
    "color = clf_results['hits'].to_list()\n",
    "text = clf_results['Instrument'].to_list()\n",
    "\n",
    "fig = go.Figure(data = go.Scatter(\n",
    "    x=X_list,\n",
    "    y=Y_list,\n",
    "    mode='markers',\n",
    "    text= text,\n",
    "    marker = dict(color = color)))\n",
    "fig.update_yaxes(type=\"log\")\n",
    "fig.update_xaxes(type=\"log\")\n",
    "fig.update_layout(title= 'Total Hits vs Misses')\n",
    "\n",
    "\n",
    "fig.show()"
   ]
  },
  {
   "cell_type": "code",
   "execution_count": null,
   "metadata": {},
   "outputs": [],
   "source": [
    "cfm = confusion_matrix(clf_results['Actuals'],clf_results['Predictions'])\n",
    "CFM = cfm/len(clf_results['Actuals'])\n",
    "print(CFM)"
   ]
  },
  {
   "cell_type": "code",
   "execution_count": null,
   "metadata": {},
   "outputs": [],
   "source": [
    "import plotly.figure_factory as ff\n",
    "x = ['Predicted GROWTH' , 'Predicted VALUE']\n",
    "y = ['Observed GROWTH', 'Observed VALUE']\n",
    "\n",
    "CFM_text =[['{:2%}'.format(CFM[0][0]), '{:2%}'.format(CFM[0][1])],['{:2%}'.format(CFM[1][0]),'{:2%}'.format(CFM[1][1])]]\n",
    "fig = ff.create_annotated_heatmap(CFM, x=x, y=y, annotation_text=CFM_text, colorscale='blues')\n",
    "\n",
    "fig.update_layout(title_text='<i><b>Confusion matrix</b></i>',\n",
    "                  #xaxis = dict(title='x'),\n",
    "                  #yaxis = dict(title='x')\n",
    "                 )\n",
    "\n",
    "# add custom xaxis title\n",
    "fig.add_annotation(dict(font=dict(color=\"black\",size=14),\n",
    "                        x=0.5,\n",
    "                        y=-0.15,\n",
    "                        showarrow=False,\n",
    "                        text=\"Predicted value\",\n",
    "                        xref=\"paper\",\n",
    "                        yref=\"paper\"))\n",
    "\n",
    "# add custom yaxis title\n",
    "fig.add_annotation(dict(font=dict(color=\"black\",size=14),\n",
    "                        x=-0.35,\n",
    "                        y=0.5,\n",
    "                        showarrow=False,\n",
    "                        text=\"Real value\",\n",
    "                        textangle=-90,\n",
    "                        xref=\"paper\",\n",
    "                        yref=\"paper\"))\n",
    "\n",
    "# adjust margins to make room for yaxis title\n",
    "fig.update_layout(margin=dict(t=50, l=200))\n",
    "\n",
    "# add colorbar\n",
    "fig['data'][0]['showscale'] = True\n",
    "fig.show()\n"
   ]
  },
  {
   "cell_type": "code",
   "execution_count": null,
   "metadata": {},
   "outputs": [],
   "source": [
    "from sklearn.metrics import plot_confusion_matrix"
   ]
  },
  {
   "cell_type": "code",
   "execution_count": null,
   "metadata": {},
   "outputs": [],
   "source": [
    "plot_confusion_matrix(clf, X_eval, clf_results['Actuals'], values_format ='d',)"
   ]
  },
  {
   "cell_type": "code",
   "execution_count": null,
   "metadata": {},
   "outputs": [],
   "source": [
    "clf.feature_importances_"
   ]
  },
  {
   "cell_type": "code",
   "execution_count": null,
   "metadata": {},
   "outputs": [],
   "source": [
    "clf_results"
   ]
  },
  {
   "cell_type": "code",
   "execution_count": null,
   "metadata": {},
   "outputs": [],
   "source": [
    "featurs = pd.DataFrame({'Price To Book Value Per Share (Daily Time Series Ratio)':X_list, 'Enterprise Value To Operating Cash Flow (Daily Time Series Ratio)': Y_list})"
   ]
  },
  {
   "cell_type": "code",
   "execution_count": null,
   "metadata": {},
   "outputs": [],
   "source": [
    "featurs['Predictions'] = clf_results['Predictions']\n",
    "featurs"
   ]
  },
  {
   "cell_type": "code",
   "execution_count": null,
   "metadata": {},
   "outputs": [],
   "source": [
    "clf_results"
   ]
  },
  {
   "cell_type": "code",
   "execution_count": null,
   "metadata": {},
   "outputs": [],
   "source": [
    "from sklearn.ensemble import GradientBoostingClassifier\n",
    "from sklearn.model_selection import train_test_split\n",
    "from adspy_shared_utilities import plot_class_regions_for_classifier_subplot"
   ]
  },
  {
   "cell_type": "code",
   "execution_count": null,
   "metadata": {},
   "outputs": [],
   "source": [
    "X = train.drop(['Instrument','Class'], axis = 1)\n",
    "y = train['Class']\n",
    "X_train, X_test, y_train,y_test = train_test_split(X.values, y.values)\n",
    "\n",
    "\n",
    "feat_lists = ['GICS Sector Code', 'Forward P/E (Daily Time Series Ratio)',\n",
    "       'Price To Book Value Per Share (Daily Time Series Ratio)',\n",
    "       'Enterprise Value To Operating Cash Flow (Daily Time Series Ratio)']\n",
    "\n",
    "tgt_names = ['Growth', 'Value']\n",
    "\n",
    "title = 'Gradient Boosted Classification Value/Growth'\n",
    "\n",
    "fig, subaxes = plt.subplots(3, 1, figsize=(6, 32))\n",
    "\n",
    "pair_list = [[3,2], [3,1], [2,1]]\n",
    "\n",
    "for pair, axis in zip(pair_list, subaxes):\n",
    "    X = X_train[:, pair]\n",
    "    y = y_train\n",
    "    X_t = X_test[:, pair]\n",
    "    y_t = y_test\n",
    "    \n",
    "    clf = GradientBoostingClassifier(learning_rate=0.1, max_depth=2).fit(X, y)\n",
    "    plot_class_regions_for_classifier_subplot(clf, X, y, X_t,\n",
    "                                         y_t, title, axis,tgt_names)\n",
    "    \n",
    "    axis.set_xlabel(feat_lists[pair[0]])\n",
    "    axis.set_ylabel(feat_lists[pair[1]])\n",
    "    \n",
    "plt.tight_layout()\n",
    "plt.show()"
   ]
  },
  {
   "cell_type": "code",
   "execution_count": null,
   "metadata": {},
   "outputs": [],
   "source": [
    "X = train.drop(['Instrument','Class'], axis = 1)\n",
    "y = train['Class']"
   ]
  },
  {
   "cell_type": "code",
   "execution_count": null,
   "metadata": {},
   "outputs": [],
   "source": [
    "X_train, X_test, y_train,y_test = train_test_split(X.values, y.values)"
   ]
  },
  {
   "cell_type": "code",
   "execution_count": null,
   "metadata": {},
   "outputs": [],
   "source": [
    "from adspy_shared_utilities import plot_class_regions_for_classifier_subplot"
   ]
  },
  {
   "cell_type": "code",
   "execution_count": null,
   "metadata": {},
   "outputs": [],
   "source": [
    "from sklearn.cluster import KMeans\n",
    "from sklearn.preprocessing import MinMaxScaler"
   ]
  },
  {
   "cell_type": "code",
   "execution_count": null,
   "metadata": {},
   "outputs": [],
   "source": [
    "norm_X_eval = MinMaxScaler().fit(X_eval).transform(X_eval)"
   ]
  },
  {
   "cell_type": "code",
   "execution_count": null,
   "metadata": {},
   "outputs": [],
   "source": [
    "kmeans = KMeans(n_clusters=2).fit(norm_X_eval)"
   ]
  },
  {
   "cell_type": "code",
   "execution_count": null,
   "metadata": {},
   "outputs": [],
   "source": [
    "len(kmeans.labels_)"
   ]
  },
  {
   "cell_type": "code",
   "execution_count": null,
   "metadata": {},
   "outputs": [],
   "source": [
    "from adspy_shared_utilities import plot_labelled_scatter"
   ]
  },
  {
   "cell_type": "code",
   "execution_count": null,
   "metadata": {},
   "outputs": [],
   "source": [
    "plot_labelled_scatter(norm_X_eval, kmeans.labels_, ['Growth', 'Value'])"
   ]
  },
  {
   "cell_type": "code",
   "execution_count": null,
   "metadata": {},
   "outputs": [],
   "source": [
    "norm_X_eval"
   ]
  },
  {
   "cell_type": "code",
   "execution_count": null,
   "metadata": {},
   "outputs": [],
   "source": [
    "clusts = []\n",
    "for k in kmeans.labels_:\n",
    "    if k == 1:\n",
    "        clusts.append(1)\n",
    "    else:\n",
    "        clusts.append(0)\n",
    "\n",
    "clf_results['clust'] = clusts\n",
    "clf_results"
   ]
  },
  {
   "cell_type": "code",
   "execution_count": null,
   "metadata": {},
   "outputs": [],
   "source": [
    "accu2 = metrics.accuracy_score(clf_results['Actuals'], clf_results['clust'])"
   ]
  },
  {
   "cell_type": "code",
   "execution_count": null,
   "metadata": {},
   "outputs": [],
   "source": [
    "accu2"
   ]
  },
  {
   "cell_type": "code",
   "execution_count": null,
   "metadata": {},
   "outputs": [],
   "source": [
    "from scipy.stats.mstats import winsorize"
   ]
  },
  {
   "cell_type": "code",
   "execution_count": null,
   "metadata": {},
   "outputs": [],
   "source": [
    "k = data.dropna()\n",
    "k = k[k['GICS Sector Code']!=40] \n",
    "k = k[k['GICS Sector Code']!=60]\n",
    "k_inst = list(k['Instrument'])\n",
    "k_sec = list(k['GICS Sector Code'])\n",
    "k = k.drop(['Instrument', 'GICS Sector Code'],axis=1)\n",
    "lims = k.quantile(0.1)\n",
    "lims_2 = k.quantile(0.9)\n",
    "k = k.clip(lims, lims_2, axis=1)\n"
   ]
  },
  {
   "cell_type": "code",
   "execution_count": null,
   "metadata": {},
   "outputs": [],
   "source": [
    "norm_X_eval = MinMaxScaler().fit(k).transform(k)"
   ]
  },
  {
   "cell_type": "code",
   "execution_count": null,
   "metadata": {},
   "outputs": [],
   "source": [
    "k['GICS Sector Code'] = k_sec\n",
    "k['STOCKS'] = k_inst"
   ]
  },
  {
   "cell_type": "code",
   "execution_count": null,
   "metadata": {},
   "outputs": [],
   "source": [
    "norm_X_eval"
   ]
  },
  {
   "cell_type": "code",
   "execution_count": null,
   "metadata": {},
   "outputs": [],
   "source": [
    "kmeans = KMeans(n_clusters=2).fit(norm_X_eval)"
   ]
  },
  {
   "cell_type": "code",
   "execution_count": null,
   "metadata": {},
   "outputs": [],
   "source": []
  },
  {
   "cell_type": "code",
   "execution_count": null,
   "metadata": {},
   "outputs": [],
   "source": [
    "k['results'] = kmeans.labels_"
   ]
  },
  {
   "cell_type": "code",
   "execution_count": null,
   "metadata": {},
   "outputs": [],
   "source": [
    "k['actuals'] = clf_results['Actuals']"
   ]
  },
  {
   "cell_type": "code",
   "execution_count": null,
   "metadata": {},
   "outputs": [],
   "source": [
    "k"
   ]
  },
  {
   "cell_type": "code",
   "execution_count": null,
   "metadata": {},
   "outputs": [],
   "source": [
    "accu2 = metrics.accuracy_score(k['actuals'], k['results'])"
   ]
  },
  {
   "cell_type": "code",
   "execution_count": null,
   "metadata": {},
   "outputs": [],
   "source": [
    "import plotly.graph_objects as go"
   ]
  },
  {
   "cell_type": "code",
   "execution_count": null,
   "metadata": {},
   "outputs": [],
   "source": [
    "X=list(k['Price To Book Value Per Share (Daily Time Series Ratio)'])\n",
    "Y = list(k['Enterprise Value To Operating Cash Flow (Daily Time Series Ratio)'])\n",
    "text = list(k['STOCKS'])\n",
    "color = ['#00274C' if i==1 else '#FFCB05' for i in list(k['results']) ]\n",
    "\n",
    "fig = go.Figure()\n",
    "fig.add_trace(go.Scatter(x=X, y=Y, mode = 'markers', text = text, marker = dict(color = color)))\n",
    "fig.show()"
   ]
  },
  {
   "cell_type": "code",
   "execution_count": null,
   "metadata": {},
   "outputs": [],
   "source": [
    "accu2"
   ]
  },
  {
   "cell_type": "code",
   "execution_count": null,
   "metadata": {},
   "outputs": [],
   "source": [
    "kmeans.cluster_centers_"
   ]
  },
  {
   "cell_type": "code",
   "execution_count": null,
   "metadata": {},
   "outputs": [],
   "source": [
    "X=list(k['Price To Book Value Per Share (Daily Time Series Ratio)'])\n",
    "Y = list(k['Forward P/E (Daily Time Series Ratio)'])\n",
    "text = list(k['STOCKS'])\n",
    "color = ['#00274C' if i==1 else '#FFCB05' for i in list(k['results']) ]\n",
    "\n",
    "fig = go.Figure()\n",
    "fig.add_trace(go.Scatter(x=X, y=Y, mode = 'markers', text = text, marker = dict(color = color)))\n",
    "fig.show()"
   ]
  },
  {
   "cell_type": "code",
   "execution_count": null,
   "metadata": {},
   "outputs": [],
   "source": [
    "X=list(k['Enterprise Value To Operating Cash Flow (Daily Time Series Ratio)'])\n",
    "Y = list(k['Forward P/E (Daily Time Series Ratio)'])\n",
    "text = list(k['STOCKS'])\n",
    "color = ['#00274C' if i==1 else '#FFCB05' for i in list(k['results']) ]\n",
    "\n",
    "fig = go.Figure()\n",
    "fig.add_trace(go.Scatter(x=X, y=Y, mode = 'markers', text = text, marker = dict(color = color)))\n",
    "fig.show()"
   ]
  },
  {
   "cell_type": "code",
   "execution_count": null,
   "metadata": {},
   "outputs": [],
   "source": [
    "Y=list(k['Price To Book Value Per Share (Daily Time Series Ratio)'])\n",
    "X = list(k['GICS Sector Code'])\n",
    "text = list(k['STOCKS'])\n",
    "color = ['#00274C' if i==1 else '#FFCB05' for i in list(k['results']) ]\n",
    "\n",
    "fig = go.Figure()\n",
    "fig.add_trace(go.Scatter(x=X, y=Y, mode = 'markers', text = text, marker = dict(color = color)))\n",
    "fig.show()"
   ]
  },
  {
   "cell_type": "code",
   "execution_count": null,
   "metadata": {},
   "outputs": [],
   "source": []
  }
 ],
 "metadata": {
  "kernelspec": {
   "display_name": "Python 3",
   "language": "python",
   "name": "python3"
  },
  "language_info": {
   "codemirror_mode": {
    "name": "ipython",
    "version": 3
   },
   "file_extension": ".py",
   "mimetype": "text/x-python",
   "name": "python",
   "nbconvert_exporter": "python",
   "pygments_lexer": "ipython3",
   "version": "3.7.4"
  }
 },
 "nbformat": 4,
 "nbformat_minor": 4
}
